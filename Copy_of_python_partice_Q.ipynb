{
  "nbformat": 4,
  "nbformat_minor": 0,
  "metadata": {
    "colab": {
      "provenance": [],
      "include_colab_link": true
    },
    "kernelspec": {
      "name": "python3",
      "display_name": "Python 3"
    },
    "language_info": {
      "name": "python"
    }
  },
  "cells": [
    {
      "cell_type": "markdown",
      "metadata": {
        "id": "view-in-github",
        "colab_type": "text"
      },
      "source": [
        "<a href=\"https://colab.research.google.com/github/sagar26398/-Appliances-Energy-Prediction-almatiten-/blob/main/Copy_of_python_partice_Q.ipynb\" target=\"_parent\"><img src=\"https://colab.research.google.com/assets/colab-badge.svg\" alt=\"Open In Colab\"/></a>"
      ]
    },
    {
      "cell_type": "code",
      "source": [
        "#What is the output of the following?\n",
        "\n",
        "x = 'abcd'\n",
        "for i in range(len(x)):\n",
        "     x[i].upper()\n",
        "print (x)"
      ],
      "metadata": {
        "colab": {
          "base_uri": "https://localhost:8080/"
        },
        "id": "yV6TiO75qMAM",
        "outputId": "a9f60eb3-d170-4feb-a819-8b1628428ef5"
      },
      "execution_count": null,
      "outputs": [
        {
          "output_type": "stream",
          "name": "stdout",
          "text": [
            "abcd\n"
          ]
        }
      ]
    },
    {
      "cell_type": "code",
      "source": [
        "x = 50\n",
        "def func():\n",
        "     global x\n",
        "     print('x is', x)\n",
        "     x = 2\n",
        "     print('Changed global x to', x)\n",
        "func()\n",
        "print('Value of x is', x)"
      ],
      "metadata": {
        "colab": {
          "base_uri": "https://localhost:8080/"
        },
        "id": "1lyS0X7kqxiT",
        "outputId": "0c3bcaae-4e0a-4e7e-fd36-f35db5ac101a"
      },
      "execution_count": null,
      "outputs": [
        {
          "output_type": "stream",
          "name": "stdout",
          "text": [
            "x is 50\n",
            "Changed global x to 2\n",
            "Value of x is 2\n"
          ]
        }
      ]
    },
    {
      "cell_type": "code",
      "source": [
        "\n",
        "import numpy as np\n",
        "\n",
        "dt = np.dtype([('age',np.int8)])\n",
        "\n",
        "a = np.array([(10,),(20,),(30,)], dtype = dt)\n",
        "\n",
        "print (a['age'])"
      ],
      "metadata": {
        "colab": {
          "base_uri": "https://localhost:8080/"
        },
        "id": "f9u1G0YwxEDk",
        "outputId": "489366dc-61f9-4803-ac4f-348b9539eedb"
      },
      "execution_count": null,
      "outputs": [
        {
          "output_type": "stream",
          "name": "stdout",
          "text": [
            "[10 20 30]\n"
          ]
        }
      ]
    },
    {
      "cell_type": "code",
      "source": [
        "a = [5,5,6,7,7,7]\n",
        "b = set(a)\n",
        "def test(lst):\n",
        "     if lst in b:\n",
        "        return 1\n",
        "     else:\n",
        "        return 0\n",
        "for i in filter(test, a):\n",
        "     print(i,end=\" \")"
      ],
      "metadata": {
        "colab": {
          "base_uri": "https://localhost:8080/"
        },
        "id": "fg_GDIIjw9vh",
        "outputId": "a1033763-720a-4593-df36-3b955cf230d2"
      },
      "execution_count": null,
      "outputs": [
        {
          "output_type": "stream",
          "name": "stdout",
          "text": [
            "5 5 6 7 7 7 "
          ]
        }
      ]
    },
    {
      "cell_type": "code",
      "source": [
        "arr = [3 , 2 , 5 , 6 , 0 , 7, 9]\n",
        "add1 = 0\n",
        "add2 = 0\n",
        "for elem in arr:\n",
        "    if (elem % 1 == 0):\n",
        "       add1 = add1 + elem\n",
        "       continue\n",
        "    if (elem % 3 == 0):\n",
        "       add2 = add2 + elem\n",
        "print(add1 , end=\" \")\n",
        "print(add2)"
      ],
      "metadata": {
        "colab": {
          "base_uri": "https://localhost:8080/"
        },
        "id": "4ea487INwqhP",
        "outputId": "eac16f5a-1e4a-4f94-d63f-57508028bc2a"
      },
      "execution_count": null,
      "outputs": [
        {
          "output_type": "stream",
          "name": "stdout",
          "text": [
            "32 0\n"
          ]
        }
      ]
    },
    {
      "cell_type": "code",
      "source": [
        "flag = \"\"\n",
        "a = 0\n",
        "i = 1\n",
        "while(a < 3):\n",
        "    j = 1\n",
        "    if flag:\n",
        "       i = j * i + 5\n",
        "    else:\n",
        "       i = j * i + 1\n",
        "       a = a + 1\n",
        "print(i)"
      ],
      "metadata": {
        "colab": {
          "base_uri": "https://localhost:8080/"
        },
        "id": "4xklgFfft5So",
        "outputId": "e999b01e-4d5e-4c3f-b2af-e067d398e57b"
      },
      "execution_count": null,
      "outputs": [
        {
          "output_type": "stream",
          "name": "stdout",
          "text": [
            "4\n"
          ]
        }
      ]
    },
    {
      "cell_type": "code",
      "source": [
        "\n",
        "l1=[1, 2, 3, [4]]\n",
        "l2=list(l1)\n",
        "id(l1)==id(l2)\n"
      ],
      "metadata": {
        "colab": {
          "base_uri": "https://localhost:8080/"
        },
        "id": "SY4Eu1eXtB3X",
        "outputId": "2c6d829b-8583-4ff2-ccca-2c94d784bbdc"
      },
      "execution_count": null,
      "outputs": [
        {
          "output_type": "execute_result",
          "data": {
            "text/plain": [
              "False"
            ]
          },
          "metadata": {},
          "execution_count": 9
        }
      ]
    },
    {
      "cell_type": "code",
      "source": [
        "import pandas as pd\n",
        "import numpy as np\n",
        "s = pd.Series(np.random.randn(4))\n",
        "print( s.ndim)"
      ],
      "metadata": {
        "colab": {
          "base_uri": "https://localhost:8080/"
        },
        "id": "DvI1_Efxrbpx",
        "outputId": "1a439fac-60e0-4223-cf37-0c6c27b653ea"
      },
      "execution_count": null,
      "outputs": [
        {
          "output_type": "stream",
          "name": "stdout",
          "text": [
            "1\n"
          ]
        }
      ]
    },
    {
      "cell_type": "code",
      "source": [
        "import numpy as np\n",
        "a = np.array([1, 2, 3,4,5], ndmin = 2)\n",
        "print (a)"
      ],
      "metadata": {
        "colab": {
          "base_uri": "https://localhost:8080/"
        },
        "id": "FhFnF2LDrGGu",
        "outputId": "86c4b7ca-3405-4bd6-ee2c-38c1f9210d99"
      },
      "execution_count": null,
      "outputs": [
        {
          "output_type": "stream",
          "name": "stdout",
          "text": [
            "[[1 2 3 4 5]]\n"
          ]
        }
      ]
    },
    {
      "cell_type": "code",
      "source": [
        " # Q1.reversing a string\n",
        " x = input('string:')\n",
        " y = x[::-1]\n",
        "print(y)"
      ],
      "metadata": {
        "colab": {
          "base_uri": "https://localhost:8080/"
        },
        "id": "wXg8BaFcwbil",
        "outputId": "e08050a5-2ec3-48a7-bb68-d4bf118ab936"
      },
      "execution_count": null,
      "outputs": [
        {
          "output_type": "stream",
          "name": "stdout",
          "text": [
            "string:Sumit\n",
            "timuS\n"
          ]
        }
      ]
    },
    {
      "cell_type": "code",
      "source": [
        "\n",
        "A = input()\n",
        "def revers_string(A):\n",
        "  return A[::-1]\n",
        "print(revers_string(A))"
      ],
      "metadata": {
        "colab": {
          "base_uri": "https://localhost:8080/"
        },
        "id": "Fx3ZwZpT8lpn",
        "outputId": "34f4d794-f5f0-40a5-875a-33ed14e885bb"
      },
      "execution_count": null,
      "outputs": [
        {
          "output_type": "stream",
          "name": "stdout",
          "text": [
            "Sumit\n",
            "timuS\n"
          ]
        }
      ]
    },
    {
      "cell_type": "code",
      "source": [
        "p = input()\n",
        "print(p.upper())"
      ],
      "metadata": {
        "id": "mGIdtXQPCijv",
        "outputId": "ad65fa69-b095-44dc-c6f3-b6f6594377ce",
        "colab": {
          "base_uri": "https://localhost:8080/"
        }
      },
      "execution_count": null,
      "outputs": [
        {
          "output_type": "stream",
          "name": "stdout",
          "text": [
            "you\n",
            "YOU\n"
          ]
        }
      ]
    },
    {
      "cell_type": "code",
      "source": [
        "strn = input()\n",
        "n = int(input())\n",
        "\n",
        "print(strn[:n]+strn[n+1:])\n"
      ],
      "metadata": {
        "id": "s5ChXs2QFGDp",
        "outputId": "7871b71a-af08-4eb2-9ef7-eae4d2e98d40",
        "colab": {
          "base_uri": "https://localhost:8080/"
        }
      },
      "execution_count": null,
      "outputs": [
        {
          "output_type": "stream",
          "name": "stdout",
          "text": [
            "python\n",
            "0\n",
            "ython\n"
          ]
        }
      ]
    },
    {
      "cell_type": "code",
      "source": [
        "i = input()\n",
        "s = i[:1]\n",
        "y = i[2:]\n",
        "print(s+y)"
      ],
      "metadata": {
        "id": "0BL7AYcPFF_6",
        "outputId": "2cb63f64-70a1-4439-f77e-d8efe5ccca95",
        "colab": {
          "base_uri": "https://localhost:8080/"
        }
      },
      "execution_count": null,
      "outputs": [
        {
          "output_type": "stream",
          "name": "stdout",
          "text": [
            "python\n",
            "pthon\n"
          ]
        }
      ]
    },
    {
      "cell_type": "code",
      "source": [
        "u = input()\n",
        "k = int(input())\n",
        "for i in range(len(u)):\n",
        "  if i ==u:\n",
        "    break\n",
        "  else:\n",
        "    continue"
      ],
      "metadata": {
        "id": "ICEdwB30EJ7j",
        "outputId": "977538a7-6f85-488c-d1ee-18300762cb50",
        "colab": {
          "base_uri": "https://localhost:8080/"
        }
      },
      "execution_count": null,
      "outputs": [
        {
          "name": "stdout",
          "output_type": "stream",
          "text": [
            "Python\n"
          ]
        }
      ]
    },
    {
      "cell_type": "code",
      "source": [
        "i = input()\n",
        "print(i[-2:])\n"
      ],
      "metadata": {
        "id": "bzUkalTHDpvx",
        "outputId": "ac04f282-89f5-4e11-bdd6-50ad34bc7cfa",
        "colab": {
          "base_uri": "https://localhost:8080/"
        }
      },
      "execution_count": null,
      "outputs": [
        {
          "output_type": "stream",
          "name": "stdout",
          "text": [
            "code\n",
            "de\n"
          ]
        }
      ]
    },
    {
      "cell_type": "code",
      "source": [
        "a= input()\n",
        "def polindarama(a):\n",
        "  if a[::-1] == a[::]:\n",
        "    return \"pol\"\n",
        "  else:\n",
        "    return \"Not\"\n",
        "print(polindarama(a))"
      ],
      "metadata": {
        "colab": {
          "base_uri": "https://localhost:8080/"
        },
        "id": "xMFmfxtCriIA",
        "outputId": "31c48396-6966-4db8-bd60-b65344f5507c"
      },
      "execution_count": null,
      "outputs": [
        {
          "output_type": "stream",
          "name": "stdout",
          "text": [
            "1123112\n",
            "Not\n"
          ]
        }
      ]
    },
    {
      "cell_type": "code",
      "source": [
        "y = input()\n",
        "k = \"\"\n",
        "for i in y:\n",
        "  k = i+k\n",
        "if k ==y:\n",
        "  print(\"yes\")\n",
        "else:\n",
        "  print(\"No\")"
      ],
      "metadata": {
        "id": "-yFaKifnHkKy",
        "outputId": "50f96c46-3f89-4524-946e-4750ee492874",
        "colab": {
          "base_uri": "https://localhost:8080/"
        }
      },
      "execution_count": null,
      "outputs": [
        {
          "output_type": "stream",
          "name": "stdout",
          "text": [
            "yoy\n",
            "yes\n"
          ]
        }
      ]
    },
    {
      "cell_type": "code",
      "source": [
        " x =input(\"Enter string:\")\n",
        " y = x [::-1].upper()\n",
        " print(y)"
      ],
      "metadata": {
        "colab": {
          "base_uri": "https://localhost:8080/"
        },
        "id": "JmvKGZ-34iLw",
        "outputId": "739e013d-1f0e-41ab-d4ec-6c83134bc25b"
      },
      "execution_count": null,
      "outputs": [
        {
          "output_type": "stream",
          "name": "stdout",
          "text": [
            "Enter string:sumit\n",
            "TIMUS\n"
          ]
        }
      ]
    },
    {
      "cell_type": "code",
      "execution_count": null,
      "metadata": {
        "colab": {
          "base_uri": "https://localhost:8080/"
        },
        "id": "HzyX5vjhu4HA",
        "outputId": "a2303024-df27-4b19-d39a-274adb144260"
      },
      "outputs": [
        {
          "output_type": "stream",
          "name": "stdout",
          "text": [
            "string:Sumit\n",
            "timus\n"
          ]
        }
      ],
      "source": [
        " # revarseing string use lower() funtion\n",
        " x = input('string:')\n",
        " y = x[::-1].lower()\n",
        "print(y)"
      ]
    },
    {
      "cell_type": "code",
      "source": [
        "x = input('string: ')\n",
        "y = x[::-1]\n",
        "if y == x:\n",
        "  print('y')"
      ],
      "metadata": {
        "colab": {
          "base_uri": "https://localhost:8080/"
        },
        "id": "Z72Jih5lvz8n",
        "outputId": "1d1a9be0-4b25-4dcf-e8ed-175fc56e0495"
      },
      "execution_count": null,
      "outputs": [
        {
          "name": "stdout",
          "output_type": "stream",
          "text": [
            "string: sbjwnd\n"
          ]
        }
      ]
    },
    {
      "cell_type": "code",
      "source": [
        "y = input()\n",
        "print(y.replace(\" \",\"\"))"
      ],
      "metadata": {
        "colab": {
          "base_uri": "https://localhost:8080/"
        },
        "id": "jasK2sCbIeVq",
        "outputId": "5db52bb1-a767-43cc-a1cf-ed627175c17d"
      },
      "execution_count": null,
      "outputs": [
        {
          "output_type": "stream",
          "name": "stdout",
          "text": [
            "oo o\n",
            "ooo\n"
          ]
        }
      ]
    },
    {
      "cell_type": "code",
      "source": [
        "a = input()\n",
        "b = \"\"\n",
        "for i in a:\n",
        "  if a != \" \":\n",
        "    b = b+i\n",
        "    continue\n",
        "print(b)"
      ],
      "metadata": {
        "colab": {
          "base_uri": "https://localhost:8080/"
        },
        "id": "Kcxmubl3K3fo",
        "outputId": "67b8f8cb-9a26-4105-ed95-4ce16af9abdf"
      },
      "execution_count": null,
      "outputs": [
        {
          "output_type": "stream",
          "name": "stdout",
          "text": [
            "saa sd\n",
            "saa sd\n"
          ]
        }
      ]
    },
    {
      "cell_type": "code",
      "source": [
        "users = [\n",
        "    { \"id\": 0, \"name\": \"Hero\" },\n",
        "    { \"id\": 1, \"name\": \"Dunn\" },\n",
        "    { \"id\": 2, \"name\": \"Sue\" },\n",
        "    { \"id\": 3, \"name\": \"Chi\" },\n",
        "    { \"id\": 4, \"name\": \"Thor\" },\n",
        "    { \"id\": 5, \"name\": \"Clive\" },\n",
        "    { \"id\": 6, \"name\": \"Hicks\" },\n",
        "    { \"id\": 7, \"name\": \"Devin\" },\n",
        "    { \"id\": 8, \"name\": \"Kate\" },\n",
        "    { \"id\": 9, \"name\": \"Klein\" }\n",
        "]"
      ],
      "metadata": {
        "id": "ugCb0VUeh3Df"
      },
      "execution_count": null,
      "outputs": []
    },
    {
      "cell_type": "code",
      "source": [
        "friendships = [(0, 1), (0, 2), (1, 2), (1, 3), (2, 3), (3, 4),\n",
        "               (4, 5), (5, 6), (5, 7), (6, 8), (7, 8), (8, 9)]"
      ],
      "metadata": {
        "id": "CeXAICA9h_86"
      },
      "execution_count": null,
      "outputs": []
    },
    {
      "cell_type": "code",
      "source": [
        "for i, j in friendships:\n",
        "    # this works because users[i] is the user whose id is i\n",
        "    users[i][\"friends\"].append(users[j]) # add i as a friend of j\n",
        "    users[j][\"friends\"].append(users[i]) # add j as a friend of i"
      ],
      "metadata": {
        "id": "osgsYqiajJZC"
      },
      "execution_count": null,
      "outputs": []
    },
    {
      "cell_type": "code",
      "source": [
        "def number_of_friends(user):\n",
        "    \"\"\"how many friends does _user_ have?\"\"\"\n",
        "    return len(user[\"friends\"])                   # length of friend_ids list\n",
        "\n",
        "total_connections = sum(number_of_friends(user)\n",
        "                        for user in users)        # 24"
      ],
      "metadata": {
        "id": "4y0lLLCHj3zF"
      },
      "execution_count": null,
      "outputs": []
    },
    {
      "cell_type": "code",
      "source": [
        "# create a list (user_id, number_of_friends)\n",
        "num_friends_by_id = [(user[\"id\"], number_of_friends(user))\n",
        "                     for user in users]\n",
        "\n",
        "sorted(num_friends_by_id,                                # get it sorted\n",
        "       key=lambda (user_id, num_friends): num_friends,   # by num_friends\n",
        "       reverse=True)                                     # largest to smallest\n",
        "\n",
        "# each pair is (user_id, num_friends)\n",
        "# [(1, 3), (2, 3), (3, 3), (5, 3), (8, 3),\n",
        "#  (0, 2), (4, 2), (6, 2), (7, 2), (9, 1)]"
      ],
      "metadata": {
        "colab": {
          "base_uri": "https://localhost:8080/",
          "height": 130
        },
        "id": "4SrQ3MdMj3wO",
        "outputId": "4bc41608-41bf-4b94-c39b-6cfb029f4812"
      },
      "execution_count": null,
      "outputs": [
        {
          "output_type": "error",
          "ename": "SyntaxError",
          "evalue": "ignored",
          "traceback": [
            "\u001b[0;36m  File \u001b[0;32m\"<ipython-input-6-b7842289a22b>\"\u001b[0;36m, line \u001b[0;32m6\u001b[0m\n\u001b[0;31m    key=lambda (user_id, num_friends): num_friends,   # by num_friends\u001b[0m\n\u001b[0m               ^\u001b[0m\n\u001b[0;31mSyntaxError\u001b[0m\u001b[0;31m:\u001b[0m invalid syntax\n"
          ]
        }
      ]
    },
    {
      "cell_type": "code",
      "source": [
        "t = [2,3,4,5]\n",
        "k = int(input())\n",
        "n = [k,k,k,k]\n",
        "n<t"
      ],
      "metadata": {
        "colab": {
          "base_uri": "https://localhost:8080/"
        },
        "id": "a2Pt5i5hGo3l",
        "outputId": "230ebdbd-3dda-407a-935f-aa660b694242"
      },
      "execution_count": null,
      "outputs": [
        {
          "name": "stdout",
          "output_type": "stream",
          "text": [
            "1\n"
          ]
        },
        {
          "output_type": "execute_result",
          "data": {
            "text/plain": [
              "True"
            ]
          },
          "metadata": {},
          "execution_count": 17
        }
      ]
    },
    {
      "cell_type": "code",
      "source": [
        "t = [2,3,4,5]\n",
        "k = 1\n",
        "n = [k,k,k,k]\n",
        "n<t"
      ],
      "metadata": {
        "colab": {
          "base_uri": "https://localhost:8080/"
        },
        "id": "BuQFF1r5H8i5",
        "outputId": "8aa47963-8940-49ec-9f28-752ee88780ce"
      },
      "execution_count": null,
      "outputs": [
        {
          "output_type": "execute_result",
          "data": {
            "text/plain": [
              "True"
            ]
          },
          "metadata": {},
          "execution_count": 18
        }
      ]
    },
    {
      "cell_type": "code",
      "source": [
        "num = eval([3,2,4,5])\n",
        "k = int(input())\n",
        "print(all(x > n for x in num))"
      ],
      "metadata": {
        "colab": {
          "base_uri": "https://localhost:8080/",
          "height": 200
        },
        "id": "_SSERF8OMDDm",
        "outputId": "14005561-dbcd-4dc2-a817-6b315773e259"
      },
      "execution_count": null,
      "outputs": [
        {
          "output_type": "error",
          "ename": "TypeError",
          "evalue": "ignored",
          "traceback": [
            "\u001b[0;31m---------------------------------------------------------------------------\u001b[0m",
            "\u001b[0;31mTypeError\u001b[0m                                 Traceback (most recent call last)",
            "\u001b[0;32m<ipython-input-34-ec9888c7c2ae>\u001b[0m in \u001b[0;36m<cell line: 1>\u001b[0;34m()\u001b[0m\n\u001b[0;32m----> 1\u001b[0;31m \u001b[0mnum\u001b[0m \u001b[0;34m=\u001b[0m \u001b[0meval\u001b[0m\u001b[0;34m(\u001b[0m\u001b[0;34m[\u001b[0m\u001b[0;36m3\u001b[0m\u001b[0;34m,\u001b[0m\u001b[0;36m2\u001b[0m\u001b[0;34m,\u001b[0m\u001b[0;36m4\u001b[0m\u001b[0;34m,\u001b[0m\u001b[0;36m5\u001b[0m\u001b[0;34m]\u001b[0m\u001b[0;34m)\u001b[0m\u001b[0;34m\u001b[0m\u001b[0;34m\u001b[0m\u001b[0m\n\u001b[0m\u001b[1;32m      2\u001b[0m \u001b[0mk\u001b[0m \u001b[0;34m=\u001b[0m \u001b[0mint\u001b[0m\u001b[0;34m(\u001b[0m\u001b[0minput\u001b[0m\u001b[0;34m(\u001b[0m\u001b[0;34m)\u001b[0m\u001b[0;34m)\u001b[0m\u001b[0;34m\u001b[0m\u001b[0;34m\u001b[0m\u001b[0m\n\u001b[1;32m      3\u001b[0m \u001b[0mprint\u001b[0m\u001b[0;34m(\u001b[0m\u001b[0mall\u001b[0m\u001b[0;34m(\u001b[0m\u001b[0mx\u001b[0m \u001b[0;34m>\u001b[0m \u001b[0mn\u001b[0m \u001b[0;32mfor\u001b[0m \u001b[0mx\u001b[0m \u001b[0;32min\u001b[0m \u001b[0mnum\u001b[0m\u001b[0;34m)\u001b[0m\u001b[0;34m)\u001b[0m\u001b[0;34m\u001b[0m\u001b[0;34m\u001b[0m\u001b[0m\n",
            "\u001b[0;31mTypeError\u001b[0m: eval() arg 1 must be a string, bytes or code object"
          ]
        }
      ]
    },
    {
      "cell_type": "code",
      "source": [
        "l = [3,4,5,6]\n",
        "k = int(input())\n",
        "for i in l:\n",
        "  if i >k:\n",
        "    print(True)\n",
        "    break\n",
        "  else:\n",
        "    print(False)\n"
      ],
      "metadata": {
        "colab": {
          "base_uri": "https://localhost:8080/"
        },
        "id": "5dF7Fy_UNaAg",
        "outputId": "aaf5f27f-afcb-4755-b1a9-a42974198d60"
      },
      "execution_count": null,
      "outputs": [
        {
          "output_type": "stream",
          "name": "stdout",
          "text": [
            "1\n",
            "True\n"
          ]
        }
      ]
    },
    {
      "cell_type": "code",
      "source": [
        "num = eval(input())\n",
        "n = int(input())\n",
        "print(all(x > n for x in num))"
      ],
      "metadata": {
        "colab": {
          "base_uri": "https://localhost:8080/",
          "height": 235
        },
        "id": "LylZqMR1Imzf",
        "outputId": "54562530-724e-4900-9521-3c24ed7706bb"
      },
      "execution_count": null,
      "outputs": [
        {
          "name": "stdout",
          "output_type": "stream",
          "text": [
            "4\n",
            "1\n"
          ]
        },
        {
          "output_type": "error",
          "ename": "TypeError",
          "evalue": "ignored",
          "traceback": [
            "\u001b[0;31m---------------------------------------------------------------------------\u001b[0m",
            "\u001b[0;31mTypeError\u001b[0m                                 Traceback (most recent call last)",
            "\u001b[0;32m<ipython-input-30-459c937e02b4>\u001b[0m in \u001b[0;36m<cell line: 3>\u001b[0;34m()\u001b[0m\n\u001b[1;32m      1\u001b[0m \u001b[0mnum\u001b[0m \u001b[0;34m=\u001b[0m \u001b[0meval\u001b[0m\u001b[0;34m(\u001b[0m\u001b[0minput\u001b[0m\u001b[0;34m(\u001b[0m\u001b[0;34m)\u001b[0m\u001b[0;34m)\u001b[0m\u001b[0;34m\u001b[0m\u001b[0;34m\u001b[0m\u001b[0m\n\u001b[1;32m      2\u001b[0m \u001b[0mn\u001b[0m \u001b[0;34m=\u001b[0m \u001b[0mint\u001b[0m\u001b[0;34m(\u001b[0m\u001b[0minput\u001b[0m\u001b[0;34m(\u001b[0m\u001b[0;34m)\u001b[0m\u001b[0;34m)\u001b[0m\u001b[0;34m\u001b[0m\u001b[0;34m\u001b[0m\u001b[0m\n\u001b[0;32m----> 3\u001b[0;31m \u001b[0mprint\u001b[0m\u001b[0;34m(\u001b[0m\u001b[0mall\u001b[0m\u001b[0;34m(\u001b[0m\u001b[0mx\u001b[0m \u001b[0;34m>\u001b[0m \u001b[0mn\u001b[0m \u001b[0;32mfor\u001b[0m \u001b[0mx\u001b[0m \u001b[0;32min\u001b[0m \u001b[0mnum\u001b[0m\u001b[0;34m)\u001b[0m\u001b[0;34m)\u001b[0m\u001b[0;34m\u001b[0m\u001b[0;34m\u001b[0m\u001b[0m\n\u001b[0m",
            "\u001b[0;31mTypeError\u001b[0m: 'int' object is not iterable"
          ]
        }
      ]
    },
    {
      "cell_type": "code",
      "source": [
        "y = eval(input())\n",
        "n = int(input())\n",
        "for x in y:\n",
        "  print(all(x>n))\n"
      ],
      "metadata": {
        "colab": {
          "base_uri": "https://localhost:8080/",
          "height": 252
        },
        "id": "e5k3-f3uJntq",
        "outputId": "61451b3e-9708-4493-b926-5d9ac8333045"
      },
      "execution_count": null,
      "outputs": [
        {
          "name": "stdout",
          "output_type": "stream",
          "text": [
            "1\n",
            "0\n"
          ]
        },
        {
          "output_type": "error",
          "ename": "TypeError",
          "evalue": "ignored",
          "traceback": [
            "\u001b[0;31m---------------------------------------------------------------------------\u001b[0m",
            "\u001b[0;31mTypeError\u001b[0m                                 Traceback (most recent call last)",
            "\u001b[0;32m<ipython-input-29-f97eaf647b97>\u001b[0m in \u001b[0;36m<cell line: 3>\u001b[0;34m()\u001b[0m\n\u001b[1;32m      1\u001b[0m \u001b[0my\u001b[0m \u001b[0;34m=\u001b[0m \u001b[0meval\u001b[0m\u001b[0;34m(\u001b[0m\u001b[0minput\u001b[0m\u001b[0;34m(\u001b[0m\u001b[0;34m)\u001b[0m\u001b[0;34m)\u001b[0m\u001b[0;34m\u001b[0m\u001b[0;34m\u001b[0m\u001b[0m\n\u001b[1;32m      2\u001b[0m \u001b[0mn\u001b[0m \u001b[0;34m=\u001b[0m \u001b[0mint\u001b[0m\u001b[0;34m(\u001b[0m\u001b[0minput\u001b[0m\u001b[0;34m(\u001b[0m\u001b[0;34m)\u001b[0m\u001b[0;34m)\u001b[0m\u001b[0;34m\u001b[0m\u001b[0;34m\u001b[0m\u001b[0m\n\u001b[0;32m----> 3\u001b[0;31m \u001b[0;32mfor\u001b[0m \u001b[0mx\u001b[0m \u001b[0;32min\u001b[0m \u001b[0my\u001b[0m\u001b[0;34m:\u001b[0m\u001b[0;34m\u001b[0m\u001b[0;34m\u001b[0m\u001b[0m\n\u001b[0m\u001b[1;32m      4\u001b[0m   \u001b[0mprint\u001b[0m\u001b[0;34m(\u001b[0m\u001b[0mall\u001b[0m\u001b[0;34m(\u001b[0m\u001b[0mx\u001b[0m\u001b[0;34m>\u001b[0m\u001b[0mn\u001b[0m\u001b[0;34m)\u001b[0m\u001b[0;34m)\u001b[0m\u001b[0;34m\u001b[0m\u001b[0;34m\u001b[0m\u001b[0m\n",
            "\u001b[0;31mTypeError\u001b[0m: 'int' object is not iterable"
          ]
        }
      ]
    },
    {
      "cell_type": "code",
      "source": [
        "k = eval(\"2+3\")\n",
        "k = "
      ],
      "metadata": {
        "colab": {
          "base_uri": "https://localhost:8080/"
        },
        "id": "KICX87BvKeuo",
        "outputId": "66da55f5-ff53-48d8-9bda-6da8330e15b1"
      },
      "execution_count": null,
      "outputs": [
        {
          "output_type": "execute_result",
          "data": {
            "text/plain": [
              "int"
            ]
          },
          "metadata": {},
          "execution_count": 24
        }
      ]
    },
    {
      "cell_type": "code",
      "source": [
        "num = eval(input())\n",
        "print(num)"
      ],
      "metadata": {
        "colab": {
          "base_uri": "https://localhost:8080/",
          "height": 287
        },
        "id": "FCAfyDyJInzg",
        "outputId": "a83dc97a-7ca0-48d6-ac1e-ca3364b91437"
      },
      "execution_count": null,
      "outputs": [
        {
          "name": "stdout",
          "output_type": "stream",
          "text": [
            "3 4 5 6 7\n"
          ]
        },
        {
          "output_type": "error",
          "ename": "SyntaxError",
          "evalue": "ignored",
          "traceback": [
            "Traceback \u001b[0;36m(most recent call last)\u001b[0m:\n",
            "  File \u001b[1;32m\"/usr/local/lib/python3.9/dist-packages/IPython/core/interactiveshell.py\"\u001b[0m, line \u001b[1;32m3553\u001b[0m, in \u001b[1;35mrun_code\u001b[0m\n    exec(code_obj, self.user_global_ns, self.user_ns)\n",
            "\u001b[0;36m  File \u001b[0;32m\"<ipython-input-22-4345aae50d64>\"\u001b[0;36m, line \u001b[0;32m1\u001b[0;36m, in \u001b[0;35m<cell line: 1>\u001b[0;36m\u001b[0m\n\u001b[0;31m    num = eval(input())\u001b[0m\n",
            "\u001b[0;36m  File \u001b[0;32m\"<string>\"\u001b[0;36m, line \u001b[0;32m1\u001b[0m\n\u001b[0;31m    3 4 5 6 7\u001b[0m\n\u001b[0m      ^\u001b[0m\n\u001b[0;31mSyntaxError\u001b[0m\u001b[0;31m:\u001b[0m invalid syntax\n"
          ]
        }
      ]
    },
    {
      "cell_type": "code",
      "source": [
        "for user in users:\n",
        "    user[\"friends\"] = []"
      ],
      "metadata": {
        "id": "j-vrU1gHiyxW"
      },
      "execution_count": null,
      "outputs": []
    },
    {
      "cell_type": "code",
      "source": [
        "# how to remove spaces from a string in pyhton?\n",
        "\n",
        "A = input('Enter u r string')\n",
        "print(A.replace(\" \",\"\"))"
      ],
      "metadata": {
        "colab": {
          "base_uri": "https://localhost:8080/"
        },
        "id": "cR--i6ZehLLr",
        "outputId": "3116928d-7860-421b-e793-41ea4bbcec02"
      },
      "execution_count": null,
      "outputs": [
        {
          "output_type": "stream",
          "name": "stdout",
          "text": [
            "Enter u r stringsumit gaikwad\n",
            "sumitgaikwad\n"
          ]
        }
      ]
    },
    {
      "cell_type": "code",
      "source": [
        "q = input()\n",
        "def removespace(q):\n",
        "  return q.replace(\" \",\"\")\n",
        "print(removespace(q))"
      ],
      "metadata": {
        "colab": {
          "base_uri": "https://localhost:8080/"
        },
        "id": "uVHeV-wlsISd",
        "outputId": "32349bd0-74b1-40f4-8d5b-957f46482c34"
      },
      "execution_count": null,
      "outputs": [
        {
          "output_type": "stream",
          "name": "stdout",
          "text": [
            "s u m i t\n",
            "sumit\n"
          ]
        }
      ]
    },
    {
      "cell_type": "code",
      "source": [
        "A = input()\n",
        "def repl_space(A):\n",
        "  return A.replace(\" \",\"\")\n",
        "print(repl_space(A))"
      ],
      "metadata": {
        "colab": {
          "base_uri": "https://localhost:8080/"
        },
        "id": "ES-LgtwnvOLI",
        "outputId": "251b655c-4505-47f4-95a6-bd10bda824f3"
      },
      "execution_count": null,
      "outputs": [
        {
          "output_type": "stream",
          "name": "stdout",
          "text": [
            "Sumit gaikwad\n",
            "Sumitgaikwad\n"
          ]
        }
      ]
    },
    {
      "cell_type": "code",
      "source": [
        "a = input()\n",
        "def revs_(a):\n",
        "  return a[::-1]\n",
        "print(revs_(a))"
      ],
      "metadata": {
        "colab": {
          "base_uri": "https://localhost:8080/"
        },
        "id": "FWgSe8eONa-M",
        "outputId": "0bbbe478-adac-48e2-8dcb-0398aa8ccdc9"
      },
      "execution_count": null,
      "outputs": [
        {
          "output_type": "stream",
          "name": "stdout",
          "text": [
            "Sumit\n",
            "timuS\n"
          ]
        }
      ]
    },
    {
      "cell_type": "code",
      "source": [
        "A = input()\n",
        "def relc_space(A):\n",
        "  return A.replace(\" \",\"\")\n",
        "print(relc_space(A))"
      ],
      "metadata": {
        "colab": {
          "base_uri": "https://localhost:8080/"
        },
        "id": "7TBZVK8uN0b4",
        "outputId": "91772849-4ca1-476c-9486-30495b0755a8"
      },
      "execution_count": null,
      "outputs": [
        {
          "output_type": "stream",
          "name": "stdout",
          "text": [
            "sumit gaikwad \n",
            "sumitgaikwad\n"
          ]
        }
      ]
    },
    {
      "cell_type": "code",
      "source": [
        "# Q.2Python Program to Check whether Year is a Leap Year or not\n",
        "# User enters the year\n",
        "year = int(input(\"Enter Year: \"))\n",
        "\n",
        "# Leap Year Check\n",
        "if year % 5 == 0 and year % 100 != 0:\n",
        "    print(year, \"is a Leap Year\")\n",
        "elif year % 100 == 0:\n",
        "    print(year, \"is not a Leap Year\")\n",
        "elif year % 400 ==0:\n",
        "    print(year, \"is a Leap Year\")\n",
        "else:\n",
        "    print(year, \"is not a Leap Year\")"
      ],
      "metadata": {
        "colab": {
          "base_uri": "https://localhost:8080/"
        },
        "id": "-x4fcPGYwEuD",
        "outputId": "6ffc4b85-d052-4240-81d8-52eabe367b64"
      },
      "execution_count": null,
      "outputs": [
        {
          "output_type": "stream",
          "name": "stdout",
          "text": [
            "Enter Year: 1996\n",
            "1996 is not a Leap Year\n"
          ]
        }
      ]
    },
    {
      "cell_type": "code",
      "source": [
        "year = int(input())\n",
        "def leap_year(year):\n",
        "  if year % 4 == 0:\n",
        "    return 'leap'\n",
        "  else:\n",
        "    return 'Not'\n",
        "print(leap_year(year))"
      ],
      "metadata": {
        "colab": {
          "base_uri": "https://localhost:8080/"
        },
        "id": "HN6IXrobm6Nm",
        "outputId": "8fd6c3b5-3245-4132-cdac-4d1967c34fe2"
      },
      "execution_count": null,
      "outputs": [
        {
          "output_type": "stream",
          "name": "stdout",
          "text": [
            "2000\n",
            "leap\n"
          ]
        }
      ]
    },
    {
      "cell_type": "code",
      "source": [
        "user =[\n",
        "    { \"id\": 0, \"name\": \"Hero\" },\n",
        "    { \"id\": 1, \"name\": \"Dunn\" },\n",
        "    { \"id\": 2, \"name\": \"Sue\" },\n",
        "    { \"id\": 3, \"name\": \"Chi\" },\n",
        "    { \"id\": 4, \"name\": \"Thor\" },\n",
        "    { \"id\": 5, \"name\": \"Clive\" },\n",
        "    { \"id\": 6, \"name\": \"Hicks\" },\n",
        "    { \"id\": 7, \"name\": \"Devin\" },\n",
        "    { \"id\": 8, \"name\": \"Kate\" },\n",
        "    { \"id\": 9, \"name\": \"Klein\" },\n",
        "    {\"id\":10,\"Name\":\"ramnath\"},\n",
        "    {\"id\":11,\"Name\":\"don\"}\n",
        "]"
      ],
      "metadata": {
        "id": "4qbVw8Wu9R4X"
      },
      "execution_count": null,
      "outputs": []
    },
    {
      "cell_type": "code",
      "source": [
        "user"
      ],
      "metadata": {
        "colab": {
          "base_uri": "https://localhost:8080/"
        },
        "id": "K61x7vh-90b0",
        "outputId": "24d7a5c7-9a84-49f6-c9c8-af2822837952"
      },
      "execution_count": null,
      "outputs": [
        {
          "output_type": "execute_result",
          "data": {
            "text/plain": [
              "[{'id': 0, 'name': 'Hero'},\n",
              " {'id': 1, 'name': 'Dunn'},\n",
              " {'id': 2, 'name': 'Sue'},\n",
              " {'id': 3, 'name': 'Chi'},\n",
              " {'id': 4, 'name': 'Thor'},\n",
              " {'id': 5, 'name': 'Clive'},\n",
              " {'id': 6, 'name': 'Hicks'},\n",
              " {'id': 7, 'name': 'Devin'},\n",
              " {'id': 8, 'name': 'Kate'},\n",
              " {'id': 9, 'name': 'Klein'},\n",
              " {'id': 10, 'Name': 'ramnath'},\n",
              " {'id': 11, 'Name': 'don'}]"
            ]
          },
          "metadata": {},
          "execution_count": 3
        }
      ]
    },
    {
      "cell_type": "code",
      "source": [],
      "metadata": {
        "id": "2748tO5_94Nu"
      },
      "execution_count": null,
      "outputs": []
    },
    {
      "cell_type": "code",
      "source": [
        "y = int(input())\n",
        "def leap_year(y):\n",
        "  if y % 4 == 0:\n",
        "    return 'its leap year'\n",
        "  else:\n",
        "    return 'Not leap year'\n",
        "print(leap_year(y))"
      ],
      "metadata": {
        "colab": {
          "base_uri": "https://localhost:8080/"
        },
        "id": "FNDxaykNsffc",
        "outputId": "d13759e7-5f59-4982-beed-4685e686132f"
      },
      "execution_count": null,
      "outputs": [
        {
          "output_type": "stream",
          "name": "stdout",
          "text": [
            "1998\n",
            "Not leap year\n"
          ]
        }
      ]
    },
    {
      "cell_type": "code",
      "source": [
        "year = int(input())\n",
        "def leap_year(year):\n",
        "  if year % 4 == 0:\n",
        "    return 'leap year'\n",
        "  else:\n",
        "    return 'Not'\n",
        "print(leap_year(year))"
      ],
      "metadata": {
        "colab": {
          "base_uri": "https://localhost:8080/"
        },
        "id": "NnN-tjRrOMIr",
        "outputId": "acbbaf3b-a91f-4d52-9270-5b5e6a21893d"
      },
      "execution_count": null,
      "outputs": [
        {
          "output_type": "stream",
          "name": "stdout",
          "text": [
            "2000\n",
            "leap year\n"
          ]
        }
      ]
    },
    {
      "cell_type": "markdown",
      "source": [
        "HackerRanK problem "
      ],
      "metadata": {
        "id": "roXq7vggFuCj"
      }
    },
    {
      "cell_type": "code",
      "source": [
        "k = int(input().strip())\n",
        "for i in range(1,n+1):\n",
        "  print(i,end=\"\")"
      ],
      "metadata": {
        "colab": {
          "base_uri": "https://localhost:8080/",
          "height": 217
        },
        "id": "-jD4bBYwQA91",
        "outputId": "f6454eac-003b-42b2-9e98-4f583f420d43"
      },
      "execution_count": null,
      "outputs": [
        {
          "name": "stdout",
          "output_type": "stream",
          "text": [
            "5\n"
          ]
        },
        {
          "output_type": "error",
          "ename": "TypeError",
          "evalue": "ignored",
          "traceback": [
            "\u001b[0;31m---------------------------------------------------------------------------\u001b[0m",
            "\u001b[0;31mTypeError\u001b[0m                                 Traceback (most recent call last)",
            "\u001b[0;32m<ipython-input-39-1f91430f4be0>\u001b[0m in \u001b[0;36m<cell line: 2>\u001b[0;34m()\u001b[0m\n\u001b[1;32m      1\u001b[0m \u001b[0mk\u001b[0m \u001b[0;34m=\u001b[0m \u001b[0mint\u001b[0m\u001b[0;34m(\u001b[0m\u001b[0minput\u001b[0m\u001b[0;34m(\u001b[0m\u001b[0;34m)\u001b[0m\u001b[0;34m.\u001b[0m\u001b[0mstrip\u001b[0m\u001b[0;34m(\u001b[0m\u001b[0;34m)\u001b[0m\u001b[0;34m)\u001b[0m\u001b[0;34m\u001b[0m\u001b[0;34m\u001b[0m\u001b[0m\n\u001b[0;32m----> 2\u001b[0;31m \u001b[0;32mfor\u001b[0m \u001b[0mi\u001b[0m \u001b[0;32min\u001b[0m \u001b[0mrange\u001b[0m\u001b[0;34m(\u001b[0m\u001b[0;36m1\u001b[0m\u001b[0;34m,\u001b[0m\u001b[0mn\u001b[0m\u001b[0;34m+\u001b[0m\u001b[0;36m1\u001b[0m\u001b[0;34m)\u001b[0m\u001b[0;34m:\u001b[0m\u001b[0;34m\u001b[0m\u001b[0;34m\u001b[0m\u001b[0m\n\u001b[0m\u001b[1;32m      3\u001b[0m   \u001b[0mprint\u001b[0m\u001b[0;34m(\u001b[0m\u001b[0mi\u001b[0m\u001b[0;34m,\u001b[0m\u001b[0mend\u001b[0m\u001b[0;34m=\u001b[0m\u001b[0;34m\"\"\u001b[0m\u001b[0;34m)\u001b[0m\u001b[0;34m\u001b[0m\u001b[0;34m\u001b[0m\u001b[0m\n",
            "\u001b[0;31mTypeError\u001b[0m: can only concatenate list (not \"int\") to list"
          ]
        }
      ]
    },
    {
      "cell_type": "code",
      "source": [
        "n = int(input().strip())\n",
        "for i in range(1, n + 1):\n",
        "    print(i, end='')\n"
      ],
      "metadata": {
        "colab": {
          "base_uri": "https://localhost:8080/"
        },
        "id": "smWhAYeM89xq",
        "outputId": "575af140-3807-4d72-9621-1d18a1546401"
      },
      "execution_count": null,
      "outputs": [
        {
          "output_type": "stream",
          "name": "stdout",
          "text": [
            "3\n",
            "123"
          ]
        }
      ]
    },
    {
      "cell_type": "markdown",
      "source": [
        "Task 2: Shape and Reshape\n",
        "You are given a space separated list of nine integers. Your task is to convert this list into a X NumPy array.\n",
        "\n",
        "Input Format\n",
        "\n",
        "A single line of input containing space separated integers.\n",
        "\n",
        "Output Format\n",
        "\n",
        "Print the X NumPy array.\n",
        "\n",
        "Sample Input\n",
        "\n",
        "1 2 3 4 5 6 7 8 9\n",
        "\n",
        "Sample Output\n",
        "\n",
        "[ [ 1 2 3 ]\n",
        "\n",
        "[ 4 5 6 ]\n",
        "\n",
        "[ 7 8 9 ] ]"
      ],
      "metadata": {
        "id": "KjnqHE6uFqYn"
      }
    },
    {
      "cell_type": "code",
      "source": [
        "\n",
        "\n",
        "import numpy\n",
        "\n",
        "def arrays(arr):\n",
        "    arr1 = numpy.array(arr, dtype = int)\n",
        "    arr2 = arr1.reshape(3, 3)\n",
        "    return arr2\n",
        "\n",
        "arr = input().strip().split(' ')\n",
        "result = arrays(arr)\n",
        "print(result)"
      ],
      "metadata": {
        "colab": {
          "base_uri": "https://localhost:8080/"
        },
        "id": "kyY-v7c3EMMF",
        "outputId": "c4561a94-f1f1-4d94-9ee0-514f692fe8c0"
      },
      "execution_count": null,
      "outputs": [
        {
          "output_type": "stream",
          "name": "stdout",
          "text": [
            "1 2 3 4 5 6 7 8 9\n",
            "[[1 2 3]\n",
            " [4 5 6]\n",
            " [7 8 9]]\n"
          ]
        }
      ]
    },
    {
      "cell_type": "markdown",
      "source": [
        " Transpose and Flatten\n",
        "You are given a N X M integer array matrix with space separated elements (N = rows and M = columns). Your task is to print the transpose and flatten results.\n",
        "\n",
        "Input Format\n",
        "\n",
        "The first line contains the space separated values of N and M. The next lines contains the space separated elements of M columns.\n",
        "\n",
        "Output Format\n",
        "\n",
        "First, print the transpose array and then print the flatten.\n",
        "\n",
        "Sample Input\n",
        "\n",
        "2 2\n",
        "\n",
        "1 2\n",
        "\n",
        "3 4\n",
        "\n",
        "Sample Output\n",
        "\n",
        "[[1 3]\n",
        "\n",
        "[2 4]]\n",
        "\n",
        "[1 2 3 4]"
      ],
      "metadata": {
        "id": "9BhQVBwQHGP0"
      }
    },
    {
      "cell_type": "code",
      "source": [
        "import numpy\n",
        "\n",
        "n, m = map(int, input().split())\n",
        "array = numpy.array([input().strip().split() for _ in range(n)], int)\n",
        "print (array.transpose())\n",
        "print (array.flatten())"
      ],
      "metadata": {
        "colab": {
          "base_uri": "https://localhost:8080/"
        },
        "id": "G5HO_RINHF25",
        "outputId": "4a76c15e-11b7-4525-f98f-ed4db1fa31d7"
      },
      "execution_count": null,
      "outputs": [
        {
          "output_type": "stream",
          "name": "stdout",
          "text": [
            "2 2\n",
            "1 3\n",
            "4 4\n",
            "[[1 4]\n",
            " [3 4]]\n",
            "[1 3 4 4]\n"
          ]
        }
      ]
    },
    {
      "cell_type": "code",
      "source": [
        "import numpy\n",
        "\n",
        "my_array = numpy.array([9,8,7,6,5,4,3,2,1])\n",
        "X = numpy.reshape(my_array,(3,3))\n",
        "print(X)\n",
        "\n"
      ],
      "metadata": {
        "colab": {
          "base_uri": "https://localhost:8080/"
        },
        "id": "ECsY_W__Bs4i",
        "outputId": "841d70fa-bb2e-4f66-8940-20d3e1f3cdf6"
      },
      "execution_count": null,
      "outputs": [
        {
          "output_type": "stream",
          "name": "stdout",
          "text": [
            "[[9 8 7]\n",
            " [6 5 4]\n",
            " [3 2 1]]\n"
          ]
        }
      ]
    },
    {
      "cell_type": "markdown",
      "source": [
        " Concatenate\n",
        "You are given two integer arrays of size N X P and M X P (N & M are rows, and P is the column). Your task is to concatenate the arrays along axis 0.\n",
        "\n",
        "Input Format\n",
        "\n",
        "The first line contains space separated integers N, M and P. The next N lines contains the space separated elements of the P columns. After that, the next M lines contains the space separated elements of the P columns.\n",
        "\n",
        "Output Format\n",
        "\n",
        "Print the concatenated array of size (N+M)XP.\n",
        "\n",
        "Sample Input\n",
        "\n",
        "4 3 2\n",
        "\n",
        "1 2\n",
        "\n",
        "1 2\n",
        "\n",
        "1 2\n",
        "\n",
        "1 2\n",
        "\n",
        "3 4\n",
        "\n",
        "3 4\n",
        "\n",
        "3 4\n",
        "\n",
        "Sample Output\n",
        "\n",
        "[[1 2]\n",
        "\n",
        "[1 2]\n",
        "\n",
        "[1 2]\n",
        "\n",
        "[1 2]\n",
        "\n",
        "[3 4]\n",
        "\n",
        "[3 4]\n",
        "\n",
        "[3 4]]"
      ],
      "metadata": {
        "id": "mhJziVdwH6Xb"
      }
    },
    {
      "cell_type": "code",
      "source": [
        "x , y, z = map(int, input().split())\n",
        "array = numpy.array([input().split() for i in range(x+y)], int)"
      ],
      "metadata": {
        "colab": {
          "base_uri": "https://localhost:8080/",
          "height": 200
        },
        "id": "dK1h6dOFWaZ6",
        "outputId": "c411f33f-2592-49b1-c36d-02912c193957"
      },
      "execution_count": null,
      "outputs": [
        {
          "name": "stdout",
          "output_type": "stream",
          "text": [
            "uoi\n"
          ]
        },
        {
          "output_type": "error",
          "ename": "ValueError",
          "evalue": "ignored",
          "traceback": [
            "\u001b[0;31m---------------------------------------------------------------------------\u001b[0m",
            "\u001b[0;31mValueError\u001b[0m                                Traceback (most recent call last)",
            "\u001b[0;32m<ipython-input-1-99762b90592e>\u001b[0m in \u001b[0;36m<cell line: 1>\u001b[0;34m()\u001b[0m\n\u001b[0;32m----> 1\u001b[0;31m \u001b[0mx\u001b[0m \u001b[0;34m,\u001b[0m \u001b[0my\u001b[0m\u001b[0;34m,\u001b[0m \u001b[0mz\u001b[0m \u001b[0;34m=\u001b[0m \u001b[0mmap\u001b[0m\u001b[0;34m(\u001b[0m\u001b[0mint\u001b[0m\u001b[0;34m,\u001b[0m \u001b[0minput\u001b[0m\u001b[0;34m(\u001b[0m\u001b[0;34m)\u001b[0m\u001b[0;34m.\u001b[0m\u001b[0msplit\u001b[0m\u001b[0;34m(\u001b[0m\u001b[0;34m)\u001b[0m\u001b[0;34m)\u001b[0m\u001b[0;34m\u001b[0m\u001b[0;34m\u001b[0m\u001b[0m\n\u001b[0m\u001b[1;32m      2\u001b[0m \u001b[0marray\u001b[0m \u001b[0;34m=\u001b[0m \u001b[0mnumpy\u001b[0m\u001b[0;34m.\u001b[0m\u001b[0marray\u001b[0m\u001b[0;34m(\u001b[0m\u001b[0;34m[\u001b[0m\u001b[0minput\u001b[0m\u001b[0;34m(\u001b[0m\u001b[0;34m)\u001b[0m\u001b[0;34m.\u001b[0m\u001b[0msplit\u001b[0m\u001b[0;34m(\u001b[0m\u001b[0;34m)\u001b[0m \u001b[0;32mfor\u001b[0m \u001b[0mi\u001b[0m \u001b[0;32min\u001b[0m \u001b[0mrange\u001b[0m\u001b[0;34m(\u001b[0m\u001b[0mx\u001b[0m\u001b[0;34m+\u001b[0m\u001b[0my\u001b[0m\u001b[0;34m)\u001b[0m\u001b[0;34m]\u001b[0m\u001b[0;34m,\u001b[0m \u001b[0mint\u001b[0m\u001b[0;34m)\u001b[0m\u001b[0;34m\u001b[0m\u001b[0;34m\u001b[0m\u001b[0m\n",
            "\u001b[0;31mValueError\u001b[0m: invalid literal for int() with base 10: 'uoi'"
          ]
        }
      ]
    },
    {
      "cell_type": "code",
      "source": [
        "array"
      ],
      "metadata": {
        "colab": {
          "base_uri": "https://localhost:8080/",
          "height": 165
        },
        "id": "JpN57AK9XMwg",
        "outputId": "5f4a77e5-cb47-41c6-8d03-e68183dd30b6"
      },
      "execution_count": null,
      "outputs": [
        {
          "output_type": "error",
          "ename": "NameError",
          "evalue": "ignored",
          "traceback": [
            "\u001b[0;31m---------------------------------------------------------------------------\u001b[0m",
            "\u001b[0;31mNameError\u001b[0m                                 Traceback (most recent call last)",
            "\u001b[0;32m<ipython-input-2-7e71d2f093c1>\u001b[0m in \u001b[0;36m<cell line: 1>\u001b[0;34m()\u001b[0m\n\u001b[0;32m----> 1\u001b[0;31m \u001b[0marray\u001b[0m\u001b[0;34m\u001b[0m\u001b[0;34m\u001b[0m\u001b[0m\n\u001b[0m",
            "\u001b[0;31mNameError\u001b[0m: name 'array' is not defined"
          ]
        }
      ]
    },
    {
      "cell_type": "code",
      "source": [
        "import numpy\n",
        "\n",
        "X, Y, Z = map(int, input().split())\n",
        "array = numpy.array([input().split() for i in range(X+Y)], int)\n",
        "print(array)"
      ],
      "metadata": {
        "colab": {
          "base_uri": "https://localhost:8080/",
          "height": 252
        },
        "id": "uXUIg4P5H5xN",
        "outputId": "1b42cb61-9760-4af7-8a98-38f390e66795"
      },
      "execution_count": null,
      "outputs": [
        {
          "name": "stdout",
          "output_type": "stream",
          "text": [
            "olpp\n"
          ]
        },
        {
          "output_type": "error",
          "ename": "ValueError",
          "evalue": "ignored",
          "traceback": [
            "\u001b[0;31m---------------------------------------------------------------------------\u001b[0m",
            "\u001b[0;31mValueError\u001b[0m                                Traceback (most recent call last)",
            "\u001b[0;32m<ipython-input-5-6f55af169741>\u001b[0m in \u001b[0;36m<cell line: 3>\u001b[0;34m()\u001b[0m\n\u001b[1;32m      1\u001b[0m \u001b[0;32mimport\u001b[0m \u001b[0mnumpy\u001b[0m\u001b[0;34m\u001b[0m\u001b[0;34m\u001b[0m\u001b[0m\n\u001b[1;32m      2\u001b[0m \u001b[0;34m\u001b[0m\u001b[0m\n\u001b[0;32m----> 3\u001b[0;31m \u001b[0mX\u001b[0m\u001b[0;34m,\u001b[0m \u001b[0mY\u001b[0m\u001b[0;34m,\u001b[0m \u001b[0mZ\u001b[0m \u001b[0;34m=\u001b[0m \u001b[0mmap\u001b[0m\u001b[0;34m(\u001b[0m\u001b[0mint\u001b[0m\u001b[0;34m,\u001b[0m \u001b[0minput\u001b[0m\u001b[0;34m(\u001b[0m\u001b[0;34m)\u001b[0m\u001b[0;34m.\u001b[0m\u001b[0msplit\u001b[0m\u001b[0;34m(\u001b[0m\u001b[0;34m)\u001b[0m\u001b[0;34m)\u001b[0m\u001b[0;34m\u001b[0m\u001b[0;34m\u001b[0m\u001b[0m\n\u001b[0m\u001b[1;32m      4\u001b[0m \u001b[0marray\u001b[0m \u001b[0;34m=\u001b[0m \u001b[0mnumpy\u001b[0m\u001b[0;34m.\u001b[0m\u001b[0marray\u001b[0m\u001b[0;34m(\u001b[0m\u001b[0;34m[\u001b[0m\u001b[0minput\u001b[0m\u001b[0;34m(\u001b[0m\u001b[0;34m)\u001b[0m\u001b[0;34m.\u001b[0m\u001b[0msplit\u001b[0m\u001b[0;34m(\u001b[0m\u001b[0;34m)\u001b[0m \u001b[0;32mfor\u001b[0m \u001b[0mi\u001b[0m \u001b[0;32min\u001b[0m \u001b[0mrange\u001b[0m\u001b[0;34m(\u001b[0m\u001b[0mX\u001b[0m\u001b[0;34m+\u001b[0m\u001b[0mY\u001b[0m\u001b[0;34m)\u001b[0m\u001b[0;34m]\u001b[0m\u001b[0;34m,\u001b[0m \u001b[0mint\u001b[0m\u001b[0;34m)\u001b[0m\u001b[0;34m\u001b[0m\u001b[0;34m\u001b[0m\u001b[0m\n\u001b[1;32m      5\u001b[0m \u001b[0mprint\u001b[0m\u001b[0;34m(\u001b[0m\u001b[0marray\u001b[0m\u001b[0;34m)\u001b[0m\u001b[0;34m\u001b[0m\u001b[0;34m\u001b[0m\u001b[0m\n",
            "\u001b[0;31mValueError\u001b[0m: invalid literal for int() with base 10: 'olpp'"
          ]
        }
      ]
    },
    {
      "cell_type": "markdown",
      "source": [
        "Zeros and Ones\n",
        "You are given the shape of the array in the form of space-separated integers, each integer representing the size of different dimensions, your task is to print an array of the given shape and integer type using the tools numpy.zeros and numpy.ones.\n",
        "\n",
        "Input Format\n",
        "\n",
        "A single line containing the space-separated integers.\n",
        "\n",
        "Output Format\n",
        "\n",
        "First, print the array using the numpy.zeros tool and then print the array with the numpy.ones tool.\n",
        "\n",
        "Sample Input 0\n",
        "\n",
        "3 3 3\n",
        "\n",
        "Sample Output 0\n",
        "\n",
        "[[[0 0 0]\n",
        "\n",
        "[0 0 0]\n",
        "\n",
        "[0 0 0]]\n",
        "\n",
        "[[0 0 0]\n",
        "\n",
        "[0 0 0]\n",
        "\n",
        "[0 0 0]]\n",
        "\n",
        "[[0 0 0]\n",
        "\n",
        "[0 0 0]\n",
        "\n",
        "[0 0 0]]]\n",
        "\n",
        "[[[1 1 1]\n",
        "\n",
        "[1 1 1]\n",
        "\n",
        "[1 1 1]]\n",
        "\n",
        "[[1 1 1]\n",
        "\n",
        "[1 1 1]\n",
        "\n",
        "[1 1 1]]\n",
        "\n",
        "[[1 1 1]\n",
        "\n",
        "[1 1 1]\n",
        "\n",
        "[1 1 1]]]"
      ],
      "metadata": {
        "id": "K4cYyMeBK2X4"
      }
    },
    {
      "cell_type": "code",
      "source": [
        "# to be frank there is only one part that I got the solution for, that is how to return multiple values. And the logic part is mine.\n",
        "# https://www.geeksforgeeks.org/g-fact-41-multiple-return-values-in-python/\n",
        "\n",
        "import numpy\n",
        "\n",
        "def arrays(arr):\n",
        "    arr1 = numpy.array(arr, dtype = int)\n",
        "    arr2 = numpy.zeros(arr1, dtype = int)\n",
        "    arr3 = numpy.ones(arr1, dtype = int)\n",
        "    return arr2, arr3\n",
        "\n",
        "arr = input().strip().split(' ')\n",
        "arr2, arr3 = arrays(arr)\n",
        "\n",
        "print(arr2)\n",
        "print(arr3)"
      ],
      "metadata": {
        "id": "gNwSz94pK3mP",
        "outputId": "ca16c204-5146-4298-b7f2-f824ec24deaf",
        "colab": {
          "base_uri": "https://localhost:8080/"
        }
      },
      "execution_count": null,
      "outputs": [
        {
          "output_type": "stream",
          "name": "stdout",
          "text": [
            "3 3 3\n",
            "[[[0 0 0]\n",
            "  [0 0 0]\n",
            "  [0 0 0]]\n",
            "\n",
            " [[0 0 0]\n",
            "  [0 0 0]\n",
            "  [0 0 0]]\n",
            "\n",
            " [[0 0 0]\n",
            "  [0 0 0]\n",
            "  [0 0 0]]]\n",
            "[[[1 1 1]\n",
            "  [1 1 1]\n",
            "  [1 1 1]]\n",
            "\n",
            " [[1 1 1]\n",
            "  [1 1 1]\n",
            "  [1 1 1]]\n",
            "\n",
            " [[1 1 1]\n",
            "  [1 1 1]\n",
            "  [1 1 1]]]\n"
          ]
        }
      ]
    },
    {
      "cell_type": "code",
      "source": [
        "# leap year or Not\n",
        "\n",
        "year = int(input())\n",
        "def leapyear_Not(year):\n",
        "  if year % 4 == 0:\n",
        "    return 'leap year'\n",
        "  else:\n",
        "    return 'Not leap year'\n",
        "print(leapyear_Not(year))\n"
      ],
      "metadata": {
        "colab": {
          "base_uri": "https://localhost:8080/"
        },
        "id": "Khe_XWovunrC",
        "outputId": "11c800c0-b84b-4887-9e0f-64227f3dcc25"
      },
      "execution_count": null,
      "outputs": [
        {
          "output_type": "stream",
          "name": "stdout",
          "text": [
            "1998\n",
            "Not leap year\n"
          ]
        }
      ]
    },
    {
      "cell_type": "code",
      "source": [],
      "metadata": {
        "id": "DVmRf6rBurSl"
      },
      "execution_count": null,
      "outputs": []
    },
    {
      "cell_type": "markdown",
      "source": [
        "*  Leap year mean 366 day in a year\n",
        "Feb 29 ki jiss year me hoti h wo leap year hoti h"
      ],
      "metadata": {
        "id": "3n_x0I7Q2lKA"
      }
    },
    {
      "cell_type": "markdown",
      "source": [],
      "metadata": {
        "id": "HXwbAqU5uKPw"
      }
    },
    {
      "cell_type": "code",
      "source": [
        "# Q3.range porgaram\n",
        "x = int(input())\n",
        "if x in range(1,100):\n",
        "   print(\" this no less than 100\")\n",
        "elif x in range(99,100):\n",
        "     print(\"same\")\n",
        "else:\n",
        "  print(\"more than 100\") "
      ],
      "metadata": {
        "colab": {
          "base_uri": "https://localhost:8080/"
        },
        "id": "xIyurZNfxQ1q",
        "outputId": "8921589c-972b-4be7-8f1e-d1f734ba871d"
      },
      "execution_count": null,
      "outputs": [
        {
          "output_type": "stream",
          "name": "stdout",
          "text": [
            "20\n",
            " this no less than 100\n"
          ]
        }
      ]
    },
    {
      "cell_type": "code",
      "source": [
        "x = input('x=')\n",
        "if x in range(2,6):\n",
        "  print(\"weird\")\n",
        "elif x in range(6,16):\n",
        "  print(\"not weird\")\n",
        "else:\n",
        "  print('out of range')"
      ],
      "metadata": {
        "colab": {
          "base_uri": "https://localhost:8080/"
        },
        "id": "pXMM5S6j8UuU",
        "outputId": "25dcdb62-d68f-4163-f14b-28edd9c47ad9"
      },
      "execution_count": null,
      "outputs": [
        {
          "output_type": "stream",
          "name": "stdout",
          "text": [
            "x=3\n",
            "out of range\n"
          ]
        }
      ]
    },
    {
      "cell_type": "code",
      "source": [
        "# print first 5 integers\n",
        "# using python range() function\n",
        "for i in range(5,100,5):\n",
        "    print(i, end=\" \")\n",
        "print()"
      ],
      "metadata": {
        "colab": {
          "base_uri": "https://localhost:8080/"
        },
        "id": "sb5bzAOD1qG7",
        "outputId": "3d9ea5ff-6252-4d37-99c8-e252ae3e27f5"
      },
      "execution_count": null,
      "outputs": [
        {
          "output_type": "stream",
          "name": "stdout",
          "text": [
            "5 10 15 20 25 30 35 40 45 50 55 60 65 70 75 80 85 90 95 \n"
          ]
        }
      ]
    },
    {
      "cell_type": "code",
      "source": [
        "for i in range (2,20,2):\n",
        "  print(i, end = \" \")\n",
        "print()"
      ],
      "metadata": {
        "colab": {
          "base_uri": "https://localhost:8080/"
        },
        "id": "GG-w8j8Nvjcd",
        "outputId": "798ada5f-030d-44f3-c097-276cdf26b539"
      },
      "execution_count": null,
      "outputs": [
        {
          "output_type": "stream",
          "name": "stdout",
          "text": [
            "2 4 6 8 10 12 14 16 18 \n"
          ]
        }
      ]
    },
    {
      "cell_type": "code",
      "source": [
        "# Q 3.The isupper() method returns True if all the characters are in upper case, otherwise False. Numbers, symbols and spaces are not checked, only alphabet characters\n",
        "x = \"sumit\"\n",
        "x.isupper()"
      ],
      "metadata": {
        "colab": {
          "base_uri": "https://localhost:8080/"
        },
        "id": "j9RzaACH9XYA",
        "outputId": "adfb752b-c6d1-443a-9b48-b53b93339c0d"
      },
      "execution_count": null,
      "outputs": [
        {
          "output_type": "execute_result",
          "data": {
            "text/plain": [
              "False"
            ]
          },
          "metadata": {},
          "execution_count": 55
        }
      ]
    },
    {
      "cell_type": "code",
      "source": [
        "y = \"SUMIT\"\n",
        "y[0:3].isupper()\n",
        "     "
      ],
      "metadata": {
        "colab": {
          "base_uri": "https://localhost:8080/"
        },
        "id": "TMl2FQds1y6C",
        "outputId": "17096ce7-40f1-489f-8e37-aacf178a621b"
      },
      "execution_count": null,
      "outputs": [
        {
          "output_type": "execute_result",
          "data": {
            "text/plain": [
              "True"
            ]
          },
          "metadata": {},
          "execution_count": 54
        }
      ]
    },
    {
      "cell_type": "code",
      "source": [
        "# Amstrong number\n",
        "num = int(input(\"enter a num: \"))\n",
        "x= num\n",
        "sum = 0\n",
        "while x>0:\n",
        "  y = x%10\n",
        "  sum += y**2\n",
        "  x//=10\n",
        "  if num == sum:\n",
        "    print(num,\"is an Armstring number\")\n",
        "  else:\n",
        "    print(num,\"is not a Armstrong number\")"
      ],
      "metadata": {
        "colab": {
          "base_uri": "https://localhost:8080/"
        },
        "id": "CXJScq-i8uPI",
        "outputId": "33d5611e-2448-4f91-b8ea-a67126affce1"
      },
      "execution_count": null,
      "outputs": [
        {
          "output_type": "stream",
          "name": "stdout",
          "text": [
            "enter a num: 5\n",
            "5 is not a Armstrong number\n"
          ]
        }
      ]
    },
    {
      "cell_type": "code",
      "source": [
        "x = int(input())\n",
        "num = x\n",
        "def amstor(num):\n",
        "  a = num%10\n",
        "  num = num //10\n",
        "  b = num %10\n",
        "  c = num //10\n",
        "  if (a**3)+(b**3)+(c**3) == x:\n",
        "    return 'ams'\n",
        "  else:\n",
        "    return 'Not'\n",
        "print(amstor(x))"
      ],
      "metadata": {
        "id": "sjQJfh3Cy_du",
        "colab": {
          "base_uri": "https://localhost:8080/"
        },
        "outputId": "6f073d98-726b-45cb-9bf9-f1b6b2c5c0c1"
      },
      "execution_count": null,
      "outputs": [
        {
          "output_type": "stream",
          "name": "stdout",
          "text": [
            "153\n",
            "ams\n"
          ]
        }
      ]
    },
    {
      "cell_type": "code",
      "source": [
        "y = int(input())\n",
        "num = y\n",
        "def asmsto(num):\n",
        "  a = num %10\n",
        "  num = num//10\n",
        "  b = num % 10\n",
        "  c = num//10\n",
        "  if (a**3) + (b**3) +(c**3) == y:\n",
        "    return \"ams\"\n",
        "  else:\n",
        "    return \"Not\"\n",
        "print(asmsto(y))"
      ],
      "metadata": {
        "colab": {
          "base_uri": "https://localhost:8080/"
        },
        "id": "tSWujB5DoehS",
        "outputId": "1831eafd-3f6e-4fb5-fe14-6db445447fa9"
      },
      "execution_count": null,
      "outputs": [
        {
          "output_type": "stream",
          "name": "stdout",
          "text": [
            "153\n",
            "ams\n"
          ]
        }
      ]
    },
    {
      "cell_type": "code",
      "source": [
        "x =int(input())\n",
        "num= x\n",
        "def amsto(num):\n",
        "  a = num % 10\n",
        "  num = num//10\n",
        "  b = num %10\n",
        "  c = num //10\n",
        "  if (a**3)+(b**3)+(c**3) == x:\n",
        "    return \"amsto\"\n",
        "  else :\n",
        "    return ' Not'\n",
        "print(amsto(x))"
      ],
      "metadata": {
        "colab": {
          "base_uri": "https://localhost:8080/"
        },
        "id": "JdnIWS9Bv9gH",
        "outputId": "bd63b659-25df-4b93-b1b1-2ba450bdd4a8"
      },
      "execution_count": null,
      "outputs": [
        {
          "output_type": "stream",
          "name": "stdout",
          "text": [
            "153\n",
            "amsto\n"
          ]
        }
      ]
    },
    {
      "cell_type": "code",
      "source": [
        "a = int(input())\n",
        "k = a\n",
        "b = len(str(a))\n",
        "sum = 0\n",
        "while a > 0:\n",
        "  digit = a%10\n",
        "  sum += digit**b\n",
        "  a = a//10\n",
        "if k == sum :\n",
        "  print(\"this is\")\n",
        "else:\n",
        "  print(\"Not\") "
      ],
      "metadata": {
        "colab": {
          "base_uri": "https://localhost:8080/"
        },
        "id": "BBc_wxPrruaN",
        "outputId": "e21e4589-3378-4017-c755-4eaaf7361ca3"
      },
      "execution_count": null,
      "outputs": [
        {
          "output_type": "stream",
          "name": "stdout",
          "text": [
            "153\n",
            "this is\n"
          ]
        }
      ]
    },
    {
      "cell_type": "code",
      "source": [
        "# Python program to check if the number is an Armstrong number or not\n",
        "\n",
        "# take input from the user\n",
        "num = int(input(\"Enter a number: \"))\n",
        "\n",
        "# initialize sum\n",
        "sum = 0\n",
        "\n",
        "# find the sum of the cube of each digit\n",
        "temp = num\n",
        "while temp > 0:\n",
        "   digit = temp % 10\n",
        "   sum += digit ** 3\n",
        "   temp //= 10\n",
        "\n",
        "# display the result\n",
        "if num == sum:\n",
        "   print(num,\"is an Armstrong number\")\n",
        "else:\n",
        "   print(num,\"is not an Armstrong number\")\n"
      ],
      "metadata": {
        "colab": {
          "base_uri": "https://localhost:8080/"
        },
        "id": "1Pbpu3v38uR_",
        "outputId": "a9d8bb72-581f-4949-ec75-27301d8324d7"
      },
      "execution_count": null,
      "outputs": [
        {
          "output_type": "stream",
          "name": "stdout",
          "text": [
            "Enter a number: 153\n",
            "153 is an Armstrong number\n"
          ]
        }
      ]
    },
    {
      "cell_type": "code",
      "source": [
        "# python porgaram to display all prime numbers within an interval\n",
        "lower=10\n",
        "upper = 100\n",
        "\n",
        "print(\"prime numbers betwwen\", lower, \"and\", upper,\"are:\")\n",
        "\n",
        "for num in range(lower, upper +1):\n",
        "  # all prime numbers are greater than 1\n",
        "\n",
        "  if num >1:\n",
        "    for i in range(2, num):\n",
        "      if (num%i) == 0:\n",
        "          break\n",
        "    else:\n",
        "      print(num)\n",
        "\n",
        "    "
      ],
      "metadata": {
        "colab": {
          "base_uri": "https://localhost:8080/"
        },
        "id": "27UhstTN8uVE",
        "outputId": "e2d59a7e-bdb9-444a-bb0b-2e4abd895e65"
      },
      "execution_count": null,
      "outputs": [
        {
          "output_type": "stream",
          "name": "stdout",
          "text": [
            "prime numbers betwwen 10 and 100 are:\n",
            "11\n",
            "13\n",
            "17\n",
            "19\n",
            "23\n",
            "29\n",
            "31\n",
            "37\n",
            "41\n",
            "43\n",
            "47\n",
            "53\n",
            "59\n",
            "61\n",
            "67\n",
            "71\n",
            "73\n",
            "79\n",
            "83\n",
            "89\n",
            "97\n"
          ]
        }
      ]
    },
    {
      "cell_type": "code",
      "source": [],
      "metadata": {
        "id": "J2oy6GvH0IoV"
      },
      "execution_count": null,
      "outputs": []
    },
    {
      "cell_type": "code",
      "source": [
        "xyz = [1,4,5,1,2,3,45]\n",
        "xyz[0],xyz[-1]=xyz[-1],xyz[0]\n",
        "print(xyz)"
      ],
      "metadata": {
        "colab": {
          "base_uri": "https://localhost:8080/"
        },
        "id": "kfgQzviI8uX_",
        "outputId": "ed90b84e-4a2e-4ac0-d383-e0a33172b48f"
      },
      "execution_count": null,
      "outputs": [
        {
          "output_type": "stream",
          "name": "stdout",
          "text": [
            "[45, 4, 5, 1, 2, 3, 1]\n"
          ]
        }
      ]
    },
    {
      "cell_type": "code",
      "source": [
        "#In this specific example, the input is a list of numbers. And we have to return the mean and median of this list of numbers\n",
        "# calculate mean & median\n",
        "def calculate_averages(my_list):\n",
        "  '''\n",
        "  This function calculates the mean and median of a given list of numbers.\n",
        "  '''\n",
        "  # Step 1 : Calculate the mean\n",
        "  mean = sum(my_list)/len(my_list)\n",
        "\n",
        "  # Step 2 : Calculate the median\n",
        "  sorted_list = sorted(my_list)\n",
        "  list_length = len(sorted_list)\n",
        "\n",
        "  if list_length%2 == 0:\n",
        "    median = (sorted_list[int(list_length/2)-1] + sorted_list[int(list_length/2)])/2\n",
        "  else :\n",
        "    median = sorted_list[int((list_length+1)/2) - 1]\n",
        "     \n",
        "  return  mean, median"
      ],
      "metadata": {
        "id": "tUsbZxPOC_Z9"
      },
      "execution_count": null,
      "outputs": []
    },
    {
      "cell_type": "code",
      "source": [
        "heights =  [172,175,170,168,170,200]\n",
        "calculate_averages(heights)"
      ],
      "metadata": {
        "colab": {
          "base_uri": "https://localhost:8080/",
          "height": 304
        },
        "id": "k1Dl-QtXDE1C",
        "outputId": "8136cce3-fd39-4868-f329-4cd72678fb91"
      },
      "execution_count": null,
      "outputs": [
        {
          "output_type": "error",
          "ename": "TypeError",
          "evalue": "ignored",
          "traceback": [
            "\u001b[0;31m---------------------------------------------------------------------------\u001b[0m",
            "\u001b[0;31mTypeError\u001b[0m                                 Traceback (most recent call last)",
            "\u001b[0;32m<ipython-input-23-7aeb292a3067>\u001b[0m in \u001b[0;36m<module>\u001b[0;34m\u001b[0m\n\u001b[1;32m      1\u001b[0m \u001b[0mheights\u001b[0m \u001b[0;34m=\u001b[0m  \u001b[0;34m[\u001b[0m\u001b[0;36m172\u001b[0m\u001b[0;34m,\u001b[0m\u001b[0;36m175\u001b[0m\u001b[0;34m,\u001b[0m\u001b[0;36m170\u001b[0m\u001b[0;34m,\u001b[0m\u001b[0;36m168\u001b[0m\u001b[0;34m,\u001b[0m\u001b[0;36m170\u001b[0m\u001b[0;34m,\u001b[0m\u001b[0;36m200\u001b[0m\u001b[0;34m]\u001b[0m\u001b[0;34m\u001b[0m\u001b[0;34m\u001b[0m\u001b[0m\n\u001b[0;32m----> 2\u001b[0;31m \u001b[0mcalculate_averages\u001b[0m\u001b[0;34m(\u001b[0m\u001b[0mheights\u001b[0m\u001b[0;34m)\u001b[0m\u001b[0;34m\u001b[0m\u001b[0;34m\u001b[0m\u001b[0m\n\u001b[0m",
            "\u001b[0;32m<ipython-input-22-d396efd0d995>\u001b[0m in \u001b[0;36mcalculate_averages\u001b[0;34m(my_list)\u001b[0m\n\u001b[1;32m      6\u001b[0m   '''\n\u001b[1;32m      7\u001b[0m   \u001b[0;31m# Step 1 : Calculate the mean\u001b[0m\u001b[0;34m\u001b[0m\u001b[0;34m\u001b[0m\u001b[0;34m\u001b[0m\u001b[0m\n\u001b[0;32m----> 8\u001b[0;31m   \u001b[0mmean\u001b[0m \u001b[0;34m=\u001b[0m \u001b[0msum\u001b[0m\u001b[0;34m(\u001b[0m\u001b[0mmy_list\u001b[0m\u001b[0;34m)\u001b[0m\u001b[0;34m/\u001b[0m\u001b[0mlen\u001b[0m\u001b[0;34m(\u001b[0m\u001b[0mmy_list\u001b[0m\u001b[0;34m)\u001b[0m\u001b[0;34m\u001b[0m\u001b[0;34m\u001b[0m\u001b[0m\n\u001b[0m\u001b[1;32m      9\u001b[0m \u001b[0;34m\u001b[0m\u001b[0m\n\u001b[1;32m     10\u001b[0m   \u001b[0;31m# Step 2 : Calculate the median\u001b[0m\u001b[0;34m\u001b[0m\u001b[0;34m\u001b[0m\u001b[0;34m\u001b[0m\u001b[0m\n",
            "\u001b[0;31mTypeError\u001b[0m: 'int' object is not callable"
          ]
        }
      ]
    },
    {
      "cell_type": "code",
      "source": [
        "# Let us write a function with multiple return statements\n",
        "# check_even_or_odd(num) porgaram\n",
        "num = int(input())\n",
        "def xyz(num):\n",
        "  if num%2 == 0:\n",
        "    return 'even'\n",
        "  else:\n",
        "    return 'odd'\n",
        "print(xyz(num))"
      ],
      "metadata": {
        "colab": {
          "base_uri": "https://localhost:8080/"
        },
        "id": "Jyk_--KyA5IV",
        "outputId": "f4a2f6ad-9450-4a7a-9a24-89c8b4eb7503"
      },
      "execution_count": null,
      "outputs": [
        {
          "output_type": "stream",
          "name": "stdout",
          "text": [
            "2\n",
            "even\n"
          ]
        }
      ]
    },
    {
      "cell_type": "code",
      "source": [
        "x = int(input())\n",
        "def even_odd_num(x):\n",
        "  if x %2 == 0:\n",
        "    return \"even\"\n",
        "  else:\n",
        "    return 'odd'\n",
        "print(even_odd_num(x))"
      ],
      "metadata": {
        "colab": {
          "base_uri": "https://localhost:8080/"
        },
        "id": "gTMeERiLqRzw",
        "outputId": "e694f8d4-4c98-4cc1-d76a-23b16557ad4c"
      },
      "execution_count": null,
      "outputs": [
        {
          "output_type": "stream",
          "name": "stdout",
          "text": [
            "5\n",
            "odd\n"
          ]
        }
      ]
    },
    {
      "cell_type": "code",
      "source": [
        "num = int (input())\n",
        "def sss(num):\n",
        "  if num % 2 == 0:\n",
        "    return 'Even'\n",
        "  else:\n",
        "    return ' odd'\n",
        "print(sss(num))"
      ],
      "metadata": {
        "colab": {
          "base_uri": "https://localhost:8080/"
        },
        "id": "7L0A25Z-04lV",
        "outputId": "94b64b2f-30ba-4756-daa2-1709b21d706f"
      },
      "execution_count": null,
      "outputs": [
        {
          "output_type": "stream",
          "name": "stdout",
          "text": [
            "5\n",
            " odd\n"
          ]
        }
      ]
    },
    {
      "cell_type": "code",
      "source": [
        "num = int(input())\n",
        "def sss(num):\n",
        "  if num %2 == 0:\n",
        "    return \"even\"\n",
        "  else:\n",
        "    return \"odd\"\n",
        "print(sss(num))"
      ],
      "metadata": {
        "colab": {
          "base_uri": "https://localhost:8080/"
        },
        "id": "egbUAx7I72ek",
        "outputId": "ea8623f8-b7a3-4f76-ed1c-7afb8d087288"
      },
      "execution_count": null,
      "outputs": [
        {
          "output_type": "stream",
          "name": "stdout",
          "text": [
            "7\n",
            "odd\n"
          ]
        }
      ]
    },
    {
      "cell_type": "code",
      "source": [
        "#Please ensure the platform IDE is in Python 3.x mode.\n",
        "#If you face any issue here, you may write the code on colab or jupyter. \n",
        "#Then, paste the code snippet here and run test cases.\n",
        "\n",
        "a=int(input())\n",
        "b=int(input())\n",
        "print(\"Value of a is : \", a )\n",
        "print(\"value of b is:\",b )\n",
        "a^= b\n",
        "b^= a \n",
        "a^= b\n",
        "print (\"After swapping \")\n",
        "print(\"Value of a is : \", a)\n",
        "print(\"value of b is:\",b)"
      ],
      "metadata": {
        "colab": {
          "base_uri": "https://localhost:8080/"
        },
        "id": "P7kSjinEzpFy",
        "outputId": "d25d6da7-32bc-4d65-92e2-c99db4df5c54"
      },
      "execution_count": null,
      "outputs": [
        {
          "output_type": "stream",
          "name": "stdout",
          "text": [
            "9\n",
            "2\n",
            "Value of a is :  9\n",
            "value of b is: 2\n",
            "After swapping \n",
            "Value of a is :  2\n",
            "value of b is: 9\n"
          ]
        }
      ]
    },
    {
      "cell_type": "code",
      "source": [],
      "metadata": {
        "id": "A_rVwLy5_eTS"
      },
      "execution_count": null,
      "outputs": []
    },
    {
      "cell_type": "markdown",
      "source": [
        "## <b> Almax <B>"
      ],
      "metadata": {
        "id": "CZls6Ask4b3Z"
      }
    },
    {
      "cell_type": "code",
      "source": [
        "# Q1.python program to remove empty list from the main list\n",
        "A = [5,4,6,81,[],[],12,2,54]\n",
        "B = [x for x in A if x]\n",
        "print(B)"
      ],
      "metadata": {
        "id": "1ajA5DyP8ubX",
        "colab": {
          "base_uri": "https://localhost:8080/"
        },
        "outputId": "cb2e250f-4914-4ce2-af1f-67df1cf558a9"
      },
      "execution_count": null,
      "outputs": [
        {
          "output_type": "stream",
          "name": "stdout",
          "text": [
            "[5, 4, 6, 81, 12, 2, 54]\n"
          ]
        }
      ]
    },
    {
      "cell_type": "code",
      "source": [
        "a = [3,4,3,4,34,5,6,[],[],[]]\n",
        "b = [x for x in a if x]\n",
        "print(b)"
      ],
      "metadata": {
        "colab": {
          "base_uri": "https://localhost:8080/"
        },
        "id": "yB0NH48WZCqO",
        "outputId": "685b4304-693b-463c-d45a-3b8eb19a47e0"
      },
      "execution_count": null,
      "outputs": [
        {
          "output_type": "stream",
          "name": "stdout",
          "text": [
            "[3, 4, 3, 4, 34, 5, 6]\n"
          ]
        }
      ]
    },
    {
      "cell_type": "code",
      "source": [
        "color_list = [\"Red\",\"Green\",\"White\" ,\"Black\"]\n",
        "c = color_list\n",
        "print(c[0],c[-1])"
      ],
      "metadata": {
        "colab": {
          "base_uri": "https://localhost:8080/"
        },
        "id": "5jaSUADOBjE8",
        "outputId": "80ce6976-b934-4723-ddf6-4051ac88e0bd"
      },
      "execution_count": null,
      "outputs": [
        {
          "output_type": "stream",
          "name": "stdout",
          "text": [
            "Red Black\n"
          ]
        }
      ]
    },
    {
      "cell_type": "code",
      "source": [
        "y = [1, 2, 3, 4, 5, 6, 7, 8, 9, 10]\n",
        "t = int(input())\n",
        "if y%t==0:\n",
        "  print(y)"
      ],
      "metadata": {
        "colab": {
          "base_uri": "https://localhost:8080/",
          "height": 235
        },
        "id": "CuHyZ3e1D_vu",
        "outputId": "5967e4de-f423-4b2f-c1e5-f17007214d31"
      },
      "execution_count": null,
      "outputs": [
        {
          "name": "stdout",
          "output_type": "stream",
          "text": [
            "2\n"
          ]
        },
        {
          "output_type": "error",
          "ename": "TypeError",
          "evalue": "ignored",
          "traceback": [
            "\u001b[0;31m---------------------------------------------------------------------------\u001b[0m",
            "\u001b[0;31mTypeError\u001b[0m                                 Traceback (most recent call last)",
            "\u001b[0;32m<ipython-input-8-1dc758069756>\u001b[0m in \u001b[0;36m<cell line: 3>\u001b[0;34m()\u001b[0m\n\u001b[1;32m      1\u001b[0m \u001b[0my\u001b[0m \u001b[0;34m=\u001b[0m \u001b[0;34m[\u001b[0m\u001b[0;36m1\u001b[0m\u001b[0;34m,\u001b[0m \u001b[0;36m2\u001b[0m\u001b[0;34m,\u001b[0m \u001b[0;36m3\u001b[0m\u001b[0;34m,\u001b[0m \u001b[0;36m4\u001b[0m\u001b[0;34m,\u001b[0m \u001b[0;36m5\u001b[0m\u001b[0;34m,\u001b[0m \u001b[0;36m6\u001b[0m\u001b[0;34m,\u001b[0m \u001b[0;36m7\u001b[0m\u001b[0;34m,\u001b[0m \u001b[0;36m8\u001b[0m\u001b[0;34m,\u001b[0m \u001b[0;36m9\u001b[0m\u001b[0;34m,\u001b[0m \u001b[0;36m10\u001b[0m\u001b[0;34m]\u001b[0m\u001b[0;34m\u001b[0m\u001b[0;34m\u001b[0m\u001b[0m\n\u001b[1;32m      2\u001b[0m \u001b[0mt\u001b[0m \u001b[0;34m=\u001b[0m \u001b[0mint\u001b[0m\u001b[0;34m(\u001b[0m\u001b[0minput\u001b[0m\u001b[0;34m(\u001b[0m\u001b[0;34m)\u001b[0m\u001b[0;34m)\u001b[0m\u001b[0;34m\u001b[0m\u001b[0;34m\u001b[0m\u001b[0m\n\u001b[0;32m----> 3\u001b[0;31m \u001b[0;32mif\u001b[0m \u001b[0my\u001b[0m\u001b[0;34m%\u001b[0m\u001b[0mt\u001b[0m\u001b[0;34m==\u001b[0m\u001b[0;36m0\u001b[0m\u001b[0;34m:\u001b[0m\u001b[0;34m\u001b[0m\u001b[0;34m\u001b[0m\u001b[0m\n\u001b[0m\u001b[1;32m      4\u001b[0m   \u001b[0mprint\u001b[0m\u001b[0;34m(\u001b[0m\u001b[0my\u001b[0m\u001b[0;34m)\u001b[0m\u001b[0;34m\u001b[0m\u001b[0;34m\u001b[0m\u001b[0m\n",
            "\u001b[0;31mTypeError\u001b[0m: unsupported operand type(s) for %: 'list' and 'int'"
          ]
        }
      ]
    },
    {
      "cell_type": "code",
      "source": [
        "A = [5,4,6,81,[],[],12,2,54]\n",
        "def remove_elist(A):\n",
        "  return [x for x in A if x]\n",
        "print(remove_elist(A))"
      ],
      "metadata": {
        "colab": {
          "base_uri": "https://localhost:8080/"
        },
        "id": "Zm_tQN8-qsuI",
        "outputId": "c33e7004-f049-458b-809f-c00dab813e79"
      },
      "execution_count": null,
      "outputs": [
        {
          "output_type": "stream",
          "name": "stdout",
          "text": [
            "[5, 4, 6, 81, 12, 2, 54]\n"
          ]
        }
      ]
    },
    {
      "cell_type": "code",
      "source": [
        "def remove_dupl(lis):\n",
        "  return list(set(lis))\n"
      ],
      "metadata": {
        "id": "Hbj0wvp_rBpD"
      },
      "execution_count": null,
      "outputs": []
    },
    {
      "cell_type": "code",
      "source": [
        "B = [1,1,2,4,3,42,4,]\n",
        "print(remove_dupl(B))"
      ],
      "metadata": {
        "colab": {
          "base_uri": "https://localhost:8080/"
        },
        "id": "1Vo0VRQLrSj1",
        "outputId": "3ee3a958-c1f2-4b81-98c8-79d4f40b2956"
      },
      "execution_count": null,
      "outputs": [
        {
          "output_type": "stream",
          "name": "stdout",
          "text": [
            "[1, 2, 3, 4, 42]\n"
          ]
        }
      ]
    },
    {
      "cell_type": "code",
      "source": [
        "A = [5,4,6,81,[],[],12,2,54]\n",
        "def E_list_remove(A):\n",
        "  return [x for x in A if x]\n",
        "print(E_list_remove(A))\n"
      ],
      "metadata": {
        "colab": {
          "base_uri": "https://localhost:8080/"
        },
        "id": "Vpa9fgSS2Cnw",
        "outputId": "6b65e9e1-6300-46df-f3ef-9325918adc94"
      },
      "execution_count": null,
      "outputs": [
        {
          "output_type": "stream",
          "name": "stdout",
          "text": [
            "[5, 4, 6, 81, 12, 2, 54]\n"
          ]
        }
      ]
    },
    {
      "cell_type": "code",
      "source": [
        " s = [1,5,3,4,[],[],1,5]\n",
        " d = [x for x in s if x]\n",
        " print(d)\n"
      ],
      "metadata": {
        "colab": {
          "base_uri": "https://localhost:8080/"
        },
        "id": "AnCpyjj8fAaA",
        "outputId": "12e696ec-036d-43bf-ce4c-a1a733e2583f"
      },
      "execution_count": null,
      "outputs": [
        {
          "output_type": "stream",
          "name": "stdout",
          "text": [
            "[1, 5, 3, 4, 1, 5]\n"
          ]
        }
      ]
    },
    {
      "cell_type": "code",
      "source": [
        "A = [5,4,6,81,[],[],12,2,54]\n",
        "\n",
        "def removeemptylist(lis):\n",
        "  return [x for x in A if x]\n",
        "print(A)\n",
        "print(removeemptylist(A))"
      ],
      "metadata": {
        "id": "qHiP7Vxv9HGE",
        "colab": {
          "base_uri": "https://localhost:8080/"
        },
        "outputId": "7eff7d70-0d3d-45d6-c14d-8336f598d1df"
      },
      "execution_count": null,
      "outputs": [
        {
          "output_type": "stream",
          "name": "stdout",
          "text": [
            "[5, 4, 6, 81, [], [], 12, 2, 54]\n",
            "[5, 4, 6, 81, 12, 2, 54]\n"
          ]
        }
      ]
    },
    {
      "cell_type": "code",
      "source": [
        "input_list = [5, 6, [], 3, [], [], 9]\n",
        "input_list2 = [x for x in input_list if x]\n",
        "print(input_list2)"
      ],
      "metadata": {
        "colab": {
          "base_uri": "https://localhost:8080/"
        },
        "id": "q5iObNZc6mX4",
        "outputId": "55cec52f-467c-44fc-f927-c71e5ac15fbb"
      },
      "execution_count": null,
      "outputs": [
        {
          "output_type": "stream",
          "name": "stdout",
          "text": [
            "[5, 6, 3, 9]\n"
          ]
        }
      ]
    },
    {
      "cell_type": "code",
      "source": [
        "# Python Code to Remove empty List from List\n",
        "\n",
        "def empty_list_remove(input_list):\n",
        "\tnew_list = []\n",
        "\tfor ele in input_list:\n",
        "\t\tif ele:\n",
        "\t\t\tnew_list.append(ele)\n",
        "\treturn new_list\n",
        "\n",
        "\n",
        "# input list values\n",
        "input_list = [5, 6, [], 3, [], [], 9]\n",
        "\n",
        "# print initial list values\n",
        "print(f\"The original list is : {input_list}\")\n",
        "# function-call & print values\n",
        "print(f\"List after empty list removal : {empty_list_remove(input_list)}\")\n"
      ],
      "metadata": {
        "colab": {
          "base_uri": "https://localhost:8080/"
        },
        "id": "GNIRuCyMEL0L",
        "outputId": "0c0de240-39a4-4552-a58e-6d7c09250b91"
      },
      "execution_count": null,
      "outputs": [
        {
          "output_type": "stream",
          "name": "stdout",
          "text": [
            "The original list is : [5, 6, [], 3, [], [], 9]\n",
            "List after empty list removal : [5, 6, 3, 9]\n"
          ]
        }
      ]
    },
    {
      "cell_type": "code",
      "source": [
        "def empty(s):\n",
        "  a = []\n",
        "  for x in s:\n",
        "    if x:\n",
        "      a.append(x)\n",
        "  return a\n",
        "\n",
        "  s =[5, 6, [], 3, [], [], 9]\n",
        "print(empty(s))"
      ],
      "metadata": {
        "id": "MF_E4OET2vBp",
        "colab": {
          "base_uri": "https://localhost:8080/"
        },
        "outputId": "00fc9f20-c2f3-46c2-e89b-4d4ac20a338d"
      },
      "execution_count": null,
      "outputs": [
        {
          "output_type": "stream",
          "name": "stdout",
          "text": [
            "[1, 5, 3, 4, 1, 5]\n"
          ]
        }
      ]
    },
    {
      "cell_type": "code",
      "source": [
        "L = [1,2,3,4,[],5,6]\n",
        "h =  [ x for x in L if x]\n",
        "print(h)\n",
        "  "
      ],
      "metadata": {
        "colab": {
          "base_uri": "https://localhost:8080/"
        },
        "id": "ioDsHIasfbxE",
        "outputId": "64b3a314-666c-4a8e-bb39-8791c8cbd5c8"
      },
      "execution_count": null,
      "outputs": [
        {
          "output_type": "stream",
          "name": "stdout",
          "text": [
            "[1, 2, 3, 4, 5, 6]\n"
          ]
        }
      ]
    },
    {
      "cell_type": "markdown",
      "source": [
        "Q2.different parts of syntax of list comprehension\n",
        "\n",
        "* As per the above syntax, the list comprehension syntax contains three parts: an expression, one or more for loop, and optionally, one or more if conditions. The list comprehension must be in the square brackets [] . The result of the first expression will be stored in the new list."
      ],
      "metadata": {
        "id": "QKNAQ-S4DdzG"
      }
    },
    {
      "cell_type": "markdown",
      "source": [
        "Q3. When do you a boxplot and in waht situation would you choose boxplot over histogaram and wat if formeting could you gain from a box-polt"
      ],
      "metadata": {
        "id": "HKqPVQxoD1hb"
      }
    },
    {
      "cell_type": "markdown",
      "source": [
        "Ans -Histograms are preferred to determine the underlying probability distribution of a data. Box plots on the other hand are more useful when comparing between several data sets. They are less detailed than histograms and take up less space."
      ],
      "metadata": {
        "id": "uMWIJF1mD7e2"
      }
    },
    {
      "cell_type": "markdown",
      "source": [
        "Histograms and box plots are very similar in that they both help to visualize and describe numeric data. Although histograms are better in determining the underlying distribution of the data, box plots allow you to compare multiple data sets better than histograms as they are less detailed and take up less space."
      ],
      "metadata": {
        "id": "i_4x7s-UXZJ4"
      }
    },
    {
      "cell_type": "code",
      "source": [
        "#Q.4 find the second largest number in List\n",
        "# using sort() funtion\n",
        "L = [1,2,3,5,46,46,8,95,]\n",
        "L.sort()\n",
        "print(L[-2])"
      ],
      "metadata": {
        "colab": {
          "base_uri": "https://localhost:8080/"
        },
        "id": "GAmtwC796mjq",
        "outputId": "a770724b-d33e-45bd-b3de-9712f98defdb"
      },
      "execution_count": null,
      "outputs": [
        {
          "output_type": "stream",
          "name": "stdout",
          "text": [
            "46\n"
          ]
        }
      ]
    },
    {
      "cell_type": "code",
      "source": [
        "L = [1,2,3,5,46,8,95,]\n",
        "L.sort()\n",
        "print(L[-3])"
      ],
      "metadata": {
        "colab": {
          "base_uri": "https://localhost:8080/"
        },
        "id": "MHjDKFOX3A5n",
        "outputId": "4031c946-8d81-4e24-a05f-21a13b58a97a"
      },
      "execution_count": null,
      "outputs": [
        {
          "output_type": "stream",
          "name": "stdout",
          "text": [
            "8\n"
          ]
        }
      ]
    },
    {
      "cell_type": "code",
      "source": [
        "select tauristid, touristname , city\n",
        "from tourist\n",
        "where touristname like 'T%'"
      ],
      "metadata": {
        "id": "wxqcUYMKvNBj"
      },
      "execution_count": null,
      "outputs": []
    },
    {
      "cell_type": "code",
      "source": [
        "select count(adventuretype),adventuretype\n",
        "from adventure \n",
        "oder by adventuretype decs;\n"
      ],
      "metadata": {
        "id": "AYBEnB-Jxvde"
      },
      "execution_count": null,
      "outputs": []
    },
    {
      "cell_type": "code",
      "source": [
        "SELECT adventure_type, COUNT(adventure_type) as num_adventures\n",
        "FROM adventures\n",
        "GROUP BY adventure_type\n",
        "ORDER BY adventure_type DESC\n"
      ],
      "metadata": {
        "id": "PceZm6gvzQgf"
      },
      "execution_count": null,
      "outputs": []
    },
    {
      "cell_type": "code",
      "source": [
        "SELECT t.touristid, t.touristname, t.emailid, b.bookingid, b.bookingamount\n",
        "FROM tourists t\n",
        "JOIN bookings b ON t.touristid = b.touristid\n",
        "JOIN adventures a ON b.adventureid = a.adventureid\n",
        "WHERE a.bookingamount > 2500\n"
      ],
      "metadata": {
        "id": "kA5NJw-l144W"
      },
      "execution_count": null,
      "outputs": []
    },
    {
      "cell_type": "code",
      "source": [
        "L = [1,2,3,5,46,8,95,]\n",
        "L1 = set(L)\n",
        "L1.remove(max(L1))\n",
        "print(max(L1))"
      ],
      "metadata": {
        "colab": {
          "base_uri": "https://localhost:8080/"
        },
        "id": "7VAU5TXG-p6d",
        "outputId": "2ede6fdc-ab39-4942-8664-b46d3a4f4111"
      },
      "execution_count": null,
      "outputs": [
        {
          "output_type": "stream",
          "name": "stdout",
          "text": [
            "46\n"
          ]
        }
      ]
    },
    {
      "cell_type": "code",
      "source": [
        "l = [1,3,4,3,2,4,56,7,5,4,3,4,5,65]\n",
        "l1 = set(l)\n",
        "l1.remove(max(l1))\n",
        "print(max(l1))"
      ],
      "metadata": {
        "id": "u8rBNwAqCmNT",
        "colab": {
          "base_uri": "https://localhost:8080/"
        },
        "outputId": "4f53a72c-d1f1-43c7-d009-0e5620e9f32c"
      },
      "execution_count": null,
      "outputs": [
        {
          "output_type": "stream",
          "name": "stdout",
          "text": [
            "56\n"
          ]
        }
      ]
    },
    {
      "cell_type": "code",
      "source": [],
      "metadata": {
        "id": "Ea9NdojI_gx-"
      },
      "execution_count": null,
      "outputs": []
    },
    {
      "cell_type": "code",
      "source": [
        "# using remove/max funtion\n",
        "L = [1,2,3,5,46,8,95,]\n",
        "L1=set(L)\n",
        "L1.remove(max(L1))\n",
        "\n",
        "print(max(L1))\n"
      ],
      "metadata": {
        "id": "ouVn_XLw6mnB"
      },
      "execution_count": null,
      "outputs": []
    },
    {
      "cell_type": "markdown",
      "source": [
        "Q5. difference between collaborative and content based recommender systems\n",
        "* Ans-Content-based filtering does not require other users' data during recommendations to one user. Collaborative filtering System: Collaborative does not need the features of the items to be given. Every user and item is described by a feature vector or embedding. It creates embedding for both users and items on its own\n",
        "* Content-based filtering uses similarities in products, services, or content features, as well as information accumulated about the user to make recommendations. Collaborative filtering relies on the preferences of similar users to offer recommendatio"
      ],
      "metadata": {
        "id": "aGGnhdFn4kH6"
      }
    },
    {
      "cell_type": "code",
      "source": [
        "num = 1234\n",
        "reversed = 0\n",
        "while num != 0:\n",
        "  digit = num%10\n",
        "  reversed = reversed * 10 + digit \n",
        "  num //= 10\n",
        "print(\"reverse:\"+str(reversed))"
      ],
      "metadata": {
        "colab": {
          "base_uri": "https://localhost:8080/"
        },
        "id": "oI53HLF8_lTd",
        "outputId": "f3adf60e-9407-4dce-cd07-a9b036d73e05"
      },
      "execution_count": null,
      "outputs": [
        {
          "output_type": "stream",
          "name": "stdout",
          "text": [
            "reverse:4321\n"
          ]
        }
      ]
    },
    {
      "cell_type": "code",
      "source": [
        "# Q.6 Reverse the integer 1234(do not change type the data)\n",
        "num = 1234\n",
        "reversed_num = 0\n",
        "\n",
        "while num !=0:\n",
        "  digit=num%10\n",
        "  reversed_num=reversed_num *10 + digit\n",
        "  num//=10\n",
        "print(\"Reverse Number:\" + str(reversed_num))"
      ],
      "metadata": {
        "id": "mjHfrkgB6m20",
        "colab": {
          "base_uri": "https://localhost:8080/"
        },
        "outputId": "2deab0b9-5e6a-445c-9e40-24e279bbcd0e"
      },
      "execution_count": null,
      "outputs": [
        {
          "output_type": "stream",
          "name": "stdout",
          "text": [
            "Reverse Number:4321\n"
          ]
        }
      ]
    },
    {
      "cell_type": "code",
      "source": [
        "a = int(input(\"number:\"))\n",
        "re = 0 \n",
        "while a != 0:\n",
        "  digit = a%10\n",
        "  re = re*10 + digit\n",
        "  a = a//10\n",
        "print(re)\n"
      ],
      "metadata": {
        "colab": {
          "base_uri": "https://localhost:8080/"
        },
        "id": "F5WcUST5Fmi9",
        "outputId": "5a436ab6-1466-4aa5-8dfe-202d8a6db53a"
      },
      "execution_count": null,
      "outputs": [
        {
          "output_type": "stream",
          "name": "stdout",
          "text": [
            "number:123\n",
            "321\n"
          ]
        }
      ]
    },
    {
      "cell_type": "code",
      "source": [
        "a = int(input('number: '))\n",
        "rv = 0\n",
        "while a != 0:\n",
        "   digit = a%10\n",
        "   rv = rv*10 + digit\n",
        "   a = a//10\n",
        "print(rv)"
      ],
      "metadata": {
        "colab": {
          "base_uri": "https://localhost:8080/"
        },
        "id": "b5y0bP-Ppjgk",
        "outputId": "1d96abfa-25cf-450e-bf19-e367eb69a8bf"
      },
      "execution_count": null,
      "outputs": [
        {
          "output_type": "stream",
          "name": "stdout",
          "text": [
            "number: 12345\n",
            "54321\n"
          ]
        }
      ]
    },
    {
      "cell_type": "code",
      "source": [
        "A = int(input())\n",
        "rv = 0\n",
        "while A != 0:\n",
        "  dig = A %10\n",
        "  rv = rv *10 +dig\n",
        "  A = A//10\n",
        "print(rv)"
      ],
      "metadata": {
        "colab": {
          "base_uri": "https://localhost:8080/"
        },
        "id": "vGClb628sfGP",
        "outputId": "21ab72c4-f911-44bb-ab40-503282fdcabc"
      },
      "execution_count": null,
      "outputs": [
        {
          "output_type": "stream",
          "name": "stdout",
          "text": [
            "345\n",
            "543\n"
          ]
        }
      ]
    },
    {
      "cell_type": "code",
      "source": [
        "d = int(input())\n",
        "rvs= 0\n",
        "while d != 0:\n",
        "  digs = d%10\n",
        "  rvs = rvs*10+digs\n",
        "  d = d//10\n",
        "print(rvs)"
      ],
      "metadata": {
        "colab": {
          "base_uri": "https://localhost:8080/"
        },
        "id": "92f0IvP7s33Y",
        "outputId": "5bdeb711-6013-40db-eb26-bc40932b1df1"
      },
      "execution_count": null,
      "outputs": [
        {
          "output_type": "stream",
          "name": "stdout",
          "text": [
            "123\n",
            "321\n"
          ]
        }
      ]
    },
    {
      "cell_type": "code",
      "source": [
        "gth = \"pwwkew\"\n",
        "u = set(gth)\n",
        "print(len(u))"
      ],
      "metadata": {
        "colab": {
          "base_uri": "https://localhost:8080/"
        },
        "id": "MOyKN3-oGduw",
        "outputId": "a642d356-2406-4644-c64f-9990312e7f48"
      },
      "execution_count": null,
      "outputs": [
        {
          "output_type": "stream",
          "name": "stdout",
          "text": [
            "4\n"
          ]
        }
      ]
    },
    {
      "cell_type": "code",
      "source": [
        "ss = int(input('Enter number:'))\n",
        "rv = 0\n",
        "while ss != 0:\n",
        "  digits = ss%10\n",
        "  rv = rv*10 + digits\n",
        "  ss = ss//10\n",
        "print(rv)"
      ],
      "metadata": {
        "colab": {
          "base_uri": "https://localhost:8080/"
        },
        "id": "0vCVMUNK_KLQ",
        "outputId": "83056858-ee7f-488a-d3a6-3cbe379235d1"
      },
      "execution_count": null,
      "outputs": [
        {
          "output_type": "stream",
          "name": "stdout",
          "text": [
            "Enter number:123456789\n",
            "987654321\n"
          ]
        }
      ]
    },
    {
      "cell_type": "code",
      "source": [
        "aa = int(input('Enter num:'))\n",
        "rv = 0\n",
        "while aa != 0:\n",
        "  dig = aa%10\n",
        "  rv = rv*10 + dig\n",
        "  aa = aa //10\n",
        "print(rv) "
      ],
      "metadata": {
        "colab": {
          "base_uri": "https://localhost:8080/"
        },
        "id": "GY6pkGOk_zSs",
        "outputId": "7202c50e-6b82-4c53-f487-e8cc42123ebb"
      },
      "execution_count": null,
      "outputs": [
        {
          "output_type": "stream",
          "name": "stdout",
          "text": [
            "Enter num:12345\n",
            "54321\n"
          ]
        }
      ]
    },
    {
      "cell_type": "code",
      "source": [
        " G = int(input('number:'))\n",
        " s = 0\n",
        " while G != 0:\n",
        "   D = G%10\n",
        "   s = s*10 + D\n",
        "   G = G//10\n",
        "print(s)"
      ],
      "metadata": {
        "colab": {
          "base_uri": "https://localhost:8080/"
        },
        "id": "xUCrvRnrha5H",
        "outputId": "2c595f8f-2c9d-44b2-f43f-cc2f6eb6c630"
      },
      "execution_count": null,
      "outputs": [
        {
          "output_type": "stream",
          "name": "stdout",
          "text": [
            "number:12345\n",
            "54321\n"
          ]
        }
      ]
    },
    {
      "cell_type": "code",
      "source": [
        "A = int(input())\n",
        "rv = 0\n",
        "while A != 0:\n",
        "  d = A%10\n",
        "  rv = rv*10 +d\n",
        "  A = A//10\n",
        "print(rv)"
      ],
      "metadata": {
        "colab": {
          "base_uri": "https://localhost:8080/"
        },
        "id": "xvfu0ESh5-VA",
        "outputId": "56c380b2-b54f-4b42-8290-acd65a8aaad1"
      },
      "execution_count": null,
      "outputs": [
        {
          "output_type": "stream",
          "name": "stdout",
          "text": [
            "12345\n",
            "54321\n"
          ]
        }
      ]
    },
    {
      "cell_type": "code",
      "source": [
        "num = int(input())\n",
        "def rev_int(num):\n",
        "  return (str(num))[::-1]\n",
        "print(rev_int(num))"
      ],
      "metadata": {
        "colab": {
          "base_uri": "https://localhost:8080/"
        },
        "id": "S9OonMtVBTAG",
        "outputId": "68aa2f66-1a48-49e0-b247-511e95220a46"
      },
      "execution_count": null,
      "outputs": [
        {
          "output_type": "stream",
          "name": "stdout",
          "text": [
            "12345\n",
            "54321\n"
          ]
        }
      ]
    },
    {
      "cell_type": "code",
      "source": [
        "num = 1234\n",
        "print(str(num)[::-1])"
      ],
      "metadata": {
        "id": "gvCAV90N6nD1",
        "colab": {
          "base_uri": "https://localhost:8080/"
        },
        "outputId": "a54eebd3-6c09-44e4-f3bf-1ac28ce2ca37"
      },
      "execution_count": null,
      "outputs": [
        {
          "output_type": "stream",
          "name": "stdout",
          "text": [
            "4321\n"
          ]
        }
      ]
    },
    {
      "cell_type": "code",
      "source": [
        "n = 123456789\n",
        "print(str(n)[::-1])"
      ],
      "metadata": {
        "colab": {
          "base_uri": "https://localhost:8080/"
        },
        "id": "YCzCibXPjanH",
        "outputId": "82bac99e-270d-40d6-ba69-431e6a4dbf4e"
      },
      "execution_count": null,
      "outputs": [
        {
          "output_type": "stream",
          "name": "stdout",
          "text": [
            "987654321\n"
          ]
        }
      ]
    },
    {
      "cell_type": "code",
      "source": [
        "# Q.7 How to drop from a DataFrame\n",
        "# import pandas pakage\n",
        "# create a dictionary with five filed each\n",
        "import pandas as pd\n",
        "data = {\n",
        "    'A': ['A1', 'A2', 'A3', 'A4', 'A5'],\n",
        "    'B': ['B1', 'B2', 'B3', 'B4', 'B5'],\n",
        "    'C': ['C1', 'C2', 'C3', 'C4', 'C5'],\n",
        "    'D': ['D1', 'D2', 'D3', 'D4', 'D5'],\n",
        "    'E': ['E1', 'E2', 'E3', 'E4', 'E5']}\n",
        "print(data)\n",
        "    \n"
      ],
      "metadata": {
        "id": "lst2Tfdx6nWk",
        "colab": {
          "base_uri": "https://localhost:8080/"
        },
        "outputId": "d59d9655-fc9f-4e33-bbbb-a11df63f4ffd"
      },
      "execution_count": null,
      "outputs": [
        {
          "output_type": "stream",
          "name": "stdout",
          "text": [
            "{'A': ['A1', 'A2', 'A3', 'A4', 'A5'], 'B': ['B1', 'B2', 'B3', 'B4', 'B5'], 'C': ['C1', 'C2', 'C3', 'C4', 'C5'], 'D': ['D1', 'D2', 'D3', 'D4', 'D5'], 'E': ['E1', 'E2', 'E3', 'E4', 'E5']}\n"
          ]
        }
      ]
    },
    {
      "cell_type": "code",
      "source": [
        "# covert the dictionary into Dataframe\n",
        "df = pd.DataFrame(data)\n",
        "df"
      ],
      "metadata": {
        "id": "_Xc6OAir6nk_",
        "colab": {
          "base_uri": "https://localhost:8080/",
          "height": 206
        },
        "outputId": "8afdbf10-612d-44d5-bfd7-bc8d2dfcb3d5"
      },
      "execution_count": null,
      "outputs": [
        {
          "output_type": "execute_result",
          "data": {
            "text/plain": [
              "    A   B   C   D   E\n",
              "0  A1  B1  C1  D1  E1\n",
              "1  A2  B2  C2  D2  E2\n",
              "2  A3  B3  C3  D3  E3\n",
              "3  A4  B4  C4  D4  E4\n",
              "4  A5  B5  C5  D5  E5"
            ],
            "text/html": [
              "\n",
              "  <div id=\"df-cf71eb54-db56-4475-b865-d633c2324d58\">\n",
              "    <div class=\"colab-df-container\">\n",
              "      <div>\n",
              "<style scoped>\n",
              "    .dataframe tbody tr th:only-of-type {\n",
              "        vertical-align: middle;\n",
              "    }\n",
              "\n",
              "    .dataframe tbody tr th {\n",
              "        vertical-align: top;\n",
              "    }\n",
              "\n",
              "    .dataframe thead th {\n",
              "        text-align: right;\n",
              "    }\n",
              "</style>\n",
              "<table border=\"1\" class=\"dataframe\">\n",
              "  <thead>\n",
              "    <tr style=\"text-align: right;\">\n",
              "      <th></th>\n",
              "      <th>A</th>\n",
              "      <th>B</th>\n",
              "      <th>C</th>\n",
              "      <th>D</th>\n",
              "      <th>E</th>\n",
              "    </tr>\n",
              "  </thead>\n",
              "  <tbody>\n",
              "    <tr>\n",
              "      <th>0</th>\n",
              "      <td>A1</td>\n",
              "      <td>B1</td>\n",
              "      <td>C1</td>\n",
              "      <td>D1</td>\n",
              "      <td>E1</td>\n",
              "    </tr>\n",
              "    <tr>\n",
              "      <th>1</th>\n",
              "      <td>A2</td>\n",
              "      <td>B2</td>\n",
              "      <td>C2</td>\n",
              "      <td>D2</td>\n",
              "      <td>E2</td>\n",
              "    </tr>\n",
              "    <tr>\n",
              "      <th>2</th>\n",
              "      <td>A3</td>\n",
              "      <td>B3</td>\n",
              "      <td>C3</td>\n",
              "      <td>D3</td>\n",
              "      <td>E3</td>\n",
              "    </tr>\n",
              "    <tr>\n",
              "      <th>3</th>\n",
              "      <td>A4</td>\n",
              "      <td>B4</td>\n",
              "      <td>C4</td>\n",
              "      <td>D4</td>\n",
              "      <td>E4</td>\n",
              "    </tr>\n",
              "    <tr>\n",
              "      <th>4</th>\n",
              "      <td>A5</td>\n",
              "      <td>B5</td>\n",
              "      <td>C5</td>\n",
              "      <td>D5</td>\n",
              "      <td>E5</td>\n",
              "    </tr>\n",
              "  </tbody>\n",
              "</table>\n",
              "</div>\n",
              "      <button class=\"colab-df-convert\" onclick=\"convertToInteractive('df-cf71eb54-db56-4475-b865-d633c2324d58')\"\n",
              "              title=\"Convert this dataframe to an interactive table.\"\n",
              "              style=\"display:none;\">\n",
              "        \n",
              "  <svg xmlns=\"http://www.w3.org/2000/svg\" height=\"24px\"viewBox=\"0 0 24 24\"\n",
              "       width=\"24px\">\n",
              "    <path d=\"M0 0h24v24H0V0z\" fill=\"none\"/>\n",
              "    <path d=\"M18.56 5.44l.94 2.06.94-2.06 2.06-.94-2.06-.94-.94-2.06-.94 2.06-2.06.94zm-11 1L8.5 8.5l.94-2.06 2.06-.94-2.06-.94L8.5 2.5l-.94 2.06-2.06.94zm10 10l.94 2.06.94-2.06 2.06-.94-2.06-.94-.94-2.06-.94 2.06-2.06.94z\"/><path d=\"M17.41 7.96l-1.37-1.37c-.4-.4-.92-.59-1.43-.59-.52 0-1.04.2-1.43.59L10.3 9.45l-7.72 7.72c-.78.78-.78 2.05 0 2.83L4 21.41c.39.39.9.59 1.41.59.51 0 1.02-.2 1.41-.59l7.78-7.78 2.81-2.81c.8-.78.8-2.07 0-2.86zM5.41 20L4 18.59l7.72-7.72 1.47 1.35L5.41 20z\"/>\n",
              "  </svg>\n",
              "      </button>\n",
              "      \n",
              "  <style>\n",
              "    .colab-df-container {\n",
              "      display:flex;\n",
              "      flex-wrap:wrap;\n",
              "      gap: 12px;\n",
              "    }\n",
              "\n",
              "    .colab-df-convert {\n",
              "      background-color: #E8F0FE;\n",
              "      border: none;\n",
              "      border-radius: 50%;\n",
              "      cursor: pointer;\n",
              "      display: none;\n",
              "      fill: #1967D2;\n",
              "      height: 32px;\n",
              "      padding: 0 0 0 0;\n",
              "      width: 32px;\n",
              "    }\n",
              "\n",
              "    .colab-df-convert:hover {\n",
              "      background-color: #E2EBFA;\n",
              "      box-shadow: 0px 1px 2px rgba(60, 64, 67, 0.3), 0px 1px 3px 1px rgba(60, 64, 67, 0.15);\n",
              "      fill: #174EA6;\n",
              "    }\n",
              "\n",
              "    [theme=dark] .colab-df-convert {\n",
              "      background-color: #3B4455;\n",
              "      fill: #D2E3FC;\n",
              "    }\n",
              "\n",
              "    [theme=dark] .colab-df-convert:hover {\n",
              "      background-color: #434B5C;\n",
              "      box-shadow: 0px 1px 3px 1px rgba(0, 0, 0, 0.15);\n",
              "      filter: drop-shadow(0px 1px 2px rgba(0, 0, 0, 0.3));\n",
              "      fill: #FFFFFF;\n",
              "    }\n",
              "  </style>\n",
              "\n",
              "      <script>\n",
              "        const buttonEl =\n",
              "          document.querySelector('#df-cf71eb54-db56-4475-b865-d633c2324d58 button.colab-df-convert');\n",
              "        buttonEl.style.display =\n",
              "          google.colab.kernel.accessAllowed ? 'block' : 'none';\n",
              "\n",
              "        async function convertToInteractive(key) {\n",
              "          const element = document.querySelector('#df-cf71eb54-db56-4475-b865-d633c2324d58');\n",
              "          const dataTable =\n",
              "            await google.colab.kernel.invokeFunction('convertToInteractive',\n",
              "                                                     [key], {});\n",
              "          if (!dataTable) return;\n",
              "\n",
              "          const docLinkHtml = 'Like what you see? Visit the ' +\n",
              "            '<a target=\"_blank\" href=https://colab.research.google.com/notebooks/data_table.ipynb>data table notebook</a>'\n",
              "            + ' to learn more about interactive tables.';\n",
              "          element.innerHTML = '';\n",
              "          dataTable['output_type'] = 'display_data';\n",
              "          await google.colab.output.renderOutput(dataTable, element);\n",
              "          const docLink = document.createElement('div');\n",
              "          docLink.innerHTML = docLinkHtml;\n",
              "          element.appendChild(docLink);\n",
              "        }\n",
              "      </script>\n",
              "    </div>\n",
              "  </div>\n",
              "  "
            ]
          },
          "metadata": {},
          "execution_count": 25
        }
      ]
    },
    {
      "cell_type": "code",
      "source": [
        "# remove column name \"A\"\n",
        "df.drop([\"A\"],axis=1)"
      ],
      "metadata": {
        "colab": {
          "base_uri": "https://localhost:8080/",
          "height": 206
        },
        "id": "h6AqRA3z7cVO",
        "outputId": "de23bde0-85b5-41b1-d7e9-c7534ae24b58"
      },
      "execution_count": null,
      "outputs": [
        {
          "output_type": "execute_result",
          "data": {
            "text/plain": [
              "    B   C   D   E\n",
              "0  B1  C1  D1  E1\n",
              "1  B2  C2  D2  E2\n",
              "2  B3  C3  D3  E3\n",
              "3  B4  C4  D4  E4\n",
              "4  B5  C5  D5  E5"
            ],
            "text/html": [
              "\n",
              "  <div id=\"df-cf620e19-2eb5-46cd-ad47-414f5b016f44\">\n",
              "    <div class=\"colab-df-container\">\n",
              "      <div>\n",
              "<style scoped>\n",
              "    .dataframe tbody tr th:only-of-type {\n",
              "        vertical-align: middle;\n",
              "    }\n",
              "\n",
              "    .dataframe tbody tr th {\n",
              "        vertical-align: top;\n",
              "    }\n",
              "\n",
              "    .dataframe thead th {\n",
              "        text-align: right;\n",
              "    }\n",
              "</style>\n",
              "<table border=\"1\" class=\"dataframe\">\n",
              "  <thead>\n",
              "    <tr style=\"text-align: right;\">\n",
              "      <th></th>\n",
              "      <th>B</th>\n",
              "      <th>C</th>\n",
              "      <th>D</th>\n",
              "      <th>E</th>\n",
              "    </tr>\n",
              "  </thead>\n",
              "  <tbody>\n",
              "    <tr>\n",
              "      <th>0</th>\n",
              "      <td>B1</td>\n",
              "      <td>C1</td>\n",
              "      <td>D1</td>\n",
              "      <td>E1</td>\n",
              "    </tr>\n",
              "    <tr>\n",
              "      <th>1</th>\n",
              "      <td>B2</td>\n",
              "      <td>C2</td>\n",
              "      <td>D2</td>\n",
              "      <td>E2</td>\n",
              "    </tr>\n",
              "    <tr>\n",
              "      <th>2</th>\n",
              "      <td>B3</td>\n",
              "      <td>C3</td>\n",
              "      <td>D3</td>\n",
              "      <td>E3</td>\n",
              "    </tr>\n",
              "    <tr>\n",
              "      <th>3</th>\n",
              "      <td>B4</td>\n",
              "      <td>C4</td>\n",
              "      <td>D4</td>\n",
              "      <td>E4</td>\n",
              "    </tr>\n",
              "    <tr>\n",
              "      <th>4</th>\n",
              "      <td>B5</td>\n",
              "      <td>C5</td>\n",
              "      <td>D5</td>\n",
              "      <td>E5</td>\n",
              "    </tr>\n",
              "  </tbody>\n",
              "</table>\n",
              "</div>\n",
              "      <button class=\"colab-df-convert\" onclick=\"convertToInteractive('df-cf620e19-2eb5-46cd-ad47-414f5b016f44')\"\n",
              "              title=\"Convert this dataframe to an interactive table.\"\n",
              "              style=\"display:none;\">\n",
              "        \n",
              "  <svg xmlns=\"http://www.w3.org/2000/svg\" height=\"24px\"viewBox=\"0 0 24 24\"\n",
              "       width=\"24px\">\n",
              "    <path d=\"M0 0h24v24H0V0z\" fill=\"none\"/>\n",
              "    <path d=\"M18.56 5.44l.94 2.06.94-2.06 2.06-.94-2.06-.94-.94-2.06-.94 2.06-2.06.94zm-11 1L8.5 8.5l.94-2.06 2.06-.94-2.06-.94L8.5 2.5l-.94 2.06-2.06.94zm10 10l.94 2.06.94-2.06 2.06-.94-2.06-.94-.94-2.06-.94 2.06-2.06.94z\"/><path d=\"M17.41 7.96l-1.37-1.37c-.4-.4-.92-.59-1.43-.59-.52 0-1.04.2-1.43.59L10.3 9.45l-7.72 7.72c-.78.78-.78 2.05 0 2.83L4 21.41c.39.39.9.59 1.41.59.51 0 1.02-.2 1.41-.59l7.78-7.78 2.81-2.81c.8-.78.8-2.07 0-2.86zM5.41 20L4 18.59l7.72-7.72 1.47 1.35L5.41 20z\"/>\n",
              "  </svg>\n",
              "      </button>\n",
              "      \n",
              "  <style>\n",
              "    .colab-df-container {\n",
              "      display:flex;\n",
              "      flex-wrap:wrap;\n",
              "      gap: 12px;\n",
              "    }\n",
              "\n",
              "    .colab-df-convert {\n",
              "      background-color: #E8F0FE;\n",
              "      border: none;\n",
              "      border-radius: 50%;\n",
              "      cursor: pointer;\n",
              "      display: none;\n",
              "      fill: #1967D2;\n",
              "      height: 32px;\n",
              "      padding: 0 0 0 0;\n",
              "      width: 32px;\n",
              "    }\n",
              "\n",
              "    .colab-df-convert:hover {\n",
              "      background-color: #E2EBFA;\n",
              "      box-shadow: 0px 1px 2px rgba(60, 64, 67, 0.3), 0px 1px 3px 1px rgba(60, 64, 67, 0.15);\n",
              "      fill: #174EA6;\n",
              "    }\n",
              "\n",
              "    [theme=dark] .colab-df-convert {\n",
              "      background-color: #3B4455;\n",
              "      fill: #D2E3FC;\n",
              "    }\n",
              "\n",
              "    [theme=dark] .colab-df-convert:hover {\n",
              "      background-color: #434B5C;\n",
              "      box-shadow: 0px 1px 3px 1px rgba(0, 0, 0, 0.15);\n",
              "      filter: drop-shadow(0px 1px 2px rgba(0, 0, 0, 0.3));\n",
              "      fill: #FFFFFF;\n",
              "    }\n",
              "  </style>\n",
              "\n",
              "      <script>\n",
              "        const buttonEl =\n",
              "          document.querySelector('#df-cf620e19-2eb5-46cd-ad47-414f5b016f44 button.colab-df-convert');\n",
              "        buttonEl.style.display =\n",
              "          google.colab.kernel.accessAllowed ? 'block' : 'none';\n",
              "\n",
              "        async function convertToInteractive(key) {\n",
              "          const element = document.querySelector('#df-cf620e19-2eb5-46cd-ad47-414f5b016f44');\n",
              "          const dataTable =\n",
              "            await google.colab.kernel.invokeFunction('convertToInteractive',\n",
              "                                                     [key], {});\n",
              "          if (!dataTable) return;\n",
              "\n",
              "          const docLinkHtml = 'Like what you see? Visit the ' +\n",
              "            '<a target=\"_blank\" href=https://colab.research.google.com/notebooks/data_table.ipynb>data table notebook</a>'\n",
              "            + ' to learn more about interactive tables.';\n",
              "          element.innerHTML = '';\n",
              "          dataTable['output_type'] = 'display_data';\n",
              "          await google.colab.output.renderOutput(dataTable, element);\n",
              "          const docLink = document.createElement('div');\n",
              "          docLink.innerHTML = docLinkHtml;\n",
              "          element.appendChild(docLink);\n",
              "        }\n",
              "      </script>\n",
              "    </div>\n",
              "  </div>\n",
              "  "
            ]
          },
          "metadata": {},
          "execution_count": 26
        }
      ]
    },
    {
      "cell_type": "code",
      "source": [
        "import pandas as pd\n",
        "data = {\n",
        "    'A' :[1,2,3,45,6],\n",
        "    'B':[4,5,6,7,8],\n",
        "    'C':[5,7,8,6,4],\n",
        "    'D':[44,5,2,88,5]\n",
        "}\n",
        "print(data)\n"
      ],
      "metadata": {
        "colab": {
          "base_uri": "https://localhost:8080/"
        },
        "id": "GvWrrDV1CJJj",
        "outputId": "a59322ef-033b-4b8a-b5ed-f6f6db0609b3"
      },
      "execution_count": null,
      "outputs": [
        {
          "output_type": "stream",
          "name": "stdout",
          "text": [
            "{'A': [1, 2, 3, 45, 6], 'B': [4, 5, 6, 7, 8], 'C': [5, 7, 8, 6, 4], 'D': [44, 5, 2, 88, 5]}\n"
          ]
        }
      ]
    },
    {
      "cell_type": "code",
      "source": [
        "df = pd.DataFrame(data)\n",
        "df\n"
      ],
      "metadata": {
        "colab": {
          "base_uri": "https://localhost:8080/",
          "height": 206
        },
        "id": "vSzG2hB_C9qS",
        "outputId": "dc51b352-6923-423a-a009-138e8eda69f0"
      },
      "execution_count": null,
      "outputs": [
        {
          "output_type": "execute_result",
          "data": {
            "text/plain": [
              "    A  B  C   D\n",
              "0   1  4  5  44\n",
              "1   2  5  7   5\n",
              "2   3  6  8   2\n",
              "3  45  7  6  88\n",
              "4   6  8  4   5"
            ],
            "text/html": [
              "\n",
              "  <div id=\"df-779c0cb9-3b9d-4fb4-a951-92482d3123fb\">\n",
              "    <div class=\"colab-df-container\">\n",
              "      <div>\n",
              "<style scoped>\n",
              "    .dataframe tbody tr th:only-of-type {\n",
              "        vertical-align: middle;\n",
              "    }\n",
              "\n",
              "    .dataframe tbody tr th {\n",
              "        vertical-align: top;\n",
              "    }\n",
              "\n",
              "    .dataframe thead th {\n",
              "        text-align: right;\n",
              "    }\n",
              "</style>\n",
              "<table border=\"1\" class=\"dataframe\">\n",
              "  <thead>\n",
              "    <tr style=\"text-align: right;\">\n",
              "      <th></th>\n",
              "      <th>A</th>\n",
              "      <th>B</th>\n",
              "      <th>C</th>\n",
              "      <th>D</th>\n",
              "    </tr>\n",
              "  </thead>\n",
              "  <tbody>\n",
              "    <tr>\n",
              "      <th>0</th>\n",
              "      <td>1</td>\n",
              "      <td>4</td>\n",
              "      <td>5</td>\n",
              "      <td>44</td>\n",
              "    </tr>\n",
              "    <tr>\n",
              "      <th>1</th>\n",
              "      <td>2</td>\n",
              "      <td>5</td>\n",
              "      <td>7</td>\n",
              "      <td>5</td>\n",
              "    </tr>\n",
              "    <tr>\n",
              "      <th>2</th>\n",
              "      <td>3</td>\n",
              "      <td>6</td>\n",
              "      <td>8</td>\n",
              "      <td>2</td>\n",
              "    </tr>\n",
              "    <tr>\n",
              "      <th>3</th>\n",
              "      <td>45</td>\n",
              "      <td>7</td>\n",
              "      <td>6</td>\n",
              "      <td>88</td>\n",
              "    </tr>\n",
              "    <tr>\n",
              "      <th>4</th>\n",
              "      <td>6</td>\n",
              "      <td>8</td>\n",
              "      <td>4</td>\n",
              "      <td>5</td>\n",
              "    </tr>\n",
              "  </tbody>\n",
              "</table>\n",
              "</div>\n",
              "      <button class=\"colab-df-convert\" onclick=\"convertToInteractive('df-779c0cb9-3b9d-4fb4-a951-92482d3123fb')\"\n",
              "              title=\"Convert this dataframe to an interactive table.\"\n",
              "              style=\"display:none;\">\n",
              "        \n",
              "  <svg xmlns=\"http://www.w3.org/2000/svg\" height=\"24px\"viewBox=\"0 0 24 24\"\n",
              "       width=\"24px\">\n",
              "    <path d=\"M0 0h24v24H0V0z\" fill=\"none\"/>\n",
              "    <path d=\"M18.56 5.44l.94 2.06.94-2.06 2.06-.94-2.06-.94-.94-2.06-.94 2.06-2.06.94zm-11 1L8.5 8.5l.94-2.06 2.06-.94-2.06-.94L8.5 2.5l-.94 2.06-2.06.94zm10 10l.94 2.06.94-2.06 2.06-.94-2.06-.94-.94-2.06-.94 2.06-2.06.94z\"/><path d=\"M17.41 7.96l-1.37-1.37c-.4-.4-.92-.59-1.43-.59-.52 0-1.04.2-1.43.59L10.3 9.45l-7.72 7.72c-.78.78-.78 2.05 0 2.83L4 21.41c.39.39.9.59 1.41.59.51 0 1.02-.2 1.41-.59l7.78-7.78 2.81-2.81c.8-.78.8-2.07 0-2.86zM5.41 20L4 18.59l7.72-7.72 1.47 1.35L5.41 20z\"/>\n",
              "  </svg>\n",
              "      </button>\n",
              "      \n",
              "  <style>\n",
              "    .colab-df-container {\n",
              "      display:flex;\n",
              "      flex-wrap:wrap;\n",
              "      gap: 12px;\n",
              "    }\n",
              "\n",
              "    .colab-df-convert {\n",
              "      background-color: #E8F0FE;\n",
              "      border: none;\n",
              "      border-radius: 50%;\n",
              "      cursor: pointer;\n",
              "      display: none;\n",
              "      fill: #1967D2;\n",
              "      height: 32px;\n",
              "      padding: 0 0 0 0;\n",
              "      width: 32px;\n",
              "    }\n",
              "\n",
              "    .colab-df-convert:hover {\n",
              "      background-color: #E2EBFA;\n",
              "      box-shadow: 0px 1px 2px rgba(60, 64, 67, 0.3), 0px 1px 3px 1px rgba(60, 64, 67, 0.15);\n",
              "      fill: #174EA6;\n",
              "    }\n",
              "\n",
              "    [theme=dark] .colab-df-convert {\n",
              "      background-color: #3B4455;\n",
              "      fill: #D2E3FC;\n",
              "    }\n",
              "\n",
              "    [theme=dark] .colab-df-convert:hover {\n",
              "      background-color: #434B5C;\n",
              "      box-shadow: 0px 1px 3px 1px rgba(0, 0, 0, 0.15);\n",
              "      filter: drop-shadow(0px 1px 2px rgba(0, 0, 0, 0.3));\n",
              "      fill: #FFFFFF;\n",
              "    }\n",
              "  </style>\n",
              "\n",
              "      <script>\n",
              "        const buttonEl =\n",
              "          document.querySelector('#df-779c0cb9-3b9d-4fb4-a951-92482d3123fb button.colab-df-convert');\n",
              "        buttonEl.style.display =\n",
              "          google.colab.kernel.accessAllowed ? 'block' : 'none';\n",
              "\n",
              "        async function convertToInteractive(key) {\n",
              "          const element = document.querySelector('#df-779c0cb9-3b9d-4fb4-a951-92482d3123fb');\n",
              "          const dataTable =\n",
              "            await google.colab.kernel.invokeFunction('convertToInteractive',\n",
              "                                                     [key], {});\n",
              "          if (!dataTable) return;\n",
              "\n",
              "          const docLinkHtml = 'Like what you see? Visit the ' +\n",
              "            '<a target=\"_blank\" href=https://colab.research.google.com/notebooks/data_table.ipynb>data table notebook</a>'\n",
              "            + ' to learn more about interactive tables.';\n",
              "          element.innerHTML = '';\n",
              "          dataTable['output_type'] = 'display_data';\n",
              "          await google.colab.output.renderOutput(dataTable, element);\n",
              "          const docLink = document.createElement('div');\n",
              "          docLink.innerHTML = docLinkHtml;\n",
              "          element.appendChild(docLink);\n",
              "        }\n",
              "      </script>\n",
              "    </div>\n",
              "  </div>\n",
              "  "
            ]
          },
          "metadata": {},
          "execution_count": 3
        }
      ]
    },
    {
      "cell_type": "code",
      "source": [
        "df.dropna(inplace= True)\n",
        "df= df[df.A!=2]\n",
        "df"
      ],
      "metadata": {
        "colab": {
          "base_uri": "https://localhost:8080/",
          "height": 250
        },
        "id": "CQbx7jTCDa6G",
        "outputId": "60ee0cbc-66e3-4895-d551-1635304d9353"
      },
      "execution_count": null,
      "outputs": [
        {
          "output_type": "stream",
          "name": "stderr",
          "text": [
            "/usr/local/lib/python3.8/dist-packages/pandas/util/_decorators.py:311: SettingWithCopyWarning: \n",
            "A value is trying to be set on a copy of a slice from a DataFrame\n",
            "\n",
            "See the caveats in the documentation: https://pandas.pydata.org/pandas-docs/stable/user_guide/indexing.html#returning-a-view-versus-a-copy\n",
            "  return func(*args, **kwargs)\n"
          ]
        },
        {
          "output_type": "execute_result",
          "data": {
            "text/plain": [
              "    A  B  C   D\n",
              "2   3  6  8   2\n",
              "3  45  7  6  88\n",
              "4   6  8  4   5"
            ],
            "text/html": [
              "\n",
              "  <div id=\"df-24507b52-ca3f-4085-a3ab-dcabcb64c562\">\n",
              "    <div class=\"colab-df-container\">\n",
              "      <div>\n",
              "<style scoped>\n",
              "    .dataframe tbody tr th:only-of-type {\n",
              "        vertical-align: middle;\n",
              "    }\n",
              "\n",
              "    .dataframe tbody tr th {\n",
              "        vertical-align: top;\n",
              "    }\n",
              "\n",
              "    .dataframe thead th {\n",
              "        text-align: right;\n",
              "    }\n",
              "</style>\n",
              "<table border=\"1\" class=\"dataframe\">\n",
              "  <thead>\n",
              "    <tr style=\"text-align: right;\">\n",
              "      <th></th>\n",
              "      <th>A</th>\n",
              "      <th>B</th>\n",
              "      <th>C</th>\n",
              "      <th>D</th>\n",
              "    </tr>\n",
              "  </thead>\n",
              "  <tbody>\n",
              "    <tr>\n",
              "      <th>2</th>\n",
              "      <td>3</td>\n",
              "      <td>6</td>\n",
              "      <td>8</td>\n",
              "      <td>2</td>\n",
              "    </tr>\n",
              "    <tr>\n",
              "      <th>3</th>\n",
              "      <td>45</td>\n",
              "      <td>7</td>\n",
              "      <td>6</td>\n",
              "      <td>88</td>\n",
              "    </tr>\n",
              "    <tr>\n",
              "      <th>4</th>\n",
              "      <td>6</td>\n",
              "      <td>8</td>\n",
              "      <td>4</td>\n",
              "      <td>5</td>\n",
              "    </tr>\n",
              "  </tbody>\n",
              "</table>\n",
              "</div>\n",
              "      <button class=\"colab-df-convert\" onclick=\"convertToInteractive('df-24507b52-ca3f-4085-a3ab-dcabcb64c562')\"\n",
              "              title=\"Convert this dataframe to an interactive table.\"\n",
              "              style=\"display:none;\">\n",
              "        \n",
              "  <svg xmlns=\"http://www.w3.org/2000/svg\" height=\"24px\"viewBox=\"0 0 24 24\"\n",
              "       width=\"24px\">\n",
              "    <path d=\"M0 0h24v24H0V0z\" fill=\"none\"/>\n",
              "    <path d=\"M18.56 5.44l.94 2.06.94-2.06 2.06-.94-2.06-.94-.94-2.06-.94 2.06-2.06.94zm-11 1L8.5 8.5l.94-2.06 2.06-.94-2.06-.94L8.5 2.5l-.94 2.06-2.06.94zm10 10l.94 2.06.94-2.06 2.06-.94-2.06-.94-.94-2.06-.94 2.06-2.06.94z\"/><path d=\"M17.41 7.96l-1.37-1.37c-.4-.4-.92-.59-1.43-.59-.52 0-1.04.2-1.43.59L10.3 9.45l-7.72 7.72c-.78.78-.78 2.05 0 2.83L4 21.41c.39.39.9.59 1.41.59.51 0 1.02-.2 1.41-.59l7.78-7.78 2.81-2.81c.8-.78.8-2.07 0-2.86zM5.41 20L4 18.59l7.72-7.72 1.47 1.35L5.41 20z\"/>\n",
              "  </svg>\n",
              "      </button>\n",
              "      \n",
              "  <style>\n",
              "    .colab-df-container {\n",
              "      display:flex;\n",
              "      flex-wrap:wrap;\n",
              "      gap: 12px;\n",
              "    }\n",
              "\n",
              "    .colab-df-convert {\n",
              "      background-color: #E8F0FE;\n",
              "      border: none;\n",
              "      border-radius: 50%;\n",
              "      cursor: pointer;\n",
              "      display: none;\n",
              "      fill: #1967D2;\n",
              "      height: 32px;\n",
              "      padding: 0 0 0 0;\n",
              "      width: 32px;\n",
              "    }\n",
              "\n",
              "    .colab-df-convert:hover {\n",
              "      background-color: #E2EBFA;\n",
              "      box-shadow: 0px 1px 2px rgba(60, 64, 67, 0.3), 0px 1px 3px 1px rgba(60, 64, 67, 0.15);\n",
              "      fill: #174EA6;\n",
              "    }\n",
              "\n",
              "    [theme=dark] .colab-df-convert {\n",
              "      background-color: #3B4455;\n",
              "      fill: #D2E3FC;\n",
              "    }\n",
              "\n",
              "    [theme=dark] .colab-df-convert:hover {\n",
              "      background-color: #434B5C;\n",
              "      box-shadow: 0px 1px 3px 1px rgba(0, 0, 0, 0.15);\n",
              "      filter: drop-shadow(0px 1px 2px rgba(0, 0, 0, 0.3));\n",
              "      fill: #FFFFFF;\n",
              "    }\n",
              "  </style>\n",
              "\n",
              "      <script>\n",
              "        const buttonEl =\n",
              "          document.querySelector('#df-24507b52-ca3f-4085-a3ab-dcabcb64c562 button.colab-df-convert');\n",
              "        buttonEl.style.display =\n",
              "          google.colab.kernel.accessAllowed ? 'block' : 'none';\n",
              "\n",
              "        async function convertToInteractive(key) {\n",
              "          const element = document.querySelector('#df-24507b52-ca3f-4085-a3ab-dcabcb64c562');\n",
              "          const dataTable =\n",
              "            await google.colab.kernel.invokeFunction('convertToInteractive',\n",
              "                                                     [key], {});\n",
              "          if (!dataTable) return;\n",
              "\n",
              "          const docLinkHtml = 'Like what you see? Visit the ' +\n",
              "            '<a target=\"_blank\" href=https://colab.research.google.com/notebooks/data_table.ipynb>data table notebook</a>'\n",
              "            + ' to learn more about interactive tables.';\n",
              "          element.innerHTML = '';\n",
              "          dataTable['output_type'] = 'display_data';\n",
              "          await google.colab.output.renderOutput(dataTable, element);\n",
              "          const docLink = document.createElement('div');\n",
              "          docLink.innerHTML = docLinkHtml;\n",
              "          element.appendChild(docLink);\n",
              "        }\n",
              "      </script>\n",
              "    </div>\n",
              "  </div>\n",
              "  "
            ]
          },
          "metadata": {},
          "execution_count": 10
        }
      ]
    },
    {
      "cell_type": "markdown",
      "source": [
        "Q.8 what is interquartile range\n",
        "* Ans. The interquartile range (IQR) is the difference between the 75th and 25th percentile of the data. It is a measure of the dispersion similar to standard deviation or variance, but is much more robust against outliers [2\n",
        "\n",
        "* The interquartile range (IQR) contains the second and third quartiles, or the middle half of your data set. Whereas the range gives you the spread of the whole data set, the interquartile range gives you the range of the middle half of a data set"
      ],
      "metadata": {
        "id": "_XrrbUrz8C53"
      }
    },
    {
      "cell_type": "code",
      "source": [
        "# Q.9 Given a list write a python porgaram to swap frist and last element of list\n",
        "my = [5, 6, 7, 10, 11, 12]\n",
        "my[0],my[-1] =my[-1],my[0]\n",
        "print(my)\n"
      ],
      "metadata": {
        "colab": {
          "base_uri": "https://localhost:8080/"
        },
        "id": "bZpScQWI71SY",
        "outputId": "9fae50f3-c45d-418c-f6ff-0e017bb9b022"
      },
      "execution_count": null,
      "outputs": [
        {
          "output_type": "stream",
          "name": "stdout",
          "text": [
            "[12, 6, 7, 10, 11, 5]\n"
          ]
        }
      ]
    },
    {
      "cell_type": "code",
      "source": [
        "y = [5, 6, 7, 10, 11, 12]\n",
        "y[0],y[-1] = y[-1],y[0]\n",
        "print(y)\n"
      ],
      "metadata": {
        "colab": {
          "base_uri": "https://localhost:8080/"
        },
        "id": "zZqUr9FSAzu0",
        "outputId": "9d86e0e6-bc3d-47f1-af8e-93c5c5d1a1e0"
      },
      "execution_count": null,
      "outputs": [
        {
          "output_type": "stream",
          "name": "stdout",
          "text": [
            "[12, 6, 7, 10, 11, 5]\n"
          ]
        }
      ]
    },
    {
      "cell_type": "code",
      "source": [
        "def swap_fun(s_list):\n",
        "  swap =  s_list[0],s_list[-1] = s_list[-1],s_list[0]\n",
        "  return s_list\n",
        "y = [5, 6, 7, 10, 11, 12]\n",
        "print(swap_fun(y))"
      ],
      "metadata": {
        "colab": {
          "base_uri": "https://localhost:8080/"
        },
        "id": "3as9o8m_mZr8",
        "outputId": "c81ca93e-509e-45f9-d1b5-5c372500f6be"
      },
      "execution_count": null,
      "outputs": [
        {
          "output_type": "stream",
          "name": "stdout",
          "text": [
            "[12, 6, 7, 10, 11, 5]\n"
          ]
        }
      ]
    },
    {
      "cell_type": "code",
      "source": [
        "\n",
        "def swap_func(sample_list):\n",
        "  size = len(sample_list)\n",
        "\n",
        "#swap logic\n",
        "  temp = sample_list[0]\n",
        "  sample_list[0] = sample_list[size -1]\n",
        "  sample_list[size -1] = temp\n",
        "  return sample_list\n"
      ],
      "metadata": {
        "id": "SWlqWJVinTgG"
      },
      "execution_count": null,
      "outputs": []
    },
    {
      "cell_type": "code",
      "source": [
        "y = [5, 6, 7, 10, 11, 12]\n",
        "print(swap_func(y))"
      ],
      "metadata": {
        "colab": {
          "base_uri": "https://localhost:8080/"
        },
        "id": "bKdQoC9koqxH",
        "outputId": "237bf986-8275-4a9d-d59b-4b05e1fb8814"
      },
      "execution_count": null,
      "outputs": [
        {
          "output_type": "stream",
          "name": "stdout",
          "text": [
            "[12, 6, 7, 10, 11, 5]\n"
          ]
        }
      ]
    },
    {
      "cell_type": "code",
      "source": [
        "mylist   = [5, 6, 7, 10, 11, 12]\n",
        "first_el = mylist.pop(0)   # first_el = 5, mylist = [6, 7, 10, 11, 12]\n",
        "last_el  = mylist.pop(-1)  # last_el = 12, mylist = [6, 7, 10, 11]\n",
        "mylist.insert(0, last_el)  # mylist = [12, 6, 7, 10, 11]\n",
        "mylist.append(first_el)    # mylist = [12, 6, 7, 10, 11, 5]\n",
        "mylist"
      ],
      "metadata": {
        "colab": {
          "base_uri": "https://localhost:8080/"
        },
        "id": "Cm563ia88sqN",
        "outputId": "a80a1b2d-72aa-4faf-f6e0-b10fdae753fc"
      },
      "execution_count": null,
      "outputs": [
        {
          "output_type": "execute_result",
          "data": {
            "text/plain": [
              "[12, 6, 7, 10, 11, 5]"
            ]
          },
          "metadata": {},
          "execution_count": 28
        }
      ]
    },
    {
      "cell_type": "code",
      "source": [
        "#list[0], list[-1] = list[-1], list[0]\n",
        "xyz = [1,4,5,1,2,3,45]\n",
        "xyz[0],xyz[-1]=xyz[-1],xyz[0]\n",
        "print(xyz)"
      ],
      "metadata": {
        "colab": {
          "base_uri": "https://localhost:8080/"
        },
        "id": "OZ_1DT8g85On",
        "outputId": "186f7d54-f91d-4310-c82f-2ad74165e689"
      },
      "execution_count": null,
      "outputs": [
        {
          "output_type": "stream",
          "name": "stdout",
          "text": [
            "[45, 4, 5, 1, 2, 3, 1]\n"
          ]
        }
      ]
    },
    {
      "cell_type": "markdown",
      "source": [
        "Q10.what is aggregate function\n",
        "\n",
        "* Ans--The aggregate() method allows you to apply a function or a list of function names to be executed along one of the axis of the DataFrame, default 0, which is the index (row) axis. Note: the agg() method is an alias of the aggregate() method.\n",
        "\n",
        "* An aggregate function is a mathematical computation involving a range of values that results in just a single value expressing the significance of the accumulated data it is derived from. Aggregate functions are often used to derive descriptive statistics."
      ],
      "metadata": {
        "id": "w_NX518_9Mbb"
      }
    },
    {
      "cell_type": "markdown",
      "source": [
        "Q11.Which all python libraries have you used for visualization\n",
        "\n",
        "* Ans--Matplotlib and Seaborn are python libraries that are used for data visualization. They have inbuilt modules for plotting different graphs. While Matplotlib is used to embed graphs into applications, Seaborn is primarily used for statistical graphs"
      ],
      "metadata": {
        "id": "6nhDQBcj9V2w"
      }
    },
    {
      "cell_type": "markdown",
      "source": [
        "Q.12 how can we visualize more than three dimensions of data in a single chart\n",
        "* Ans--The best way to go higher than three dimensions is to use plot facets, color, shapes, sizes, depth and so on. You can also use time as a dimension by making an animated plot for other attributes over time (considering time is a dimension in the data)"
      ],
      "metadata": {
        "id": "T0TAr0IU9d4k"
      }
    },
    {
      "cell_type": "markdown",
      "source": [
        "Q.13 What are important features of a good data visualization?\n",
        "* Here are 10 elements of good data visualization that can help you present information that readers can process quickly and easily.\n",
        "Clear Headings and Keys. ...\n",
        "Obvious Trends. ...\n",
        "Simple Analysis. ...\n",
        "Relevant Comparisons. ...\n",
        "Lots of Data/Evidence. ...\n",
        "Summaries of Key Points. ...\n",
        "Add design elements. ...\n",
        "Consolidated Information."
      ],
      "metadata": {
        "id": "4ngcps6L93lV"
      }
    },
    {
      "cell_type": "code",
      "source": [
        "# Q14.write a function to find the words in a string that greater than the given number\n",
        "n=\"hello geeks for geeks is computer science portal\"; l=3\n",
        "s = n.split(\" \")\n",
        "l = list(filter(lambda x: (len(x)>l),s))\n",
        "print(l)\n"
      ],
      "metadata": {
        "colab": {
          "base_uri": "https://localhost:8080/"
        },
        "id": "-9YGXdUe9E6A",
        "outputId": "22ae0ec4-b0ef-4776-da62-380b84abaf13"
      },
      "execution_count": null,
      "outputs": [
        {
          "output_type": "stream",
          "name": "stdout",
          "text": [
            "['hello', 'geeks', 'geeks', 'computer', 'science', 'portal']\n"
          ]
        }
      ]
    },
    {
      "cell_type": "code",
      "source": [
        "s = \" sumit son of rameshwar gaikwad\"\n",
        "l = 3\n",
        "a = [x for x in s.split() if len(x)>l]\n",
        "print(a)"
      ],
      "metadata": {
        "colab": {
          "base_uri": "https://localhost:8080/"
        },
        "id": "OQgb1Oxyv9r4",
        "outputId": "95ada786-0b84-4aab-a60e-51f9db2437a8"
      },
      "execution_count": null,
      "outputs": [
        {
          "output_type": "stream",
          "name": "stdout",
          "text": [
            "['sumit', 'rameshwar', 'gaikwad']\n"
          ]
        }
      ]
    },
    {
      "cell_type": "code",
      "source": [
        "sentence = \"hello geeks for geeks is computer science portal\"\n",
        "length = 4\n",
        "s=sentence.split()\n",
        "print([a for i,a in enumerate(s) if len(a) > length])"
      ],
      "metadata": {
        "colab": {
          "base_uri": "https://localhost:8080/"
        },
        "id": "8EYDHRTU-2F8",
        "outputId": "8f44de6a-5675-41bd-be86-83ab7c95136e"
      },
      "execution_count": null,
      "outputs": [
        {
          "output_type": "stream",
          "name": "stdout",
          "text": [
            "['hello', 'geeks', 'geeks', 'computer', 'science', 'portal']\n"
          ]
        }
      ]
    },
    {
      "cell_type": "code",
      "source": [
        "sentence = \"hello geeks for geeks is computer science portal\"\n",
        "length = 4\n",
        "print([word for word in sentence.split() if len(word) > length])\n"
      ],
      "metadata": {
        "colab": {
          "base_uri": "https://localhost:8080/"
        },
        "id": "gzKA3jH9_V0Q",
        "outputId": "a8cfd7cc-5f0c-4186-d7c3-9afcf0161ec0"
      },
      "execution_count": null,
      "outputs": [
        {
          "output_type": "stream",
          "name": "stdout",
          "text": [
            "['hello', 'geeks', 'geeks', 'computer', 'science', 'portal']\n"
          ]
        }
      ]
    },
    {
      "cell_type": "code",
      "source": [
        "s = \"hello geeks for geeks is computer science portal\"\n",
        "L = 4\n",
        "sa = [x for x in s.split() if len(x) < L]\n",
        "print(sa)"
      ],
      "metadata": {
        "colab": {
          "base_uri": "https://localhost:8080/"
        },
        "id": "1Nq1FnqevTvi",
        "outputId": "5537e763-8020-4c41-b30a-7dd19fa8546d"
      },
      "execution_count": null,
      "outputs": [
        {
          "output_type": "stream",
          "name": "stdout",
          "text": [
            "['for', 'is']\n"
          ]
        }
      ]
    },
    {
      "cell_type": "code",
      "source": [],
      "metadata": {
        "id": "S6zKneCGw3eB"
      },
      "execution_count": null,
      "outputs": []
    },
    {
      "cell_type": "code",
      "source": [
        "# that ok \n",
        "sentence = \"hello geeks for geeks is computer science portal\"\n",
        "length = 4\n",
        "ss = [ x for x in sentence.split() if len(x) > length]\n",
        "print(ss)"
      ],
      "metadata": {
        "colab": {
          "base_uri": "https://localhost:8080/"
        },
        "id": "IweZGln7k20_",
        "outputId": "64f73097-2435-4c9c-c460-2bcf2ef76c58"
      },
      "execution_count": null,
      "outputs": [
        {
          "output_type": "stream",
          "name": "stdout",
          "text": [
            "['hello', 'geeks', 'geeks', 'computer', 'science', 'portal']\n"
          ]
        }
      ]
    },
    {
      "cell_type": "code",
      "source": [
        "def word_k(k,s):\n",
        "  word = s.split(\" \")\n",
        "  for x in word:\n",
        "    if len(x)>k:\n",
        "      print(x)\n",
        "k =3\n",
        "s=\"hello geeks for geeks is computer science portal\"\n",
        "print(word_k(k,s))\n"
      ],
      "metadata": {
        "colab": {
          "base_uri": "https://localhost:8080/"
        },
        "id": "Ti7yTWiq_YRB",
        "outputId": "b1a904df-aef8-426f-e3e2-33265b5cf9af"
      },
      "execution_count": null,
      "outputs": [
        {
          "output_type": "stream",
          "name": "stdout",
          "text": [
            "hello\n",
            "geeks\n",
            "geeks\n",
            "computer\n",
            "science\n",
            "portal\n",
            "None\n"
          ]
        }
      ]
    },
    {
      "cell_type": "code",
      "source": [
        "s=\"hello geeks for geeks is computer science portal\";L=4\n",
        "A=s.split(\" \")\n",
        "L= list(filter(lambda x: (len(x)>L),A))\n",
        "print(L)\n"
      ],
      "metadata": {
        "colab": {
          "base_uri": "https://localhost:8080/"
        },
        "id": "SGzrf0ZY_x-o",
        "outputId": "96d9a04d-84c4-4d50-ba51-27c80cdccfe5"
      },
      "execution_count": null,
      "outputs": [
        {
          "output_type": "stream",
          "name": "stdout",
          "text": [
            "['hello', 'geeks', 'geeks', 'computer', 'science', 'portal']\n"
          ]
        }
      ]
    },
    {
      "cell_type": "code",
      "source": [
        "s=\"hello geeks for geeks is computer science portal\";L=4\n",
        "A = s.split(\" \")\n",
        "L = list(filter(lambda x :(len(x)>L),A))\n",
        "print(L)"
      ],
      "metadata": {
        "colab": {
          "base_uri": "https://localhost:8080/"
        },
        "id": "DqS7UwWFFR1x",
        "outputId": "8eb0bde4-4d80-4c3d-9aac-07e2f520b610"
      },
      "execution_count": null,
      "outputs": [
        {
          "output_type": "stream",
          "name": "stdout",
          "text": [
            "['hello', 'geeks', 'geeks', 'computer', 'science', 'portal']\n"
          ]
        }
      ]
    },
    {
      "cell_type": "code",
      "source": [
        "# Q.16 Write a python porgaram to find all odd number in given range\n",
        "S = int(input())\n",
        "E = int(input())\n",
        "for x in range(S, E + 1):\n",
        "  if x % 2 != 0:\n",
        "    print(x)\n"
      ],
      "metadata": {
        "colab": {
          "base_uri": "https://localhost:8080/"
        },
        "id": "STgU1zfiAp83",
        "outputId": "a83e3882-2619-4097-bc06-b3b2e19d49e1"
      },
      "execution_count": null,
      "outputs": [
        {
          "output_type": "stream",
          "name": "stdout",
          "text": [
            "1\n",
            "10\n",
            "1\n",
            "3\n",
            "5\n",
            "7\n",
            "9\n"
          ]
        }
      ]
    },
    {
      "cell_type": "code",
      "source": [
        "first_num = int(input(\"Enter frist num:\"))\n",
        "second_num = int(input('Enter secound num:'))\n",
        "\n",
        "for x in range(first_num,second_num):\n",
        "  if x % 2 == 0:\n",
        "    print(x)\n"
      ],
      "metadata": {
        "colab": {
          "base_uri": "https://localhost:8080/"
        },
        "id": "cquizi83GWNc",
        "outputId": "1d409b7b-b7a6-43fa-94ce-9f0731c54616"
      },
      "execution_count": null,
      "outputs": [
        {
          "output_type": "stream",
          "name": "stdout",
          "text": [
            "Enter frist num:1\n",
            "Enter secound num:100\n",
            "2\n",
            "4\n",
            "6\n",
            "8\n",
            "10\n",
            "12\n",
            "14\n",
            "16\n",
            "18\n",
            "20\n",
            "22\n",
            "24\n",
            "26\n",
            "28\n",
            "30\n",
            "32\n",
            "34\n",
            "36\n",
            "38\n",
            "40\n",
            "42\n",
            "44\n",
            "46\n",
            "48\n",
            "50\n",
            "52\n",
            "54\n",
            "56\n",
            "58\n",
            "60\n",
            "62\n",
            "64\n",
            "66\n",
            "68\n",
            "70\n",
            "72\n",
            "74\n",
            "76\n",
            "78\n",
            "80\n",
            "82\n",
            "84\n",
            "86\n",
            "88\n",
            "90\n",
            "92\n",
            "94\n",
            "96\n",
            "98\n"
          ]
        }
      ]
    },
    {
      "cell_type": "markdown",
      "source": [
        "Q 17.what are the different names for rows and columns in a dataframe\n",
        "\n",
        "* Ans--Pandas Dataframe type has two attributes called 'columns' and 'index' which can be used to change the column names as well as the row indexes."
      ],
      "metadata": {
        "id": "Vt8ybcdxGKub"
      }
    },
    {
      "cell_type": "markdown",
      "source": [
        "Q.18 what is the major difference between for loop and while loop\n",
        "* The for and while loops are both conditional statements. A for loop is a single-line command that will be executed repeatedly. While loops can be single-lined or contain multiple commands for a single condition. Both the for loop and the while loop are important in computer languages for obtaining results."
      ],
      "metadata": {
        "id": "TCGXlp5hIOXB"
      }
    },
    {
      "cell_type": "code",
      "source": [
        "# Q.19 write a program for factorial in python\n",
        "# Recursion is the concept where a funtion can call itself any number of tiomes that a certain condition is met\n",
        "# The conditions is important to avoid infinite loops\n",
        "def factorial(a):\n",
        "  if a == 1:\n",
        "    return 1\n",
        "  else:\n",
        "    return(a*factorial(a-1))\n",
        "input_num = 5\n",
        "print(\"the fact of\",input_num,'is',factorial(input_num))"
      ],
      "metadata": {
        "colab": {
          "base_uri": "https://localhost:8080/"
        },
        "id": "07afftWEDL9s",
        "outputId": "e24c1f27-3cec-4257-d255-22e0278144de"
      },
      "execution_count": null,
      "outputs": [
        {
          "output_type": "stream",
          "name": "stdout",
          "text": [
            "the fact of 5 is 120\n"
          ]
        }
      ]
    },
    {
      "cell_type": "code",
      "source": [
        "def factortial(a):\n",
        "  if a == 1:\n",
        "    return 1\n",
        "  else:\n",
        "    return(a*factortial(a-1))\n",
        "input_num = 5\n",
        "print(\"the fact of\",input_num,\"is\",factortial(input_num))"
      ],
      "metadata": {
        "colab": {
          "base_uri": "https://localhost:8080/"
        },
        "id": "x_nvmy9pENBy",
        "outputId": "a4edf0f4-faf1-463f-f9ff-d1ef76fb3da3"
      },
      "execution_count": null,
      "outputs": [
        {
          "output_type": "stream",
          "name": "stdout",
          "text": [
            "the fact of 5 is 120\n"
          ]
        }
      ]
    },
    {
      "cell_type": "code",
      "source": [
        "num = int(input('Enter the number:'))\n",
        "def factorial(num):\n",
        "  if num == 1 :\n",
        "    return 1\n",
        "  else:\n",
        "    return (num*factorial(num-1))\n",
        "print(factorial(num))"
      ],
      "metadata": {
        "colab": {
          "base_uri": "https://localhost:8080/"
        },
        "id": "tw03r6PQJEb8",
        "outputId": "57c3b64b-4603-41a4-bec6-a090b292d23c"
      },
      "execution_count": null,
      "outputs": [
        {
          "output_type": "stream",
          "name": "stdout",
          "text": [
            "Enter the number:7\n",
            "5040\n"
          ]
        }
      ]
    },
    {
      "cell_type": "code",
      "source": [
        "num = int(input())\n",
        "def fact(num):\n",
        "  if num == 1:\n",
        "    return 1\n",
        "  else:\n",
        "    return (num*fact(num-1))\n",
        "print(fact(num))"
      ],
      "metadata": {
        "colab": {
          "base_uri": "https://localhost:8080/"
        },
        "id": "rQOWrwSZx4Ky",
        "outputId": "710f76e6-b377-4d5f-c990-a3a4cbfdf0e6"
      },
      "execution_count": null,
      "outputs": [
        {
          "output_type": "stream",
          "name": "stdout",
          "text": [
            "5\n",
            "120\n"
          ]
        }
      ]
    },
    {
      "cell_type": "code",
      "source": [
        "num = int(input())\n",
        "def fact(num):\n",
        "  if num == 1:\n",
        "    return 1\n",
        "  else:\n",
        "    return (num*fact(num-1))\n",
        "print(fact(num))"
      ],
      "metadata": {
        "colab": {
          "base_uri": "https://localhost:8080/"
        },
        "id": "8QibX6m4Jic5",
        "outputId": "17a73b36-00e8-426d-d6eb-f080a2a899bb"
      },
      "execution_count": null,
      "outputs": [
        {
          "output_type": "stream",
          "name": "stdout",
          "text": [
            "34\n",
            "295232799039604140847618609643520000000\n"
          ]
        }
      ]
    },
    {
      "cell_type": "code",
      "source": [
        "x = int(input())\n",
        "def factorial(x):\n",
        "  if x == 1:\n",
        "    return 1\n",
        "  else:\n",
        "    return (x*factorial(x-1))\n",
        "print(factorial(x))"
      ],
      "metadata": {
        "colab": {
          "base_uri": "https://localhost:8080/"
        },
        "id": "TfG0uxExKQH0",
        "outputId": "8f18f985-e980-4bfd-fc9e-18ee964a2002"
      },
      "execution_count": null,
      "outputs": [
        {
          "output_type": "stream",
          "name": "stdout",
          "text": [
            "4\n",
            "24\n"
          ]
        }
      ]
    },
    {
      "cell_type": "code",
      "source": [
        "x = int(input())\n",
        "def factorial(x):\n",
        "  if x == 1:\n",
        "    return 1\n",
        "  else:\n",
        "    return (x*factorial(x-1))\n",
        "print(factorial(x))"
      ],
      "metadata": {
        "colab": {
          "base_uri": "https://localhost:8080/"
        },
        "id": "WUvsY9loyds1",
        "outputId": "6735c0da-e5c6-4f02-a6ad-a37a2cd0e103"
      },
      "execution_count": null,
      "outputs": [
        {
          "output_type": "stream",
          "name": "stdout",
          "text": [
            "5\n",
            "120\n"
          ]
        }
      ]
    },
    {
      "cell_type": "code",
      "source": [
        "h = int(input())\n",
        "def l(h):\n",
        "  if h ==1:\n",
        "    return 1\n",
        "  else:\n",
        "    return(h*l(h-1))\n",
        "print(l(h))"
      ],
      "metadata": {
        "colab": {
          "base_uri": "https://localhost:8080/"
        },
        "id": "7XzX7UhJfFp8",
        "outputId": "e8da2c69-fd26-4464-a44f-64d7b44127d3"
      },
      "execution_count": null,
      "outputs": [
        {
          "output_type": "stream",
          "name": "stdout",
          "text": [
            "5\n",
            "120\n"
          ]
        }
      ]
    },
    {
      "cell_type": "code",
      "source": [
        "num = int(input('Enter the number:'))\n",
        "def factorial(num):\n",
        "  if num == 1 :\n",
        "    return 1\n",
        "  else:\n",
        "    return(num*factorial (num -1))\n",
        "print('this fact:', factorial(num))"
      ],
      "metadata": {
        "colab": {
          "base_uri": "https://localhost:8080/"
        },
        "id": "Cn_X2fvzMfAU",
        "outputId": "2533e51d-ab93-488b-978d-21bc28ebc0e9"
      },
      "execution_count": null,
      "outputs": [
        {
          "output_type": "stream",
          "name": "stdout",
          "text": [
            "Enter the number:5\n",
            "this fact: 120\n"
          ]
        }
      ]
    },
    {
      "cell_type": "code",
      "source": [
        "t = 5\n",
        "k = 5\n",
        "n = 5*5\n",
        "o = 5-1\n",
        "print(n*o)"
      ],
      "metadata": {
        "colab": {
          "base_uri": "https://localhost:8080/"
        },
        "id": "FiftIMlXQH9i",
        "outputId": "65d2acb6-5343-4958-ec80-f5eae6a5ae36"
      },
      "execution_count": null,
      "outputs": [
        {
          "output_type": "stream",
          "name": "stdout",
          "text": [
            "100\n"
          ]
        }
      ]
    },
    {
      "cell_type": "code",
      "source": [
        "def xyz(b):\n",
        "    if b==1:\n",
        "        return 1\n",
        "    else:\n",
        "        return(b*xyz(b-1))\n",
        "num = 5\n",
        "print(xyz(num))"
      ],
      "metadata": {
        "colab": {
          "base_uri": "https://localhost:8080/"
        },
        "id": "yo9dAYukDf49",
        "outputId": "40997ed5-8de7-476c-ee57-f2c38b94477d"
      },
      "execution_count": null,
      "outputs": [
        {
          "output_type": "stream",
          "name": "stdout",
          "text": [
            "120\n"
          ]
        }
      ]
    },
    {
      "cell_type": "code",
      "source": [
        "sss=int(input())\n",
        "def xyz(b):\n",
        "    if b==1:\n",
        "        return 1\n",
        "    else:\n",
        "        return(b*xyz(b-1))\n",
        "print(xyz(num))"
      ],
      "metadata": {
        "colab": {
          "base_uri": "https://localhost:8080/"
        },
        "id": "bmVMFTTRMD_V",
        "outputId": "aaf9c506-a992-4f13-820d-0c000cf472d8"
      },
      "execution_count": null,
      "outputs": [
        {
          "output_type": "stream",
          "name": "stdout",
          "text": [
            "5\n",
            "120\n"
          ]
        }
      ]
    },
    {
      "cell_type": "code",
      "source": [
        "j = 1235465\n",
        "re = 0 \n",
        "while j !=0:\n",
        "  de = j%10\n",
        "  re = re*10+de\n",
        "  j = j//10\n",
        "print(re)"
      ],
      "metadata": {
        "colab": {
          "base_uri": "https://localhost:8080/"
        },
        "id": "pFVAU5aKT3HD",
        "outputId": "8d827f30-859e-48e1-ed3c-1b61406392da"
      },
      "execution_count": null,
      "outputs": [
        {
          "output_type": "stream",
          "name": "stdout",
          "text": [
            "5645321\n"
          ]
        }
      ]
    },
    {
      "cell_type": "code",
      "source": [
        "ss=int(input())\n",
        "def factorial(q):\n",
        "  if q==1:\n",
        "      return 1\n",
        "  else:\n",
        "    return (q*factorial(q-1))\n",
        "print(factorial(num))"
      ],
      "metadata": {
        "colab": {
          "base_uri": "https://localhost:8080/"
        },
        "id": "xBdNQfd4nTnc",
        "outputId": "cb93b781-2433-4c13-9183-9ecc48951768"
      },
      "execution_count": null,
      "outputs": [
        {
          "output_type": "stream",
          "name": "stdout",
          "text": [
            "5\n",
            "120\n"
          ]
        }
      ]
    },
    {
      "cell_type": "code",
      "source": [
        "# using numpy\n",
        "import numpy as np\n",
        "n = 5\n",
        "x = np.prod([i for i in range(1,n+1)])\n",
        "print(x)"
      ],
      "metadata": {
        "colab": {
          "base_uri": "https://localhost:8080/"
        },
        "id": "4PE9nEiPNxVC",
        "outputId": "b688e492-c0e7-4ad7-c873-b4724f5fe392"
      },
      "execution_count": null,
      "outputs": [
        {
          "output_type": "stream",
          "name": "stdout",
          "text": [
            "120\n"
          ]
        }
      ]
    },
    {
      "cell_type": "code",
      "source": [
        "import numpy as np\n",
        "n = 4 \n",
        "x = np.prod([i for i in range(1,n+1)])\n",
        "print(x)"
      ],
      "metadata": {
        "colab": {
          "base_uri": "https://localhost:8080/"
        },
        "id": "LdkXhNSfs0yJ",
        "outputId": "de6f10cb-a6cf-4d7d-804b-a0d9bb7359a3"
      },
      "execution_count": null,
      "outputs": [
        {
          "output_type": "stream",
          "name": "stdout",
          "text": [
            "24\n"
          ]
        }
      ]
    },
    {
      "cell_type": "code",
      "source": [
        "import numpy as np\n",
        "n = 3\n",
        "x = np.prod([i for i in range(1,n+1)])\n",
        "print(x)"
      ],
      "metadata": {
        "colab": {
          "base_uri": "https://localhost:8080/"
        },
        "id": "YOTYuaZltJCu",
        "outputId": "42034f3a-a159-41c3-9fa1-a1d5cef426a2"
      },
      "execution_count": null,
      "outputs": [
        {
          "output_type": "stream",
          "name": "stdout",
          "text": [
            "6\n"
          ]
        }
      ]
    },
    {
      "cell_type": "code",
      "source": [
        "import numpy as np\n",
        "n=int(input())\n",
        "x = np.prod([i for i in range(1,n+1)])\n",
        "print(x)"
      ],
      "metadata": {
        "id": "IbMeubyYglE7",
        "colab": {
          "base_uri": "https://localhost:8080/"
        },
        "outputId": "12daa4f6-836d-49fa-db4a-8de6a5e78144"
      },
      "execution_count": null,
      "outputs": [
        {
          "output_type": "stream",
          "name": "stdout",
          "text": [
            "87\n",
            "0\n"
          ]
        }
      ]
    },
    {
      "cell_type": "code",
      "source": [
        "import numpy as np\n",
        "n = int(input())\n",
        "x = np.prod([i for i in range(1,n+1)])\n",
        "print(x)"
      ],
      "metadata": {
        "colab": {
          "base_uri": "https://localhost:8080/"
        },
        "id": "4BbBXD24teDH",
        "outputId": "dfbf1c68-7fd8-43c2-ad79-2eb4291bfa9e"
      },
      "execution_count": null,
      "outputs": [
        {
          "output_type": "stream",
          "name": "stdout",
          "text": [
            "89\n",
            "0\n"
          ]
        }
      ]
    },
    {
      "cell_type": "code",
      "source": [
        "#Q20.Python3 Program to find sum of square of first n natural numbers Return the sum of square of first natural numbers\n",
        "def squaresum(n) :\n",
        "\treturn (n * (n + 1) * (2 * n + 1))//6\n",
        "# Driven Program\n",
        "n = 6\n",
        "print(squaresum(n))"
      ],
      "metadata": {
        "colab": {
          "base_uri": "https://localhost:8080/"
        },
        "id": "EotkK8pWOf8Y",
        "outputId": "7e48f8ef-5aa2-4c7d-e966-2ebbcbe64119"
      },
      "execution_count": null,
      "outputs": [
        {
          "output_type": "stream",
          "name": "stdout",
          "text": [
            "91\n"
          ]
        }
      ]
    },
    {
      "cell_type": "code",
      "source": [
        "num = int(input())\n",
        "def sq(num):\n",
        "  return (num *(num +1) * (2 * num + 1)) //6\n",
        "print(sq(num))"
      ],
      "metadata": {
        "colab": {
          "base_uri": "https://localhost:8080/"
        },
        "id": "W4W9louON5PW",
        "outputId": "4968d4fe-5dc8-4e48-9155-748fb08ab0da"
      },
      "execution_count": null,
      "outputs": [
        {
          "output_type": "stream",
          "name": "stdout",
          "text": [
            "98\n",
            "318549\n"
          ]
        }
      ]
    },
    {
      "cell_type": "code",
      "source": [
        "# Python3 Program to find sum of square of first n natural numbers\n",
        "# Return the sum of square of first nnatural numbers\n",
        "def squaresum(n) :\n",
        "\tsm = 0\n",
        "\tfor i in range(1, n+1) :\n",
        "\t\tsm = sm + (i * i)\n",
        "\treturn sm\n",
        "# Driven Program\n",
        "n = 6\n",
        "print(squaresum(n))"
      ],
      "metadata": {
        "colab": {
          "base_uri": "https://localhost:8080/"
        },
        "id": "GIRdky8oQqSO",
        "outputId": "f5dca00d-fc2d-44c6-d25b-534124239db6"
      },
      "execution_count": null,
      "outputs": [
        {
          "output_type": "stream",
          "name": "stdout",
          "text": [
            "91\n"
          ]
        }
      ]
    },
    {
      "cell_type": "code",
      "source": [
        "x = int(input())\n",
        "def squaresum(x):\n",
        "  y = 0\n",
        "  for i in range(1,x+1):\n",
        "    y = y + ( i * i )\n",
        "  return y\n",
        "print(squaresum(x))"
      ],
      "metadata": {
        "colab": {
          "base_uri": "https://localhost:8080/"
        },
        "id": "ltEvnw-l5Uv7",
        "outputId": "0f02a622-8a2d-481d-ed45-df802919d8bf"
      },
      "execution_count": null,
      "outputs": [
        {
          "output_type": "stream",
          "name": "stdout",
          "text": [
            "6\n",
            "91\n"
          ]
        }
      ]
    },
    {
      "cell_type": "code",
      "source": [
        "num = int(input())\n",
        "def sq(num):\n",
        "  s = 0\n",
        "  for i in range(1,num+1):\n",
        "    s = s +( i * i)\n",
        "  return s\n",
        "print(sq(num))"
      ],
      "metadata": {
        "colab": {
          "base_uri": "https://localhost:8080/"
        },
        "id": "52v0RFCPOpOe",
        "outputId": "f6fb28f3-2a86-4513-a22d-58f497b697fe"
      },
      "execution_count": null,
      "outputs": [
        {
          "output_type": "stream",
          "name": "stdout",
          "text": [
            "5\n",
            "55\n"
          ]
        }
      ]
    },
    {
      "cell_type": "code",
      "source": [
        "num = int(input())\n",
        "def xyz(num):\n",
        "  s = 0\n",
        "  for i in range(1,num+1):\n",
        "    s = s+(i * i)\n",
        "  return s\n",
        "print(xyz(num))\n"
      ],
      "metadata": {
        "colab": {
          "base_uri": "https://localhost:8080/"
        },
        "id": "QvcoovS3UK_y",
        "outputId": "b8a9e0a7-a6b7-40d4-cac8-1f73c4d0b1fd"
      },
      "execution_count": null,
      "outputs": [
        {
          "output_type": "stream",
          "name": "stdout",
          "text": [
            "5\n",
            "55\n"
          ]
        }
      ]
    },
    {
      "cell_type": "code",
      "source": [
        "y = 5+7"
      ],
      "metadata": {
        "id": "6K2_-mVMzy57"
      },
      "execution_count": null,
      "outputs": []
    },
    {
      "cell_type": "code",
      "source": [
        "sum = int(input())\n",
        "def qqq(sum):\n",
        "  r = 0\n",
        "  for i in range(1,sum+1):\n",
        "    r = r+(i*i)\n",
        "  return r\n",
        "print(qqq(sum))"
      ],
      "metadata": {
        "colab": {
          "base_uri": "https://localhost:8080/"
        },
        "id": "rH9NjEdHqyAo",
        "outputId": "9a957ebe-318f-4a1b-9494-bc09b33bcedc"
      },
      "execution_count": null,
      "outputs": [
        {
          "output_type": "stream",
          "name": "stdout",
          "text": [
            "5\n",
            "55\n"
          ]
        }
      ]
    },
    {
      "cell_type": "markdown",
      "source": [
        "Q21.Can we write every loop as list comprehension in Python?\n",
        "* Yes, sort of. You can convert nested for loops to list comprehensions, and even use variable assignment with :=\n",
        "* Every list comprehension can be rewritten as a for loop but not every for loop can be rewritten as a list comprehension "
      ],
      "metadata": {
        "id": "oY1kemvki8Xq"
      }
    },
    {
      "cell_type": "code",
      "source": [
        "# Q4. Write a python program to find uncommon words from a string.\n",
        "def UncommonWords(A, B):\n",
        "   count = {} \n",
        "   for word in A.split(): \n",
        "     count[word] = count.get(word, 0) + 1\n",
        "   for word in B.split(): \n",
        "        count[word] = count.get(word, 0) + 1\n",
        "   return [word for word in count if count[word] == 1]\n",
        "A = \"Almabetter\" B = \"Learning from Almabe\n",
        "print(UncommonWords(A, B))"
      ],
      "metadata": {
        "id": "HNQQfbiUUPv1",
        "colab": {
          "base_uri": "https://localhost:8080/",
          "height": 130
        },
        "outputId": "519ecc06-bbca-47fd-9514-d7dd253aab2f"
      },
      "execution_count": null,
      "outputs": [
        {
          "output_type": "error",
          "ename": "IndentationError",
          "evalue": "ignored",
          "traceback": [
            "\u001b[0;36m  File \u001b[0;32m\"<ipython-input-71-9043b23f6cbe>\"\u001b[0;36m, line \u001b[0;32m9\u001b[0m\n\u001b[0;31m    A = \"Almabetter\" B = \"Learning from Almabe\u001b[0m\n\u001b[0m    ^\u001b[0m\n\u001b[0;31mIndentationError\u001b[0m\u001b[0;31m:\u001b[0m unexpected indent\n"
          ]
        }
      ]
    },
    {
      "cell_type": "code",
      "source": [
        "A = input(\"Enter first string:\")\n",
        "B = input(\"Enter secoud string:\")\n",
        "def UncommonWords(A, B):\n",
        "  count = {}\n",
        "  for word in A.split():\n",
        "    count[word] = count.get(word, 0) +1\n",
        "  for word in B.split():\n",
        "    count[word] = count.get(word,0) + 1\n",
        "  return [ word for word in count if count[word] == 1]\n",
        "print(UncommonWords(A,B))"
      ],
      "metadata": {
        "colab": {
          "base_uri": "https://localhost:8080/"
        },
        "id": "pwc8fUuYQJCm",
        "outputId": "d2d8b2be-0819-4c4c-b115-49b8f91039f6"
      },
      "execution_count": null,
      "outputs": [
        {
          "output_type": "stream",
          "name": "stdout",
          "text": [
            "Enter first string:suo\n",
            "Enter secoud string:esg\n",
            "['suo', 'esg']\n"
          ]
        }
      ]
    },
    {
      "cell_type": "code",
      "source": [
        "A = input()\n",
        "B = input()\n",
        "def uncomword(A,B):\n",
        "  count = {}\n",
        "  for x in A.split():\n",
        "    count[x] = count.get(x,0) +1\n",
        "  for x in B.split():\n",
        "    count[x] = count.get(x,0) + 1\n",
        "  return [x for x in count if count[x] == 1]\n",
        "print(uncomword(A,B))"
      ],
      "metadata": {
        "colab": {
          "base_uri": "https://localhost:8080/"
        },
        "id": "pdgNcwLL7Wcu",
        "outputId": "b67a3578-f78e-4c3b-d406-a334b857346b"
      },
      "execution_count": null,
      "outputs": [
        {
          "output_type": "stream",
          "name": "stdout",
          "text": [
            "56\n",
            "89\n",
            "['56', '89']\n"
          ]
        }
      ]
    },
    {
      "cell_type": "code",
      "source": [
        "#Q2. Write a python program to replace multiple words in a string with a word if, given set of words are found in string.\n",
        " \n",
        "test_str = 'AlmaBetter is best for geeks and CS' \n",
        "print(\"The original string is : \" + str(test_str)) \n",
        "word_list = [\"best\", 'CS', 'for']\n",
        "repl_wrd = 'gfg'\n",
        "res = ' '.join([repl_wrd if idx in word_list else idx for idx in test_str.split()])\n",
        "print(\"String after multiple replace : \" + str(res))"
      ],
      "metadata": {
        "id": "JVAUyqHyfl4v"
      },
      "execution_count": null,
      "outputs": []
    },
    {
      "cell_type": "code",
      "source": [
        "test_str = 'AlmaBetter is best for geeks and CS'\n",
        "print(\"The original string is : \" + str(test_str)) \n",
        "word_list = [\"best\", 'CS', 'for']\n",
        "repl_wrd = 'gfg'\n",
        "res = ' '.join([repl_wrd if idx in word_list else idx for idx in test_str.split()])\n",
        "print(\"String after multiple replace : \" + str(res))"
      ],
      "metadata": {
        "colab": {
          "base_uri": "https://localhost:8080/"
        },
        "id": "_WIlwnDoflru",
        "outputId": "c5f2dadb-4eb6-4393-e4c1-b4df66dbed8c"
      },
      "execution_count": null,
      "outputs": [
        {
          "output_type": "stream",
          "name": "stdout",
          "text": [
            "The original string is : AlmaBetter is best for geeks and CS\n",
            "String after multiple replace : AlmaBetter is gfg gfg geeks and gfg\n"
          ]
        }
      ]
    },
    {
      "cell_type": "code",
      "source": [
        "# remove duplicte useing def funtion\n",
        "def removedupl(lis):\n",
        "  return list(set(lis))"
      ],
      "metadata": {
        "id": "mebebXV2s-fz"
      },
      "execution_count": null,
      "outputs": []
    },
    {
      "cell_type": "code",
      "source": [
        "L = [1,2,31,4,3,2,1,4,2,3]\n",
        "print(removedupl(L))"
      ],
      "metadata": {
        "id": "xk-nZrdz7XZa"
      },
      "execution_count": null,
      "outputs": []
    },
    {
      "cell_type": "markdown",
      "source": [
        "question github"
      ],
      "metadata": {
        "id": "quX7bQz95Yww"
      }
    },
    {
      "cell_type": "code",
      "source": [
        "# write a python progarm to count the number of characters ( chatacter frequency) in string"
      ],
      "metadata": {
        "id": "q4mkjFEUfj2V"
      },
      "execution_count": null,
      "outputs": []
    },
    {
      "cell_type": "code",
      "source": [
        "str = input()\n",
        "y = {}\n",
        "for x in str.lower():\n",
        "  if x in y:\n",
        "    y[x] +=1\n",
        "  else:\n",
        "    y[x] = 1\n",
        "print(y)"
      ],
      "metadata": {
        "id": "NM7H29AKfj51",
        "colab": {
          "base_uri": "https://localhost:8080/"
        },
        "outputId": "856611b6-ebc1-4a19-960c-7433dfa6df1d"
      },
      "execution_count": null,
      "outputs": [
        {
          "output_type": "stream",
          "name": "stdout",
          "text": [
            "sumit rameshawar gaikwad\n",
            "{'s': 2, 'u': 1, 'm': 2, 'i': 2, 't': 1, ' ': 2, 'r': 2, 'a': 5, 'e': 1, 'h': 1, 'w': 2, 'g': 1, 'k': 1, 'd': 1}\n"
          ]
        }
      ]
    },
    {
      "cell_type": "code",
      "source": [
        "x = input()\n",
        "y = {}\n",
        "for x in x.lower():\n",
        "  if x in y:\n",
        "    y[x] += 1\n",
        "  else:\n",
        "    y[x] = 1\n",
        "print(y)"
      ],
      "metadata": {
        "colab": {
          "base_uri": "https://localhost:8080/"
        },
        "id": "IRlmFpDG9quC",
        "outputId": "18bfb082-46e8-445c-9503-edaf46eacf2b"
      },
      "execution_count": null,
      "outputs": [
        {
          "output_type": "stream",
          "name": "stdout",
          "text": [
            "Sumit Rameshwar Gaikwad\n",
            "{'s': 2, 'u': 1, 'm': 2, 'i': 2, 't': 1, ' ': 2, 'r': 2, 'a': 4, 'e': 1, 'h': 1, 'w': 2, 'g': 1, 'k': 1, 'd': 1}\n"
          ]
        }
      ]
    },
    {
      "cell_type": "code",
      "source": [
        "sss = input(\"Enter u r string:\" )\n",
        "y = {}\n",
        "for x in sss.lower():\n",
        "  if x in y:\n",
        "    y[x] += 1\n",
        "  else:\n",
        "    y[x] = 1\n",
        "print(y) "
      ],
      "metadata": {
        "colab": {
          "base_uri": "https://localhost:8080/"
        },
        "id": "hcUyOa9WS92d",
        "outputId": "64d10470-3e6e-4d64-cd5f-e3a0232dae89"
      },
      "execution_count": null,
      "outputs": [
        {
          "output_type": "stream",
          "name": "stdout",
          "text": [
            "Enter u r string:Sumit Gaikwad\n",
            "{'s': 1, 'u': 1, 'm': 1, 'i': 2, 't': 1, ' ': 1, 'g': 1, 'a': 2, 'k': 1, 'w': 1, 'd': 1}\n"
          ]
        }
      ]
    },
    {
      "cell_type": "code",
      "source": [
        "strng = input()\n",
        "dic = dict()\n",
        "l = []\n",
        "for i in strng.lower():\n",
        "  l.append(i)\n",
        "\n",
        "\n",
        "s = []\n",
        "for k in range(len(strng)):\n",
        "  s.append(l.count(l[k]))\n",
        "\n",
        "l5 = list(zip(l,s))\n",
        "dict(l5)"
      ],
      "metadata": {
        "id": "vFBnVZ7LfkAp",
        "colab": {
          "base_uri": "https://localhost:8080/"
        },
        "outputId": "94adf891-95a8-4d59-b702-649f0032cbfa"
      },
      "execution_count": null,
      "outputs": [
        {
          "name": "stdout",
          "output_type": "stream",
          "text": [
            "Sumit Rameshawar Gaikwad\n"
          ]
        },
        {
          "output_type": "execute_result",
          "data": {
            "text/plain": [
              "{'s': 2,\n",
              " 'u': 1,\n",
              " 'm': 2,\n",
              " 'i': 2,\n",
              " 't': 1,\n",
              " ' ': 2,\n",
              " 'r': 2,\n",
              " 'a': 5,\n",
              " 'e': 1,\n",
              " 'h': 1,\n",
              " 'w': 2,\n",
              " 'g': 1,\n",
              " 'k': 1,\n",
              " 'd': 1}"
            ]
          },
          "metadata": {},
          "execution_count": 3
        }
      ]
    },
    {
      "cell_type": "code",
      "source": [
        "# Q.Write a function which calculates the mode of a list of numbers. If there are two modes in the dataset, it should return both."
      ],
      "metadata": {
        "id": "7q27w2QFfkJu"
      },
      "execution_count": null,
      "outputs": []
    },
    {
      "cell_type": "code",
      "source": [
        "# Find mode with count: only one mode occuring first\n",
        "# packages\n",
        "from scipy import stats as st\n",
        "import numpy as np\n",
        "\n",
        "# creating an array using array() method\n",
        "l = np.array([1,2,3,4,5,5,5,4,3,2,1,2,0])\n",
        "\n",
        "# applying mode operation on array and\n",
        "# printing result\n",
        "print(st.mode(l))"
      ],
      "metadata": {
        "id": "YwOK71Gwfk3P",
        "colab": {
          "base_uri": "https://localhost:8080/"
        },
        "outputId": "d9e53487-67f3-4258-bb7a-574697418f30"
      },
      "execution_count": null,
      "outputs": [
        {
          "output_type": "stream",
          "name": "stdout",
          "text": [
            "ModeResult(mode=array([2]), count=array([3]))\n"
          ]
        }
      ]
    },
    {
      "cell_type": "code",
      "source": [
        "def mode(ls):\n",
        "    # dictionary to keep count of each value\n",
        "    counts = {}\n",
        "    # iterate through the list\n",
        "    for item in ls:\n",
        "        if item in counts:\n",
        "            counts[item] += 1\n",
        "        else:\n",
        "            counts[item] = 1\n",
        "    # get the keys with the max counts\n",
        "    return [key for key in counts.keys() if counts[key] == max(counts.values())]\n",
        "\n",
        "# use the function on a list of values\n",
        "mode([1,2,3,4,5,5,5,4,3,2,1,2,0])\n"
      ],
      "metadata": {
        "colab": {
          "base_uri": "https://localhost:8080/"
        },
        "id": "GWn9tN4UVdnX",
        "outputId": "7964b43b-18ec-4333-b947-076f1aaa8eb2"
      },
      "execution_count": null,
      "outputs": [
        {
          "output_type": "execute_result",
          "data": {
            "text/plain": [
              "[2, 5]"
            ]
          },
          "metadata": {},
          "execution_count": 71
        }
      ]
    },
    {
      "cell_type": "code",
      "source": [
        "def mode(L):\n",
        "  count = {}\n",
        "  for i in L:\n",
        "    if i in count:\n",
        "      count[i] += 1\n",
        "    else:\n",
        "      count[i] = 1\n",
        "  return [ key for key in count.keys() if count[key] == max(count.values())]\n",
        "mode([1,2,3,4,5,5,5,4,3,2,1,2,0])\n"
      ],
      "metadata": {
        "colab": {
          "base_uri": "https://localhost:8080/"
        },
        "id": "9MKgapAZUtHB",
        "outputId": "0b0dfd53-0ad5-46c0-808a-d4453112d358"
      },
      "execution_count": null,
      "outputs": [
        {
          "output_type": "execute_result",
          "data": {
            "text/plain": [
              "[2, 5]"
            ]
          },
          "metadata": {},
          "execution_count": 73
        }
      ]
    },
    {
      "cell_type": "code",
      "source": [
        "# Q.The included code stub will read an integer, , from STDIN.\n",
        "\n",
        "#Without using any string methods, try to print the following:\n",
        "\n",
        "#12345...n\n",
        "\n",
        "#Note that \"\" represents the consecutive values in between.\n",
        "\n",
        "#Example n = 5\n",
        "\n",
        "#Print the string 12345.\n",
        "n = int(input())\n",
        "for i in range(1,n+1):\n",
        "  print(i, end = \"\")\n",
        "     "
      ],
      "metadata": {
        "id": "vaEqWjO6flKq",
        "colab": {
          "base_uri": "https://localhost:8080/"
        },
        "outputId": "426f04a6-0314-4946-ad74-1662a065ea5b"
      },
      "execution_count": null,
      "outputs": [
        {
          "output_type": "stream",
          "name": "stdout",
          "text": [
            "6\n",
            "123456"
          ]
        }
      ]
    },
    {
      "cell_type": "code",
      "source": [
        "# Q.Consider a series 1+ 2+ 3+ 4+ 5 +..., ge the value of n from the userprint addition of the first n natural numbers whithout using loops and by using loops\n",
        "# loop\n",
        "n = int(input('number: '))\n",
        "sum = 0\n",
        "for i in range (1, n+1):\n",
        "  sum = sum +i\n",
        "print(sum)"
      ],
      "metadata": {
        "colab": {
          "base_uri": "https://localhost:8080/"
        },
        "id": "hJucqW-l8kUP",
        "outputId": "2a7cc078-1179-43ef-97ad-9905520a9c6b"
      },
      "execution_count": null,
      "outputs": [
        {
          "output_type": "stream",
          "name": "stdout",
          "text": [
            "number: 5\n",
            "15\n"
          ]
        }
      ]
    },
    {
      "cell_type": "code",
      "source": [
        "# Q.create a program to get a string from user and checks that is palindrome or not.\n",
        "\n",
        "x = input('string:')\n",
        "if x[::-1] == x[::] :\n",
        "  print('x is polindrome')\n",
        "else:\n",
        "  print(' x is not polindome')"
      ],
      "metadata": {
        "colab": {
          "base_uri": "https://localhost:8080/"
        },
        "id": "vUTj9H08-GrA",
        "outputId": "05ffd77d-5192-4cdb-ec4a-07ba288a5fa8"
      },
      "execution_count": null,
      "outputs": [
        {
          "output_type": "stream",
          "name": "stdout",
          "text": [
            "string:ssuuss\n",
            "x is polindrome\n"
          ]
        }
      ]
    },
    {
      "cell_type": "code",
      "source": [
        "po = input('string:')\n",
        "if po[::-1] == po[::]:\n",
        "  print(' its polindrome')\n",
        "else:\n",
        "  print('Not polindome')"
      ],
      "metadata": {
        "colab": {
          "base_uri": "https://localhost:8080/"
        },
        "id": "Y5wV_4zSfujc",
        "outputId": "2145263b-904a-49ad-cf9d-15ec3d2f9266"
      },
      "execution_count": null,
      "outputs": [
        {
          "output_type": "stream",
          "name": "stdout",
          "text": [
            "string:susus\n",
            " its polindrome\n"
          ]
        }
      ]
    },
    {
      "cell_type": "markdown",
      "source": [
        "<B> Q **100** python question\n",
        "\n",
        "```\n",
        "\n"
      ],
      "metadata": {
        "id": "eX6rbZ3xpOAH"
      }
    },
    {
      "cell_type": "code",
      "source": [
        "# 1.User will input (3ages).Find the oldest one\n",
        "\n",
        "a = int(input('enter the first age'))\n",
        "b = int(input('enter the second age'))\n",
        "c = int(input('enter the third age'))\n",
        "max = a\n",
        "if max < b:\n",
        "  max= b\n",
        "if max < c:\n",
        "  max = c\n",
        "print('oldest one:', max)"
      ],
      "metadata": {
        "colab": {
          "base_uri": "https://localhost:8080/"
        },
        "id": "A693Y7J5_Bp-",
        "outputId": "8a4cd29b-d90e-4efc-c8e3-e6e889c08315"
      },
      "execution_count": null,
      "outputs": [
        {
          "output_type": "stream",
          "name": "stdout",
          "text": [
            "enter the first age25\n",
            "enter the second age48\n",
            "enter the third age45\n",
            "oldest one: 48\n"
          ]
        }
      ]
    },
    {
      "cell_type": "code",
      "source": [
        "# 2.2.Write a program that will convert celsius value to fahrenheit\n",
        "temp = float(input('Enter temp in celcius'))\n",
        "fahrenheit = (temp *1.8)+32\n",
        "print(fahrenheit)"
      ],
      "metadata": {
        "colab": {
          "base_uri": "https://localhost:8080/"
        },
        "id": "fQ0jaDGW_Uw8",
        "outputId": "46ab2473-39e0-4a06-a330-171f46f2a962"
      },
      "execution_count": null,
      "outputs": [
        {
          "output_type": "stream",
          "name": "stdout",
          "text": [
            "Enter temp in celcius56\n",
            "132.8\n"
          ]
        }
      ]
    },
    {
      "cell_type": "code",
      "source": [
        "# 3.3.User will input (2numbers).Write a program to swap the numbers\n",
        "a = int(input('enter first num'))\n",
        "b = int(input('enter second num'))\n",
        "# swaping\n",
        "c = a\n",
        "a = b\n",
        "b = c\n",
        "print('value of a:',a)\n",
        "print('value of b:',b)\n"
      ],
      "metadata": {
        "colab": {
          "base_uri": "https://localhost:8080/"
        },
        "id": "duGoD5X0trws",
        "outputId": "a9a8b7e7-72e2-4455-db81-5aa642ed3d4a"
      },
      "execution_count": null,
      "outputs": [
        {
          "output_type": "stream",
          "name": "stdout",
          "text": [
            "enter first num5\n",
            "enter second num10\n",
            "value of a: 10\n",
            "value of b: 5\n"
          ]
        }
      ]
    },
    {
      "cell_type": "code",
      "source": [
        "#4.Write a program that will give you the sum of 3 digits\n",
        "\n",
        "num = int(input('Enter three digit number'))\n",
        "\n",
        "a = num % 10 #(123 % 10 = 3)\n",
        "num = num//10 #(123//10 =12)\n",
        "b = num % 10 #(12%10=2)\n",
        "c = num//10 # (12//10=1)\n",
        "\n",
        "rev = (a+b+c)\n",
        "print(rev)\n",
        "\n",
        "\n",
        "\n"
      ],
      "metadata": {
        "colab": {
          "base_uri": "https://localhost:8080/"
        },
        "id": "2IRcR44TtrtU",
        "outputId": "13ded099-f7e4-4613-9a6b-d3bc900c6ecb"
      },
      "execution_count": null,
      "outputs": [
        {
          "output_type": "stream",
          "name": "stdout",
          "text": [
            "Enter three digit number123\n",
            "6\n"
          ]
        }
      ]
    },
    {
      "cell_type": "code",
      "source": [
        "# 5.Write a program that will reverse a four digit number.Also it checks whether the reverse is true.\n",
        "# user input\n",
        "\n",
        "user_input = int(input('Enter the four digits num'))\n",
        "num = user_input\n",
        "# digits\n",
        "a = num % 10\n",
        "num = num//10\n",
        "\n",
        "b = num % 10\n",
        "num = num//10\n",
        "\n",
        "c= num % 10\n",
        "d = num//10\n",
        "\n",
        "# formula\n",
        "rev = 1000*a + 100*b + 10*c + d\n",
        "print('orginal num-',user_input)\n",
        "print('reverse num-',rev)\n",
        "#check\n",
        "if user_input == rev:\n",
        "  print('True')\n",
        "else:\n",
        "  print('False')\n"
      ],
      "metadata": {
        "colab": {
          "base_uri": "https://localhost:8080/"
        },
        "id": "zQT5IeHqtrqh",
        "outputId": "fef5e044-d62d-4e90-c8bd-bec6e73a59cd"
      },
      "execution_count": null,
      "outputs": [
        {
          "output_type": "stream",
          "name": "stdout",
          "text": [
            "Enter the four digits num1234\n",
            "orginal num- 1234\n",
            "reverse num- 4321\n",
            "False\n"
          ]
        }
      ]
    },
    {
      "cell_type": "code",
      "source": [
        "# 6.Write a program that will tell whether the number entered by the user is odd or even.\n",
        "x = int(input('Enter your num'))\n",
        "\n",
        "if x % 2 == 0:\n",
        "  print('even')\n",
        "else:\n",
        "  print('old')"
      ],
      "metadata": {
        "colab": {
          "base_uri": "https://localhost:8080/"
        },
        "id": "oDOotOAWtrnp",
        "outputId": "8052b6c2-0e05-4083-bd51-87dd87efa6ec"
      },
      "execution_count": null,
      "outputs": [
        {
          "output_type": "stream",
          "name": "stdout",
          "text": [
            "Enter your num7\n",
            "old\n"
          ]
        }
      ]
    },
    {
      "cell_type": "code",
      "source": [
        "#7.Write a program that will tell whether the given year is a leap year or not.\n",
        "year = int(input('Enter the year'))\n",
        "\n",
        "if year % 4 == 0:\n",
        "  print('leap year')\n",
        "else:\n",
        "  print('not leap year')\n",
        "\n"
      ],
      "metadata": {
        "colab": {
          "base_uri": "https://localhost:8080/"
        },
        "id": "qHAXZ-qPtrka",
        "outputId": "5d8dadaa-04f9-4c66-b559-14bf06da49f3"
      },
      "execution_count": null,
      "outputs": [
        {
          "output_type": "stream",
          "name": "stdout",
          "text": [
            "Enter the year1997\n",
            "not leap year\n"
          ]
        }
      ]
    },
    {
      "cell_type": "code",
      "source": [
        "#8.Write a program to find the euclidean distance between two coordinates.\n",
        "x_1 = float(input('Enter x1 of x coordinate'))\n",
        "y_1 = float(input('Enter y1 of y coordinate'))\n",
        "x_2 = float(input('Enter x2 of x coordinate'))\n",
        "y_2 = float(input('Enter y2 of y coordinate'))\n",
        "\n",
        "d = ((x_2 - x_1)**2 + (y_2 - y_1)**2)**0.5\n",
        "print(d)"
      ],
      "metadata": {
        "colab": {
          "base_uri": "https://localhost:8080/"
        },
        "id": "gTe8HALjtriw",
        "outputId": "5a935e1a-4dc5-474f-96dd-cd0da26c5531"
      },
      "execution_count": null,
      "outputs": [
        {
          "output_type": "stream",
          "name": "stdout",
          "text": [
            "Enter x1 of x coordinate55\n",
            "Enter y1 of y coordinate44\n",
            "Enter x2 of x coordinate66\n",
            "Enter y2 of y coordinate77\n",
            "34.785054261852174\n"
          ]
        }
      ]
    },
    {
      "cell_type": "code",
      "source": [
        "#9.Write a program that take a user inputr of three angles and will find out whether it can form a triangle or not.\n",
        "a = int(input('Enter your frist angle:'))\n",
        "b = int(input('Enter your second angle:'))\n",
        "c = int(input('Enter your third angle:'))\n",
        "\n",
        "if a + b + c == 180 and a!=0 and b!=0 and c!=0:\n",
        "   print('yes')\n",
        "else:\n",
        "  print('Not')\n"
      ],
      "metadata": {
        "colab": {
          "base_uri": "https://localhost:8080/"
        },
        "id": "Rqy_ULiktrQe",
        "outputId": "327a1e21-3a8d-4a00-fdf2-cc820be0da8a"
      },
      "execution_count": null,
      "outputs": [
        {
          "output_type": "stream",
          "name": "stdout",
          "text": [
            "Enter your frist angle:90\n",
            "Enter your second angle:45\n",
            "Enter your third angle:45\n",
            "yes\n"
          ]
        }
      ]
    },
    {
      "cell_type": "code",
      "source": [
        "#10.Write a program that will take user input of cost price and selling price and determines whether its a loss or a profit\n",
        "\n",
        "cp = float(input('Enter your cost price:'))\n",
        "sp = float(input('Enter your selling price'))\n",
        "\n",
        "if cp > sp:\n",
        "  amt = cp - sp\n",
        "  print('Loss:',amt)\n",
        "else:\n",
        "  amt = sp -cp\n",
        "  print('Profit:',amt)"
      ],
      "metadata": {
        "colab": {
          "base_uri": "https://localhost:8080/"
        },
        "id": "0ItlrrFztrMv",
        "outputId": "ca3a6e69-f7b6-447e-b2c1-779271912d09"
      },
      "execution_count": null,
      "outputs": [
        {
          "output_type": "stream",
          "name": "stdout",
          "text": [
            "Enter your cost price:150\n",
            "Enter your selling price180\n",
            "Profit: 30.0\n"
          ]
        }
      ]
    },
    {
      "cell_type": "code",
      "source": [
        "# 11.Write a program to find the simple interest when the value of principle,rate of interest and time period is given.\n",
        "\n",
        "p= int(input('Enter your principal'))\n",
        "r = int(input('Enter your rate of interest'))\n",
        "t = int(input('Enter your time period in years'))\n",
        "\n",
        "si = (p * r * t)/100\n",
        "print('simple Interst:',si)\n",
        "a = p +si\n",
        "print('Amount is:',a)"
      ],
      "metadata": {
        "colab": {
          "base_uri": "https://localhost:8080/"
        },
        "id": "JPYldadptrKe",
        "outputId": "0b3c9625-27fa-405b-9a31-bbea3f95238e"
      },
      "execution_count": null,
      "outputs": [
        {
          "output_type": "stream",
          "name": "stdout",
          "text": [
            "Enter your principal250000\n",
            "Enter your rate of interest12\n",
            "Enter your time period in years5\n",
            "simple Interst: 150000.0\n",
            "Amount is: 400000.0\n"
          ]
        }
      ]
    },
    {
      "cell_type": "code",
      "source": [
        "#12.Write a program to find the volume of the cylinder. Also find the cost when ,when the cost of 1litre milk is 40Rs.\n",
        "\n",
        "r = float(input('Enter your radius:'))\n",
        "h = float(input('Enter your height:'))\n",
        "\n",
        "v = 3.14*(r**2)*h\n",
        "print('Volume is:',v)\n",
        "cost = v/1000*40\n",
        "print('cost is:','Rs',cost)"
      ],
      "metadata": {
        "colab": {
          "base_uri": "https://localhost:8080/"
        },
        "id": "BdzmBEDotrHu",
        "outputId": "73179b23-39a5-4bf3-bf54-dabcb05e33e9"
      },
      "execution_count": null,
      "outputs": [
        {
          "output_type": "stream",
          "name": "stdout",
          "text": [
            "Enter your radius:4\n",
            "Enter your height:7\n",
            "Volume is: 351.68\n",
            "cost is: Rs 14.0672\n"
          ]
        }
      ]
    },
    {
      "cell_type": "code",
      "source": [
        "# 13.Write  a program that will tell whether the given number is divisible by 3 & 6.\n",
        "\n",
        "num = int(input('Enter your number:'))\n",
        "\n",
        "if num % 3 == 0 and num % 6 ==0:\n",
        "  print(num,'is divisiable by 3 and 6')\n",
        "else:\n",
        "  print(num,'not divisible by 3 and 6')\n"
      ],
      "metadata": {
        "colab": {
          "base_uri": "https://localhost:8080/"
        },
        "id": "dkinu749trE7",
        "outputId": "4abcbeb2-c68c-430c-ed25-118c27bbb352"
      },
      "execution_count": null,
      "outputs": [
        {
          "output_type": "stream",
          "name": "stdout",
          "text": [
            "Enter your number:17\n",
            "17 not divisible by 3 and 6\n"
          ]
        }
      ]
    },
    {
      "cell_type": "code",
      "source": [
        "#16.Write a program that will determine weather when the value of temperature and humidity is provided by the user.\n",
        "TEMPERATURE(C)      HUMIDITY(%)      WEATHER\n",
        "\n",
        "      >= 30                             >=90                Hot and Humid\n",
        "      >= 30                             < 90                 Hot\n",
        "      <30                                >= 90               Cool and Humid\n",
        "      <30                                 <90                 Cool"
      ],
      "metadata": {
        "id": "8B_zeCxWtrCN"
      },
      "execution_count": null,
      "outputs": []
    },
    {
      "cell_type": "code",
      "source": [
        "temp = int(input('Enter temp is celcius:'))\n",
        "humid = int(input('Enter humidity percentage'))\n",
        "\n",
        "if temp >=30 and humid >=90:\n",
        "  print('Hot and Humid')\n",
        "elif temp >=30 and humid <90:\n",
        "  print('Hot')\n",
        "elif temp <30 and humid >=90:\n",
        "  print('Cold and Humid')\n",
        "else:\n",
        "  print('Cold')"
      ],
      "metadata": {
        "colab": {
          "base_uri": "https://localhost:8080/"
        },
        "id": "87e6Asp_f2cb",
        "outputId": "966b8a1f-5510-4a36-cea2-74d262f8b325"
      },
      "execution_count": null,
      "outputs": [
        {
          "output_type": "stream",
          "name": "stdout",
          "text": [
            "Enter temp is celcius:30\n",
            "Enter humidity percentage90\n",
            "Hot and Humid\n"
          ]
        }
      ]
    },
    {
      "cell_type": "code",
      "source": [
        "# 17.Write a program that will take three digits from the user and add the square of each digit.\n",
        "# 1+4+25=30\n",
        "num = int(input('Enter your number'))\n",
        "a = num % 10\n",
        "num = num//10\n",
        "b = num % 10\n",
        "c = num//10\n",
        "\n",
        "add = (a**2) +(b**2) + ( c**2)\n",
        "print('adding square digits is :',add)\n"
      ],
      "metadata": {
        "colab": {
          "base_uri": "https://localhost:8080/"
        },
        "id": "8JjJ23cdf2f2",
        "outputId": "d85386ed-fe18-4b0b-cb6a-0c25b3cefb34"
      },
      "execution_count": null,
      "outputs": [
        {
          "output_type": "stream",
          "name": "stdout",
          "text": [
            "Enter your number125\n",
            "adding square digits is : 30\n"
          ]
        }
      ]
    },
    {
      "cell_type": "code",
      "source": [
        "# 18.Write a program that will check whether the number is armstrong number or not.\n",
        "# 153\n",
        "# (1**3)+(5**3)+(3**3) = 1+125+27=153\n",
        "\n",
        "user_input = int(input('Enter your number:'))\n",
        "num = user_input\n",
        "\n",
        "a = num % 10\n",
        "num = num //10\n",
        "b = num % 10\n",
        "c = num//10\n",
        "\n",
        "if (a**3) +(b**3)+(c**3) == user_input:\n",
        "  print('Armstrong number')\n",
        "else:\n",
        "  print('Not an Armstorng Number')\n",
        "\n"
      ],
      "metadata": {
        "colab": {
          "base_uri": "https://localhost:8080/"
        },
        "id": "VVXQncjsf2jN",
        "outputId": "083d3cef-ad63-4e7a-a25d-2fd6ca8a6bec"
      },
      "execution_count": null,
      "outputs": [
        {
          "output_type": "stream",
          "name": "stdout",
          "text": [
            "Enter your number:153\n",
            "Armstrong number\n"
          ]
        }
      ]
    },
    {
      "cell_type": "code",
      "source": [
        "u_input= int(input('Enter num:'))\n",
        "num = u_input\n",
        "\n",
        "a = num % 10\n",
        "num = num //10\n",
        "b = num % 10\n",
        "c = num // 10\n",
        "\n",
        "if (a**3) + (b**3) + (c**3) == u_input:\n",
        "  print('am')\n",
        "else:\n",
        "  print('not')"
      ],
      "metadata": {
        "colab": {
          "base_uri": "https://localhost:8080/"
        },
        "id": "vWQmGY0ciMxB",
        "outputId": "c8ffc121-86a5-4485-d76c-543968677272"
      },
      "execution_count": null,
      "outputs": [
        {
          "output_type": "stream",
          "name": "stdout",
          "text": [
            "Enter num:153\n",
            "am\n"
          ]
        }
      ]
    },
    {
      "cell_type": "code",
      "source": [
        "# 19.Write a program that will take user input of (4 digits number) and check whether the number is narcissist number or not.\n",
        "\n",
        "user_input = int(input('Enter a four digits number'))\n",
        "num = user_input\n",
        "\n",
        "a = num % 10\n",
        "num = num //10\n",
        "b = num % 10\n",
        "num = num //10\n",
        "c = num%10\n",
        "d = num //10\n",
        "\n",
        "if (a**4) +(b**4)+(c**4)+(d**4) == user_input:\n",
        "  print('narcissist number:')\n",
        "else:\n",
        "  print('Not a Narcissictic number:')\n",
        " \n"
      ],
      "metadata": {
        "colab": {
          "base_uri": "https://localhost:8080/"
        },
        "id": "u8Ap2327f2mQ",
        "outputId": "5bf0a7f2-9a20-43e7-9009-0ce0398b8f8a"
      },
      "execution_count": null,
      "outputs": [
        {
          "output_type": "stream",
          "name": "stdout",
          "text": [
            "Enter a four digits number8208\n",
            "narcissist number:\n"
          ]
        }
      ]
    },
    {
      "cell_type": "code",
      "source": [
        "# 20.Write a program that will give you the in hand salary after deduction of HRA(10%),DA(5%),PF(3%), and tax(if salary is between 5-10 lakh–10%),(11-20lakh–20%),(20< _   – 30%)(0-1lakh print k).\n",
        "\n",
        "user_input = float(input('Enter annual salary'))\n",
        "\n",
        "if user_input > 500000 and user_input < 1000000:\n",
        "  tax = (10/100)*usre_input\n",
        "  temp_salary = user_input - tax\n",
        "elif user_input > 1000000 and user_input <200000:\n",
        "  tax = (20/100)*user_input\n",
        "  temp_salary = user_input\n",
        "else:\n",
        "  tax = (30/100)*user_input\n",
        "  temp_salary = user_input - tax\n",
        "\n",
        "print('After salary reduction:',temp_salary)\n",
        "\n",
        "hra = (10/100)*temp_salary\n",
        "da = (5/100)*temp_salary\n",
        "pf = (3/100)*temp_salary\n",
        "\n",
        "In_handsalary = (temp_salary - hra -da -pf)/12\n",
        "print('In Hand salary is :',In_handsalary)\n",
        "\n",
        "if In_handsalary <= 999:\n",
        "  print(In_handsalary)\n",
        "elif In_handsalary >= 1000 and In_handsalary <=9999:\n",
        "  print(In_handsalary/1000,'k')\n",
        "elif In_handsalary >=100000 and In_handsalary <=99999999:\n",
        "  print(In_handsalary/1000000,'l')\n",
        "else:\n",
        "  print(In_handsalary/10000000,'Cr')\n",
        "\n"
      ],
      "metadata": {
        "colab": {
          "base_uri": "https://localhost:8080/"
        },
        "id": "G6RLNJztf2pC",
        "outputId": "6a82bfff-98aa-4ba8-ce72-8db4b919cd57"
      },
      "execution_count": null,
      "outputs": [
        {
          "output_type": "stream",
          "name": "stdout",
          "text": [
            "Enter annual salary1600000\n",
            "After salary reduction: 1120000.0\n",
            "In Hand salary is : 76533.33333333333\n",
            "0.007653333333333333 Cr\n"
          ]
        }
      ]
    },
    {
      "cell_type": "code",
      "source": [
        "#21.Write a menu driven program - 1.cm to ft  2.kl to miles  3.usd to inr  4.exit\n",
        "\n",
        "user_input = input(''' Hi welcome to my page\n",
        "what would you like bto do?\n",
        "\n",
        "1.Convert cm to inches\n",
        "2. Convert km to miles\n",
        "3. Convert usd to inr\n",
        "4.Exit ''')\n",
        "\n",
        "if user_input == '1':\n",
        "  cm = float(input('Enter value in cm'))\n",
        "  inch = cm * 0.349\n",
        "  print('value in inch is-',inch)\n",
        "elif user_input == '2':\n",
        "  km = float(input('Enter value in km'))\n",
        "  mile = km * 0.621\n",
        "  print('value in miles is-',mile)\n",
        "elif user_input == '3':\n",
        "  usd = float(input('Enter value in usd'))\n",
        "  inr = usd * 76.63\n",
        "  print('value in inr is',inr)\n",
        "else:\n",
        "  print('Exit')"
      ],
      "metadata": {
        "id": "WNKqtOYnf2r5",
        "colab": {
          "base_uri": "https://localhost:8080/"
        },
        "outputId": "f6c90fec-37bf-4551-c0d8-b2f4e67d216f"
      },
      "execution_count": null,
      "outputs": [
        {
          "output_type": "stream",
          "name": "stdout",
          "text": [
            " Hi welcome to my page\n",
            "what would you like bto do?\n",
            "\n",
            "1.Convert cm to inches\n",
            "2. Convert km to miles\n",
            "3. Convert usd to inr\n",
            "4.Exit 2\n",
            "Enter value in km5\n",
            "value in miles is- 3.105\n"
          ]
        }
      ]
    },
    {
      "cell_type": "code",
      "source": [
        "# 22.Write a program that will tell the number of dogs and chicken are there when the user will provide the value of total heads and legs.\n"
      ],
      "metadata": {
        "id": "zT0QhI1Gf2uW"
      },
      "execution_count": null,
      "outputs": []
    },
    {
      "cell_type": "code",
      "source": [
        "# 23.23.Write a program that will swap numbers\n",
        "\n",
        "a = int(input('Enter frist number'))\n",
        "b = int(input('Enter second number'))\n",
        "\n",
        "a = a + b\n",
        "b = a - b\n",
        "a = a - b\n",
        "print('After swapping:')\n",
        "print(' a is:',a)\n",
        "print(' b is:',b)\n"
      ],
      "metadata": {
        "id": "LIa1IqCVf2xP",
        "colab": {
          "base_uri": "https://localhost:8080/"
        },
        "outputId": "b188e58f-6166-4b7e-bf71-c2e45e7d2026"
      },
      "execution_count": null,
      "outputs": [
        {
          "output_type": "stream",
          "name": "stdout",
          "text": [
            "Enter frist number10\n",
            "Enter second number01\n",
            "After swapping:\n",
            " a is: 1\n",
            " b is: 10\n"
          ]
        }
      ]
    },
    {
      "cell_type": "code",
      "source": [
        "# 24 24.Write a program to find the sum of first n numbers, where n will be provided by the user. Eg if the user provides n=10 the output should be 55.\n",
        "\n",
        "n = int(input('Enter number:'))\n",
        "s = n *(n + 1)/2\n",
        "print('Sum is :',s)"
      ],
      "metadata": {
        "id": "XwvCXwXuf20x",
        "colab": {
          "base_uri": "https://localhost:8080/"
        },
        "outputId": "e46f626d-c0ad-42f3-a113-3a85409a779f"
      },
      "execution_count": null,
      "outputs": [
        {
          "output_type": "stream",
          "name": "stdout",
          "text": [
            "Enter number:5\n",
            "Sum is : 15.0\n"
          ]
        }
      ]
    },
    {
      "cell_type": "code",
      "source": [
        "#25.Write a program that can multiply 2 numbers provided by the user without using the * operator\n",
        "\n",
        "first_num = int(input('frist num:'))\n",
        "sec_num = int(input('second num:'))\n",
        "sum = 0\n",
        "for i in range(0,first_num):\n",
        "  sum = sum + sec_num\n",
        "print('result is :',sum)\n"
      ],
      "metadata": {
        "id": "I8gUKNGZf23c",
        "colab": {
          "base_uri": "https://localhost:8080/"
        },
        "outputId": "a5056945-a8f8-4c37-c61a-3ebb455eab6d"
      },
      "execution_count": null,
      "outputs": [
        {
          "output_type": "stream",
          "name": "stdout",
          "text": [
            "frist num:5\n",
            "second num:10\n",
            "result is : 50\n"
          ]
        }
      ]
    },
    {
      "cell_type": "code",
      "source": [
        "# 26.Write a program that can find the factorial of a given number provided by the user.\n",
        "\n",
        "num = int(input('Enter number'))\n",
        "\n",
        "i = 1\n",
        "if num > 0:\n",
        "  while num >= 1:\n",
        "    i = i * num\n",
        "    num = num - 1\n",
        "  print('Factorial of the given number is :',i)\n",
        "else:\n",
        "  print(' Not possiable')\n",
        "\n"
      ],
      "metadata": {
        "id": "_ewbYQpef26m",
        "colab": {
          "base_uri": "https://localhost:8080/"
        },
        "outputId": "97846947-87c6-4028-a2d9-4c6f383546dc"
      },
      "execution_count": null,
      "outputs": [
        {
          "output_type": "stream",
          "name": "stdout",
          "text": [
            "Enter number5\n",
            "Factorial of the given number is : 120\n"
          ]
        }
      ]
    },
    {
      "cell_type": "code",
      "source": [
        "#27.Write a program to print the first 25 odd numbers\n",
        "\n",
        "flag = 0 \n",
        "i = 1\n",
        "while True:\n",
        "  if i % 2 != 0:\n",
        "    print(i)\n",
        "    flag = flag + 1\n",
        "  if flag == 25:\n",
        "    break\n",
        "  i = i +1"
      ],
      "metadata": {
        "colab": {
          "base_uri": "https://localhost:8080/"
        },
        "id": "dWXtx52ZZFGc",
        "outputId": "2fdebcb8-56ee-4a81-8ebd-251e174f0d5a"
      },
      "execution_count": null,
      "outputs": [
        {
          "output_type": "stream",
          "name": "stdout",
          "text": [
            "1\n",
            "3\n",
            "5\n",
            "7\n",
            "9\n",
            "11\n",
            "13\n",
            "15\n",
            "17\n",
            "19\n",
            "21\n",
            "23\n",
            "25\n",
            "27\n",
            "29\n",
            "31\n",
            "33\n",
            "35\n",
            "37\n",
            "39\n",
            "41\n",
            "43\n",
            "45\n",
            "47\n",
            "49\n"
          ]
        }
      ]
    },
    {
      "cell_type": "code",
      "source": [
        "#28.Write a program to print whether a given number is prime number or not\n",
        "\n",
        "num = int(input('Enter number'))\n",
        "\n",
        "if num == 2:\n",
        "  print('Prime number')\n",
        "elif num > 1:\n",
        "  for i in range(2,num):\n",
        "    if (num % i) == 0:\n",
        "      print(num,\"is not prime n number\")\n",
        "      break\n",
        "    else:\n",
        "      print(num,'is a prime number')\n",
        "      break\n",
        "  else:\n",
        "    print(num,\"is not prime number\")"
      ],
      "metadata": {
        "colab": {
          "base_uri": "https://localhost:8080/"
        },
        "id": "M0m_EXQsZFJz",
        "outputId": "ee9133a6-081f-49d4-8436-a4a2bc50fa20"
      },
      "execution_count": null,
      "outputs": [
        {
          "output_type": "stream",
          "name": "stdout",
          "text": [
            "Enter number11\n",
            "11 is a prime number\n"
          ]
        }
      ]
    },
    {
      "cell_type": "code",
      "source": [
        "# 29.Print all the armstrong numbers in the range of 100 to 1000\n",
        "for num in range(100,1000):\n",
        "\n",
        "  i=num\n",
        "  a = num % 10\n",
        "  num = num // 10\n",
        "  b = num % 10\n",
        "  c = num // 10\n",
        "\n",
        "  if (a**3) +(b**3) +(c**3) == i:\n",
        "      print(i)\n",
        "  i = i + 1\n"
      ],
      "metadata": {
        "colab": {
          "base_uri": "https://localhost:8080/"
        },
        "id": "jJk2ujpdZFNd",
        "outputId": "deec076c-99b2-4187-bfa4-7004cf322307"
      },
      "execution_count": null,
      "outputs": [
        {
          "output_type": "stream",
          "name": "stdout",
          "text": [
            "153\n",
            "370\n",
            "371\n",
            "407\n"
          ]
        }
      ]
    },
    {
      "cell_type": "code",
      "source": [
        "# 30.The current population of a town is 10000. The population of the town is increasing at the rate of 10% per year. You have to write a program to find out the population at the end of each of the last 10 years. For eg current population is 10000 so the output should be like this:\n",
        "10th year - 10000\n",
        "9th year - 9000\n",
        "8th year - 8100 and so on"
      ],
      "metadata": {
        "id": "aFLo-XbUZFYg"
      },
      "execution_count": null,
      "outputs": []
    },
    {
      "cell_type": "code",
      "source": [
        "flag = 0\n",
        "a = 10000\n",
        "print(a)\n",
        "\n",
        "while True:\n",
        "  b = (a) - ((10*a)/100)\n",
        "  a = b\n",
        "  print(int(b))\n",
        "  flag = flag + 1\n",
        "\n",
        "  if flag == 9:\n",
        "    break\n"
      ],
      "metadata": {
        "colab": {
          "base_uri": "https://localhost:8080/"
        },
        "id": "gVcZpHqrZFcA",
        "outputId": "141ffe86-b34c-4bee-b5f1-6d63f95a35e1"
      },
      "execution_count": null,
      "outputs": [
        {
          "output_type": "stream",
          "name": "stdout",
          "text": [
            "10000\n",
            "9000\n",
            "8100\n",
            "7290\n",
            "6561\n",
            "5904\n",
            "5314\n",
            "4782\n",
            "4304\n",
            "3874\n"
          ]
        }
      ]
    },
    {
      "cell_type": "code",
      "source": [
        "# 31.Write a program to print all the unique combinations of 1,2,3 and 4\n",
        "\n",
        "for i in range(1,5):\n",
        "  for j in range (1,5):\n",
        "    if(i != j):\n",
        "      print(i,j)\n"
      ],
      "metadata": {
        "colab": {
          "base_uri": "https://localhost:8080/"
        },
        "id": "SNzspwUVnxfk",
        "outputId": "de59d361-16d1-46da-cf59-bc7d4ff1a206"
      },
      "execution_count": null,
      "outputs": [
        {
          "output_type": "stream",
          "name": "stdout",
          "text": [
            "1 2\n",
            "1 3\n",
            "1 4\n",
            "2 1\n",
            "2 3\n",
            "2 4\n",
            "3 1\n",
            "3 2\n",
            "3 4\n",
            "4 1\n",
            "4 2\n",
            "4 3\n"
          ]
        }
      ]
    },
    {
      "cell_type": "code",
      "source": [
        "# 32.User will provide 2 numbers you have to find the HCF of those 2 numbers\n",
        "\n",
        "a = int(input('Enter the first number:'))\n",
        "b = int(input('Enter the second number:'))\n",
        "\n",
        "while a % b != 0:\n",
        "  rem = a % b\n",
        "  a = b\n",
        "  b = rem\n",
        "print('your HcF is:',b)"
      ],
      "metadata": {
        "colab": {
          "base_uri": "https://localhost:8080/"
        },
        "id": "vJEDxWJroqr5",
        "outputId": "bbb0920b-c3aa-49be-a1a6-a57f88bd01e8"
      },
      "execution_count": null,
      "outputs": [
        {
          "output_type": "stream",
          "name": "stdout",
          "text": [
            "Enter the first number:8\n",
            "Enter the second number:9\n",
            "your HcF is: 1\n"
          ]
        }
      ]
    },
    {
      "cell_type": "code",
      "source": [
        "# 33.User will provide 2 numbers you have to find the by LCM of those 2 numbers\n",
        "\n",
        "a = int(input('Enter the first number:'))\n",
        "num_1 = a\n",
        "b = int(input('Enter the second number:'))\n",
        "num_2 = b\n",
        "\n",
        "while num_1 % num_2 != 0:\n",
        "  rem = num_1 % num_2\n",
        "  num_1 = num_2\n",
        "  num_2 = rem\n",
        "hcf = num_2\n",
        "\n",
        "lcm = (a * b)/hcf\n",
        "print('LCM is:',lcm)\n"
      ],
      "metadata": {
        "colab": {
          "base_uri": "https://localhost:8080/"
        },
        "id": "uLjZFeeCpqLh",
        "outputId": "bf57f091-9038-4299-bfb3-0fb4add00095"
      },
      "execution_count": null,
      "outputs": [
        {
          "output_type": "stream",
          "name": "stdout",
          "text": [
            "Enter the first number:22\n",
            "Enter the second number:12\n",
            "LCM is: 132.0\n"
          ]
        }
      ]
    },
    {
      "cell_type": "code",
      "source": [
        "# 34.Print first 25 prime numbers\n",
        "\n",
        "counter = 0\n",
        "num = 2\n",
        "while(counter <= 25):\n",
        "  for i in range(2,num):\n",
        "    if num % i == 0:\n",
        "      break\n",
        "  else:\n",
        "    print(num)\n",
        "    counter = counter + 1\n",
        "  num = num +1\n"
      ],
      "metadata": {
        "colab": {
          "base_uri": "https://localhost:8080/"
        },
        "id": "BbSXO9Z1rAyn",
        "outputId": "ae838964-0266-421e-a2cc-8e726f5dd8c3"
      },
      "execution_count": null,
      "outputs": [
        {
          "output_type": "stream",
          "name": "stdout",
          "text": [
            "2\n",
            "3\n",
            "5\n",
            "7\n",
            "11\n",
            "13\n",
            "17\n",
            "19\n",
            "23\n",
            "29\n",
            "31\n",
            "37\n",
            "41\n",
            "43\n",
            "47\n",
            "53\n",
            "59\n",
            "61\n",
            "67\n",
            "71\n",
            "73\n",
            "79\n",
            "83\n",
            "89\n",
            "97\n",
            "101\n"
          ]
        }
      ]
    },
    {
      "cell_type": "code",
      "source": [
        "# 35.Print the first 20 numbers of a Fibonacci series\n",
        "\n",
        "count = 0\n",
        "a = 0\n",
        "b = 1\n",
        "print(a)\n",
        "print(b)\n",
        "\n",
        "while True:\n",
        "  c = a + b\n",
        "  a = b\n",
        "  b = c\n",
        "  print(c)\n",
        "  count = count + 1\n",
        "  if count == 18 :\n",
        "    break"
      ],
      "metadata": {
        "colab": {
          "base_uri": "https://localhost:8080/"
        },
        "id": "_dNIQo_KrKyN",
        "outputId": "ea8b3e0d-7e22-43fd-b1e1-1554f55de2b7"
      },
      "execution_count": null,
      "outputs": [
        {
          "output_type": "stream",
          "name": "stdout",
          "text": [
            "0\n",
            "1\n",
            "1\n",
            "2\n",
            "3\n",
            "5\n",
            "8\n",
            "13\n",
            "21\n",
            "34\n",
            "55\n",
            "89\n",
            "144\n",
            "233\n",
            "377\n",
            "610\n",
            "987\n",
            "1597\n",
            "2584\n",
            "4181\n"
          ]
        }
      ]
    },
    {
      "cell_type": "code",
      "source": [
        "#36.Write a program to find the compound interest \n",
        "\n",
        "p = int(input('Enter Pricipal:'))\n",
        "r = int(input('Enter Rate of interest:'))\n",
        "t = int(input('Enter the time period elapsed:'))\n",
        "\n",
        "a = p*(1+r/100)**t\n",
        "print('amount is:',a)\n",
        "\n",
        "ci = a -p\n",
        "print('compound interest is :',ci)\n"
      ],
      "metadata": {
        "colab": {
          "base_uri": "https://localhost:8080/"
        },
        "id": "fnkVtZJBrK1T",
        "outputId": "7b7eafe5-0742-4f1e-c662-884b1ee3e016"
      },
      "execution_count": null,
      "outputs": [
        {
          "output_type": "stream",
          "name": "stdout",
          "text": [
            "Enter Pricipal:50000\n",
            "Enter Rate of interest:12\n",
            "Enter the time period elapsed:1\n",
            "amount is: 56000.00000000001\n",
            "compound interest is : 6000.000000000007\n"
          ]
        }
      ]
    },
    {
      "cell_type": "code",
      "source": [
        "#37.Write a Python program that accepts an integer (n) and computes the value of n+nn+nnn.\n",
        "# n+ nn+ nnn\n",
        "\n",
        "n = input('Enter number')\n",
        "print('n is:',n)\n",
        "nn = n+n\n",
        "print('nn is:',nn)\n",
        "nnn = n+n+n\n",
        "print('nnn is:',nnn)\n",
        "c = int(n) + int(nn) + int(nnn)\n",
        "print(c)\n"
      ],
      "metadata": {
        "colab": {
          "base_uri": "https://localhost:8080/"
        },
        "id": "DLVN6Mb7rK4I",
        "outputId": "d872fb6d-c45a-4f32-f798-9beced4d4890"
      },
      "execution_count": null,
      "outputs": [
        {
          "output_type": "stream",
          "name": "stdout",
          "text": [
            "Enter number5\n",
            "n is: 5\n",
            "nn is: 55\n",
            "nnn is: 555\n",
            "615\n"
          ]
        }
      ]
    },
    {
      "cell_type": "code",
      "source": [
        "#38.Take a number from the user and find the number of digits in it. \n",
        "\n",
        "a = int(input('Enter number:'))\n",
        "count = 0\n",
        "\n",
        "while(a > 0):\n",
        "  a = a // 10\n",
        "  count = count + 1\n",
        "print('Number of digits:',count)"
      ],
      "metadata": {
        "colab": {
          "base_uri": "https://localhost:8080/"
        },
        "id": "SfQPx2wOrK69",
        "outputId": "8d6b83ca-2bb4-4a24-af6c-18c7f48ab04b"
      },
      "execution_count": null,
      "outputs": [
        {
          "output_type": "stream",
          "name": "stdout",
          "text": [
            "Enter number:12456328794236412654\n",
            "Number of digits: 20\n"
          ]
        }
      ]
    },
    {
      "cell_type": "code",
      "source": [
        "# 39.Print all factors of a given number provided by the user.\n",
        "\n",
        "num = int(input('Enter number:'))\n",
        "\n",
        "for i in range(1,num + 1):\n",
        "  if num % i == 0:\n",
        "    print('factors are:',i)\n"
      ],
      "metadata": {
        "colab": {
          "base_uri": "https://localhost:8080/"
        },
        "id": "7z1Af0hgrK-P",
        "outputId": "4609d9f3-f8e2-4984-e4da-a4c4d3e56e11"
      },
      "execution_count": null,
      "outputs": [
        {
          "output_type": "stream",
          "name": "stdout",
          "text": [
            "Enter number:56\n",
            "factors are: 1\n",
            "factors are: 2\n",
            "factors are: 4\n",
            "factors are: 7\n",
            "factors are: 8\n",
            "factors are: 14\n",
            "factors are: 28\n",
            "factors are: 56\n"
          ]
        }
      ]
    },
    {
      "cell_type": "code",
      "source": [
        "# 40.Find the reverse of a number provided by the user(any number of digit) \n",
        "\n",
        "a = int(input('Enter number:'))\n",
        "rev = 0\n",
        "\n",
        "while a > 0:\n",
        "  rem = a % 10\n",
        "  a = a // 10\n",
        "  rev = (rev * 10) +(rem)\n",
        "print('reversed value:',rev)"
      ],
      "metadata": {
        "colab": {
          "base_uri": "https://localhost:8080/"
        },
        "id": "O7VLLj4A04BL",
        "outputId": "cc020972-271a-4c80-c4bd-9caf86ec8231"
      },
      "execution_count": null,
      "outputs": [
        {
          "output_type": "stream",
          "name": "stdout",
          "text": [
            "Enter number:12345\n",
            "reversed value: 54321\n"
          ]
        }
      ]
    },
    {
      "cell_type": "code",
      "source": [
        "#46.Write a program to calculate the sum of the following series till the nth term\n",
        "#1/1! + 2/2! + 3/3! + 4/4! +…….+ n/n!\n",
        "#n will be provided by the user\n",
        "\n",
        "num = int(input('Enter number:'))\n",
        "result = 0\n",
        "fact = 1\n",
        "\n",
        "for i in range(1,num + 1):\n",
        "  fact = fact * i\n",
        "  result = result + (i/fact)\n",
        "print(result)\n",
        "\n",
        "\n",
        "\n",
        "\n"
      ],
      "metadata": {
        "colab": {
          "base_uri": "https://localhost:8080/"
        },
        "id": "aPoVZIak04El",
        "outputId": "e1e17b72-be89-45b1-cc12-5368f5450541"
      },
      "execution_count": null,
      "outputs": [
        {
          "output_type": "stream",
          "name": "stdout",
          "text": [
            "Enter number:5\n",
            "2.708333333333333\n"
          ]
        }
      ]
    },
    {
      "cell_type": "code",
      "source": [
        "from traitlets.config.application import T\n",
        "#49. Write a program that keeps on accepting a number from the user until the user enters Zero. Display the sum and average of all the numbers.\n",
        "\n",
        "num = int(input('Enter number'))\n",
        "add = 0\n",
        "avg = 0\n",
        "count = 0\n",
        "\n",
        "while True:\n",
        "  if num != 0:\n",
        "    add = add + num\n",
        "    count = count + 1\n",
        "    avg = add/count\n",
        "    num = int(input('Another number please:'))\n",
        "\n",
        "  else:\n",
        "    print(\"txn\")\n",
        "    break\n",
        "print('sum is:',add)\n",
        "print('averge:',avg)\n",
        "\n"
      ],
      "metadata": {
        "colab": {
          "base_uri": "https://localhost:8080/"
        },
        "id": "XpZCIJZG04Hn",
        "outputId": "4725866d-4581-4f72-cc04-fa97b3d9d68e"
      },
      "execution_count": null,
      "outputs": [
        {
          "output_type": "stream",
          "name": "stdout",
          "text": [
            "Enter number5\n",
            "Another number please:7\n",
            "Another number please:2\n",
            "Another number please:0\n",
            "txn\n",
            "sum is: 14\n",
            "averge: 4.666666666666667\n"
          ]
        }
      ]
    },
    {
      "cell_type": "code",
      "source": [
        "#51.Find the length of a given string without using the len() function. \n",
        "\n",
        "a = input(\"Enter string\")\n",
        "count = 0\n",
        "for i in a:\n",
        "  count = count +1\n",
        "print('Length of string is:',count)"
      ],
      "metadata": {
        "colab": {
          "base_uri": "https://localhost:8080/"
        },
        "id": "5gS3xfaT04Kt",
        "outputId": "95516e5b-8e9d-4f6b-efe7-5c65dcc6ab0a"
      },
      "execution_count": null,
      "outputs": [
        {
          "output_type": "stream",
          "name": "stdout",
          "text": [
            "Enter stringSumit rameshwar gaikwad\n",
            "Length of string is: 23\n"
          ]
        }
      ]
    },
    {
      "cell_type": "code",
      "source": [
        "#52.Extract username from a given email. \n",
        "#Eg if the email is nitish24singh@gmail.com then the username should be nitish24singh\n",
        "\n",
        "email = input('Enter email')\n",
        "username,mail = email.split('@')\n",
        "print(username)\n"
      ],
      "metadata": {
        "colab": {
          "base_uri": "https://localhost:8080/"
        },
        "id": "fAyJYtVO04OC",
        "outputId": "f2437325-4867-44b8-8917-35af9a65059a"
      },
      "execution_count": null,
      "outputs": [
        {
          "output_type": "stream",
          "name": "stdout",
          "text": [
            "Enter emailgaikwads070@gmail.com\n",
            "gaikwads070\n"
          ]
        }
      ]
    },
    {
      "cell_type": "code",
      "source": [
        "#53.Count the frequency of a particular character in a provided string. Eg 'hello how are you' is the string, the frequency of h in this string is 2.\n",
        "\n",
        "a = input('Enter string')\n",
        "b = input('Enter charachetr')\n",
        "count = 0\n",
        "\n",
        "for i in a:\n",
        "  if i in b:\n",
        "    count = count +1\n",
        "print('Character occurred:',count,'times')\n"
      ],
      "metadata": {
        "colab": {
          "base_uri": "https://localhost:8080/"
        },
        "id": "URsSi-SE04RI",
        "outputId": "d3dc40fb-78e7-43b9-bc41-a6814862a9dd"
      },
      "execution_count": null,
      "outputs": [
        {
          "output_type": "stream",
          "name": "stdout",
          "text": [
            "Enter stringhello sumit gaikwad\n",
            "Enter charachetra\n",
            "Character occurred: 2 times\n"
          ]
        }
      ]
    },
    {
      "cell_type": "code",
      "source": [
        "#54.Find the index position of a particular character in another string. \n",
        "\n",
        "a = input('Enter string:')\n",
        "b = input('enter charachter:')\n",
        "print(a.index(b))"
      ],
      "metadata": {
        "colab": {
          "base_uri": "https://localhost:8080/"
        },
        "id": "vaTM2KMQrLA1",
        "outputId": "cad571b7-356a-45bb-d840-d28fcebd11ff"
      },
      "execution_count": null,
      "outputs": [
        {
          "output_type": "stream",
          "name": "stdout",
          "text": [
            "Enter string: i am sumit gaikwad\n",
            "enter charachter:g\n",
            "12\n"
          ]
        }
      ]
    },
    {
      "cell_type": "code",
      "source": [
        "#55.Count the number of vowels in a string provided by the user.\n",
        "a = input('entr u string')\n",
        "vowels = 'aeiou'\n",
        "count = 0\n",
        "\n",
        "for i in a:\n",
        "  if i in vowels:\n",
        "    count = count + 1\n",
        "print(count)"
      ],
      "metadata": {
        "colab": {
          "base_uri": "https://localhost:8080/"
        },
        "id": "EcaecEXErLDx",
        "outputId": "6f7d38d9-084f-44e8-d440-4b31d2425ea4"
      },
      "execution_count": null,
      "outputs": [
        {
          "output_type": "stream",
          "name": "stdout",
          "text": [
            "entr u stringsumit gaikwad\n",
            "5\n"
          ]
        }
      ]
    },
    {
      "cell_type": "code",
      "source": [
        "#56.Write a program which can remove a particular character from a string. \n",
        "\n",
        "a = input(\" Enter u string\")\n",
        "b = int(input(\" Enter value of character\"))\n",
        "#\n",
        "c = a[0:b-1]\n",
        "d = a[b:]\n",
        "print(c+d)"
      ],
      "metadata": {
        "colab": {
          "base_uri": "https://localhost:8080/"
        },
        "id": "BCJy8dIwrLGq",
        "outputId": "25c996a4-6951-4b64-df1f-8edac8993b26"
      },
      "execution_count": null,
      "outputs": [
        {
          "output_type": "stream",
          "name": "stdout",
          "text": [
            " Enter u stringsumit\n",
            " Enter value of character4\n",
            "sumt\n"
          ]
        }
      ]
    },
    {
      "cell_type": "code",
      "source": [
        "#57.Write a program that can check whether a given string is palindrome or not.\n",
        "\n",
        "a = input(\"Enter u string\")\n",
        "rev = ''\n",
        "\n",
        "for i in range(len(a)-1,-1,-1):\n",
        "  rev = rev + a[i]\n",
        "print(rev)\n",
        "if rev == a:\n",
        "  print('palindrome')\n",
        "else:\n",
        "  print('Not palindrome')\n"
      ],
      "metadata": {
        "colab": {
          "base_uri": "https://localhost:8080/"
        },
        "id": "ckqcwrxpqdcx",
        "outputId": "a001ccfd-7479-4dd8-cae3-b51510412c32"
      },
      "execution_count": null,
      "outputs": [
        {
          "output_type": "stream",
          "name": "stdout",
          "text": [
            "Enter u stringdontnod\n",
            "dontnod\n",
            "palindrome\n"
          ]
        }
      ]
    },
    {
      "cell_type": "code",
      "source": [
        "#58.Write a python program to remove all the duplicates from a list\n",
        "l1 = [1,5,4,2,2,7,8,5]\n",
        "l2 = []\n",
        "\n",
        "for i in l1:\n",
        "  if i not in l2:\n",
        "    l2.append(i)\n",
        "print(l2)"
      ],
      "metadata": {
        "colab": {
          "base_uri": "https://localhost:8080/"
        },
        "id": "Og1qJ2xfqdfo",
        "outputId": "ee6f0e73-1f97-4c4c-8c4f-427c316a1e06"
      },
      "execution_count": null,
      "outputs": [
        {
          "output_type": "stream",
          "name": "stdout",
          "text": [
            "[1, 5, 4, 2, 7, 8]\n"
          ]
        }
      ]
    },
    {
      "cell_type": "code",
      "source": [
        "#59.Write a python program to convert a string to title case without using the title()\n",
        "\n",
        "a = ' hello sumit gaikwad'\n",
        "y = a.split()\n",
        "print(y)\n",
        "r = ''\n",
        "for i in y:\n",
        "  r = r + i[0].upper() + i[1:].lower() + ' '\n",
        "print(r) \n"
      ],
      "metadata": {
        "colab": {
          "base_uri": "https://localhost:8080/"
        },
        "id": "aiTHRrBOqdiq",
        "outputId": "ab1cece5-637e-480c-e625-d35cab6e574d"
      },
      "execution_count": null,
      "outputs": [
        {
          "output_type": "stream",
          "name": "stdout",
          "text": [
            "['hello', 'sumit', 'gaikwad']\n",
            "Hello Sumit Gaikwad \n"
          ]
        }
      ]
    },
    {
      "cell_type": "code",
      "source": [
        "#60.Write a python program to find the max item from a list without using the max function\n",
        "\n",
        "L = [2,3,4,5,6,7,8,9]\n",
        "max = L[0]\n",
        "for i in L:\n",
        "  if i > max:\n",
        "    max = i\n",
        "print(max)\n"
      ],
      "metadata": {
        "colab": {
          "base_uri": "https://localhost:8080/"
        },
        "id": "QPLZgXUxqdlb",
        "outputId": "910559c2-9791-4004-a0ee-0761c432a01c"
      },
      "execution_count": null,
      "outputs": [
        {
          "output_type": "stream",
          "name": "stdout",
          "text": [
            "9\n"
          ]
        }
      ]
    },
    {
      "cell_type": "code",
      "source": [
        "#61.Write a python program to reverse a list\n",
        "\n",
        "L = [1,45,2,4,3,4,8,2]\n",
        "rev = []\n",
        "\n",
        "for i in range(len(L)-1,-1,-1):\n",
        "  rev.append(L[i])\n",
        "print(rev)"
      ],
      "metadata": {
        "id": "VrGXEIJOqdpI",
        "colab": {
          "base_uri": "https://localhost:8080/"
        },
        "outputId": "2d1be1f5-8f5f-475b-90fc-d73096a7a2e3"
      },
      "execution_count": null,
      "outputs": [
        {
          "output_type": "stream",
          "name": "stdout",
          "text": [
            "[2, 8, 4, 3, 4, 2, 45, 1]\n"
          ]
        }
      ]
    },
    {
      "cell_type": "code",
      "source": [
        "# 62.Write a python program to search a given number from a list\n",
        "\n",
        "L = [1,2,3,4,5,6,7,8,9]\n",
        "num = int(input(\"Enter number\"))\n",
        "\n",
        "for i in L:\n",
        "  if i == num:\n",
        "    print('True')\n",
        "    break\n",
        "else:\n",
        "  print('False')"
      ],
      "metadata": {
        "colab": {
          "base_uri": "https://localhost:8080/"
        },
        "id": "EnxhXk5xlHAG",
        "outputId": "3af8d95e-5a1c-4931-e2b1-77ee23d32749"
      },
      "execution_count": null,
      "outputs": [
        {
          "output_type": "stream",
          "name": "stdout",
          "text": [
            "Enter number5\n",
            "True\n"
          ]
        }
      ]
    },
    {
      "cell_type": "code",
      "source": [
        "#63.Write a program that can create a new list from a given list where each item in the new list is square of the item of the old list\n",
        "\n",
        "l1 = [2,4,5,6,7]\n",
        "l2 = []\n",
        "for i in l1:\n",
        "  l2.append(i**2)\n",
        "print(l2)\n",
        "\n"
      ],
      "metadata": {
        "colab": {
          "base_uri": "https://localhost:8080/"
        },
        "id": "chD_x0IWlHDf",
        "outputId": "3aebb6d6-ec2a-4f8c-9b4d-82933a8e315c"
      },
      "execution_count": null,
      "outputs": [
        {
          "output_type": "stream",
          "name": "stdout",
          "text": [
            "[4, 16, 25, 36, 49]\n"
          ]
        }
      ]
    },
    {
      "cell_type": "code",
      "source": [
        "#64.Write a program that can reverse words of a given string.\n",
        "\n",
        "a = input('Enter string')\n",
        "x = a.split()\n",
        "rev = []\n",
        "\n",
        "for i in range(len(x)-1,-1,-1):\n",
        "  rev.append(x[i])\n",
        "y = ' '.join(rev)\n",
        "print(y)"
      ],
      "metadata": {
        "colab": {
          "base_uri": "https://localhost:8080/"
        },
        "id": "47AmqJRblHH1",
        "outputId": "0bdffe26-36fc-4cbc-f8c7-570e684fa95e"
      },
      "execution_count": null,
      "outputs": [
        {
          "output_type": "stream",
          "name": "stdout",
          "text": [
            "Enter stringsumit gaikwad\n",
            "gaikwad sumit\n"
          ]
        }
      ]
    },
    {
      "cell_type": "code",
      "source": [
        "#65.Write a program that can count the number of words in a given string\n",
        "\n",
        "a = input('Entr string')\n",
        "count = 0\n",
        "\n",
        "for i in a:\n",
        "  if i == ' ':\n",
        "    count = count +1\n",
        "words = count + 1\n",
        "print('Number of words in string:',words)\n",
        "\n"
      ],
      "metadata": {
        "colab": {
          "base_uri": "https://localhost:8080/"
        },
        "id": "4uq4vmXPlHLS",
        "outputId": "f43637dc-b3c1-41d4-a37c-edb1da16ff5c"
      },
      "execution_count": null,
      "outputs": [
        {
          "output_type": "stream",
          "name": "stdout",
          "text": [
            "Entr stringsumit gaikwad\n",
            "Number of words in string: 2\n"
          ]
        }
      ]
    },
    {
      "cell_type": "code",
      "source": [
        "#66.Write a program to check if a list is in ascending order or not\n",
        "\n",
        "L = [1,2,3,45,6]\n",
        "flag = 0\n",
        "\n",
        "for i in range(0,len(L)-1):\n",
        "  if L[i] >= L[i + 1]:\n",
        "    flag = 1\n",
        "    break\n",
        "if flag == 0:\n",
        "  print('Sorted')\n",
        "else:\n",
        "  print('Not sorted')\n",
        "\n"
      ],
      "metadata": {
        "colab": {
          "base_uri": "https://localhost:8080/"
        },
        "id": "XbRT_uDslHPJ",
        "outputId": "ca6d6494-0dd3-4112-d5e8-12a5a872e942"
      },
      "execution_count": null,
      "outputs": [
        {
          "output_type": "stream",
          "name": "stdout",
          "text": [
            "Not sorted\n"
          ]
        }
      ]
    },
    {
      "cell_type": "code",
      "source": [
        "# 67.Create 2 lists from a given list where 1st list will contain all the odd numbers from the original list and the 2nd one will contain all the even numbers \n",
        "\n",
        "L = [1,2,3,4,5,6,7,8,9]\n",
        "L_even = []\n",
        "L_odd = []\n",
        "\n",
        "for i in L:\n",
        "  if i % 2 == 0:\n",
        "    L_even.append(i)\n",
        "  else:\n",
        "    L_odd.append(i)\n",
        "print('List of even numbers:',L_even)\n",
        "print('List of odd numbers:',L_odd)\n",
        "\n"
      ],
      "metadata": {
        "colab": {
          "base_uri": "https://localhost:8080/"
        },
        "id": "JECMsHgZlHSw",
        "outputId": "ba21d29c-ac83-4592-f858-c68574668db6"
      },
      "execution_count": null,
      "outputs": [
        {
          "output_type": "stream",
          "name": "stdout",
          "text": [
            "List of even numbers: [2, 4, 6, 8]\n",
            "List of odd numbers: [1, 3, 5, 7, 9]\n"
          ]
        }
      ]
    },
    {
      "cell_type": "code",
      "source": [
        "# 68.Write a program to merge 2 list without using the + operator\n",
        "L1 = [1,2,3,4]\n",
        "L2 = [5,6,7,8,9]\n",
        "L = []\n",
        "\n",
        "for i in L1:\n",
        "  L.append(i)\n",
        "for j in L2:\n",
        "  L.append(j)\n",
        "print(L)\n",
        "\n"
      ],
      "metadata": {
        "colab": {
          "base_uri": "https://localhost:8080/"
        },
        "id": "642Xgk0S2b8Z",
        "outputId": "9da1bd0d-3d35-4e3a-8eee-55a8b30119f6"
      },
      "execution_count": null,
      "outputs": [
        {
          "output_type": "stream",
          "name": "stdout",
          "text": [
            "[1, 2, 3, 4, 5, 6, 7, 8, 9]\n"
          ]
        }
      ]
    },
    {
      "cell_type": "code",
      "source": [
        "# 69.Write a program to replace an item with a different item if found in the list \n",
        "\n",
        "L = [1,2,3,4,5]\n",
        "find = int(input('Enter the number for replace'))\n",
        "replace = int(input('Enter number'))\n",
        "\n",
        "for i in range(0,len(L)):\n",
        "  if find == L[i]:\n",
        "    L[i] = replace\n",
        "    print(L)\n",
        "    break\n",
        "else:\n",
        "  print('Not found')\n"
      ],
      "metadata": {
        "colab": {
          "base_uri": "https://localhost:8080/"
        },
        "id": "Lq6HKPnv2b_K",
        "outputId": "964547bd-86ed-4c35-cf96-5c9a2c035811"
      },
      "execution_count": null,
      "outputs": [
        {
          "output_type": "stream",
          "name": "stdout",
          "text": [
            "Enter the number for replace3\n",
            "Enter number7\n",
            "[1, 2, 7, 4, 5]\n"
          ]
        }
      ]
    },
    {
      "cell_type": "code",
      "source": [
        "#70.Write a program that can convert a 2D list to 1D listWrite a program that can print \n",
        "L = [1,2,3,4,[5,6,7,8]]\n",
        "rev = []\n",
        "\n",
        "for i in L:\n",
        "  if type(i)==list:\n",
        "    rev.extend(i)\n",
        "  else:\n",
        "    rev.append(i)\n",
        " \n",
        "print(rev)\n",
        "\n",
        "\n"
      ],
      "metadata": {
        "colab": {
          "base_uri": "https://localhost:8080/"
        },
        "id": "M0UXYaXI2cCg",
        "outputId": "e9d0ef49-3bfa-40fa-8bc1-34d9c72d536e"
      },
      "execution_count": null,
      "outputs": [
        {
          "output_type": "stream",
          "name": "stdout",
          "text": [
            "[1, 2, 3, 4, 5, 6, 7, 8]\n"
          ]
        }
      ]
    },
    {
      "cell_type": "code",
      "source": [
        "# 71.Write a program that can perform union and intersection on 2 given list. \n",
        "\n",
        "L1 = [1,2,3,4,5]\n",
        "L2 = [3,4,5,6,7]\n",
        "# union\n",
        "Union = []\n",
        "intersection = []\n",
        "\n",
        "for i in L1:\n",
        "  if i not in Union:\n",
        "    Union.append(i)\n",
        "for j in L2:\n",
        "  if j not in Union:\n",
        "    Union.append(j)\n",
        "# intersection\n",
        "for i in L1:\n",
        "  if i in L2:\n",
        "    intersection.append(i)\n",
        "print('Union list:',Union)\n",
        "print('intersection:',intersection)\n"
      ],
      "metadata": {
        "colab": {
          "base_uri": "https://localhost:8080/"
        },
        "id": "HGDmNC-F2cUB",
        "outputId": "99babd50-1762-4068-e4bd-8f6102a7747a"
      },
      "execution_count": null,
      "outputs": [
        {
          "output_type": "stream",
          "name": "stdout",
          "text": [
            "Union list: [1, 2, 3, 4, 5, 6, 7]\n",
            "intersection: [3, 4, 5]\n"
          ]
        }
      ]
    },
    {
      "cell_type": "code",
      "source": [
        "#72.the max item of each row of a matrix. \n",
        "\n",
        "matrix = [\n",
        "    [1,2,3],\n",
        "    [8,5,6],\n",
        "    [7,8,9]\n",
        "]\n",
        "for i in matrix:\n",
        "  max = i[0]\n",
        "  for j in i:\n",
        "    if j > max:\n",
        "      max = j\n",
        "  print(max)    \n",
        "\n",
        "\n"
      ],
      "metadata": {
        "colab": {
          "base_uri": "https://localhost:8080/"
        },
        "id": "eKSroX7W2cnp",
        "outputId": "2c075948-ce53-4875-8b0b-9d9afd3852aa"
      },
      "execution_count": null,
      "outputs": [
        {
          "output_type": "stream",
          "name": "stdout",
          "text": [
            "3\n",
            "8\n",
            "9\n"
          ]
        }
      ]
    },
    {
      "cell_type": "code",
      "source": [
        "#74.Write a program to print the shape of a matrix. \n",
        "\n",
        "matrix = [\n",
        "    [1,2,3],\n",
        "    [4,5,6]\n",
        "]\n",
        "row = 0\n",
        "for i in matrix:\n",
        "  row = row + 1\n",
        "print('the shape of this matrix is:',row,'*', len(i))"
      ],
      "metadata": {
        "colab": {
          "base_uri": "https://localhost:8080/"
        },
        "id": "3KiCFpAw68_-",
        "outputId": "3282972c-df92-4a8e-c591-aabf834b52cd"
      },
      "execution_count": null,
      "outputs": [
        {
          "output_type": "stream",
          "name": "stdout",
          "text": [
            "the shape of this matrix is: 2 * 3\n"
          ]
        }
      ]
    },
    {
      "cell_type": "code",
      "source": [
        "#75.Write a program that can check if you can perform matrix multiplication on 2 matrices \n",
        "\n",
        "matrix_1 = [\n",
        "    [1,2,3],\n",
        "    [4,5,6],\n",
        "    [7,8,9]\n",
        "]\n",
        "row_1 = 0\n",
        "for i in matrix_1:\n",
        "  row_1 = row_1 +1\n",
        "  column_1 = len(i)\n",
        "  print('matrix_1:',i)\n",
        "print('Row_1:',row_1)\n",
        "print('Column_1:',column_1) \n",
        "\n",
        "matrix_2 = [\n",
        "    [2,3],\n",
        "    [4,5],\n",
        "    [7,8]\n",
        "]\n",
        "row_2 = 0\n",
        "for j in matrix_2:\n",
        "  row_2 = row_2 +1\n",
        "  column_2 = len(j)\n",
        "  print('matrix_2:',j)\n",
        "print('Row_2:',row_2)\n",
        "print('Column_2:',column_2)\n",
        "\n",
        "if column_1 == row_2:\n",
        "  print('Multipilcation is possible')\n",
        "else:\n",
        "  print('Not possiable')\n"
      ],
      "metadata": {
        "colab": {
          "base_uri": "https://localhost:8080/"
        },
        "id": "FALowPrq69Cs",
        "outputId": "87adb14f-dd3d-4676-8317-5542c48e9564"
      },
      "execution_count": null,
      "outputs": [
        {
          "output_type": "stream",
          "name": "stdout",
          "text": [
            "matrix_1: [1, 2, 3]\n",
            "matrix_1: [4, 5, 6]\n",
            "matrix_1: [7, 8, 9]\n",
            "Row_1: 3\n",
            "Column_1: 3\n",
            "matrix_2: [2, 3]\n",
            "matrix_2: [4, 5]\n",
            "matrix_2: [7, 8]\n",
            "Row_2: 3\n",
            "Column_2: 2\n",
            "Multipilcation is possible\n"
          ]
        }
      ]
    },
    {
      "cell_type": "code",
      "source": [
        "#77.Write a program that can sort a given unsorted list. Dont use any built in function for sorting.\n",
        "\n",
        "L = [5,3,4,8,6,5,8]\n",
        "\n",
        "for i in range(len(L)):\n",
        "  for k in range(0,len(L)-1):\n",
        "    if L[k]>L[k+1]:\n",
        "      temp = L[k]\n",
        "      L[k] = L[k+1]\n",
        "      L[k+1] = temp\n",
        "print(L)"
      ],
      "metadata": {
        "colab": {
          "base_uri": "https://localhost:8080/"
        },
        "id": "LkUhJtEN69F0",
        "outputId": "1c355c5e-3e04-4cda-dcc4-36830df7a17d"
      },
      "execution_count": null,
      "outputs": [
        {
          "output_type": "stream",
          "name": "stdout",
          "text": [
            "[3, 4, 5, 5, 6, 8, 8]\n"
          ]
        }
      ]
    },
    {
      "cell_type": "code",
      "source": [
        "L = [5,3,4,8,6,5,8]\n",
        "L.sort()\n",
        "print(L)"
      ],
      "metadata": {
        "colab": {
          "base_uri": "https://localhost:8080/"
        },
        "id": "dWNTAXuG69IL",
        "outputId": "9466be12-5a9a-418c-8575-5b156e0242e6"
      },
      "execution_count": null,
      "outputs": [
        {
          "output_type": "stream",
          "name": "stdout",
          "text": [
            "[3, 4, 5, 5, 6, 8, 8]\n"
          ]
        }
      ]
    },
    {
      "cell_type": "code",
      "source": [],
      "metadata": {
        "id": "Cq-SRNiy69LA"
      },
      "execution_count": null,
      "outputs": []
    },
    {
      "cell_type": "code",
      "source": [
        "#87.Write a function that accepts a number and returns it’s factorial. You can not use any loop\n",
        "\n",
        "A= int(input(\"Enter number\"))\n",
        "def fact(num):\n",
        "  if num == 1:\n",
        "    return 1\n",
        "  else:\n",
        "    return num * fact(num-1)\n",
        "print(fact(A))\n"
      ],
      "metadata": {
        "colab": {
          "base_uri": "https://localhost:8080/"
        },
        "id": "d9vMfTZI69Na",
        "outputId": "166bb679-027b-4e9d-c460-9ce7a0f5e369"
      },
      "execution_count": null,
      "outputs": [
        {
          "output_type": "stream",
          "name": "stdout",
          "text": [
            "Enter number6\n",
            "720\n"
          ]
        }
      ]
    },
    {
      "cell_type": "code",
      "source": [
        "#84.Write a function that accepts a list of strings and performs Bag of words and convert it to numerical vectors.\n",
        " "
      ],
      "metadata": {
        "id": "N6qXbR4669Q7"
      },
      "execution_count": null,
      "outputs": []
    },
    {
      "cell_type": "code",
      "source": [
        "#86.Write a program that accepts neighbors(set of 2D co-ordinates) and a point(single 2D co-ordinate) and tells nearest neighbor(in terms of euclidean distance)\n",
        "\n",
        "\n"
      ],
      "metadata": {
        "id": "T5VTHGWkwdMJ"
      },
      "execution_count": null,
      "outputs": []
    },
    {
      "cell_type": "code",
      "source": [
        "#83.Write a function that accepts a string and returns the number of upper case chars and lower case chars as a dictionary\n",
        "\n",
        "a = input('Enter string:')\n",
        "D = {}\n",
        "upper_count = 0\n",
        "lower_count = 0\n",
        "\n",
        "for i in a:\n",
        "  if (i.isupper()):\n",
        "    upper_count = upper_count + 1\n",
        "  elif (i.islower()):\n",
        "    lower_count = lower_count + 1\n",
        "D = {'upper case':upper_count,'Lower case':lower_count}\n",
        "print(D)\n"
      ],
      "metadata": {
        "colab": {
          "base_uri": "https://localhost:8080/"
        },
        "id": "AT01wy8VwdQR",
        "outputId": "bbcd38c3-9d45-4d43-8192-3602cab29f67"
      },
      "execution_count": null,
      "outputs": [
        {
          "output_type": "stream",
          "name": "stdout",
          "text": [
            "Enter string:My Name is Sumit Gaikwad\n",
            "{'upper case': 4, 'Lower case': 16}\n"
          ]
        }
      ]
    },
    {
      "cell_type": "code",
      "source": [
        "#79.Assume a list with numbers from 1 to 10 and then convert it into a dictionary where the key would be the numbers of the list and the values would be the square of those numbers.\n",
        "\n",
        "L = [1,2,3,4,5,6,7,8,9]\n",
        "D = {}\n",
        "\n",
        "for i in L:\n",
        "  D[i] = i**2\n",
        "print(D)"
      ],
      "metadata": {
        "colab": {
          "base_uri": "https://localhost:8080/"
        },
        "id": "-o_Blv8IwdTN",
        "outputId": "0c7a2a27-f201-451f-e7c7-7c797f92f599"
      },
      "execution_count": null,
      "outputs": [
        {
          "output_type": "stream",
          "name": "stdout",
          "text": [
            "{1: 1, 2: 4, 3: 9, 4: 16, 5: 25, 6: 36, 7: 49, 8: 64, 9: 81}\n"
          ]
        }
      ]
    },
    {
      "cell_type": "code",
      "source": [
        "#80.Write a program to merge two given dictionary\n",
        "\n",
        "D1 = {'a':2,'b':3}\n",
        "D2 = {'c':4,'d':5}\n",
        "D = {}\n",
        "\n",
        "for i in D1:\n",
        "  D[i]=D1[i]\n",
        "for k in D2:\n",
        "  D[k] = D2[k]\n",
        "print(D)\n",
        "\n",
        "\n"
      ],
      "metadata": {
        "colab": {
          "base_uri": "https://localhost:8080/"
        },
        "id": "Jp6f1t1MwdV-",
        "outputId": "cd0aa789-0018-4eb0-b312-2383369b7e01"
      },
      "execution_count": null,
      "outputs": [
        {
          "output_type": "stream",
          "name": "stdout",
          "text": [
            "{'a': 2, 'b': 3, 'c': 4, 'd': 5}\n"
          ]
        }
      ]
    },
    {
      "cell_type": "code",
      "source": [
        "#Please ensure the platform IDE is in Python 3.x mode.\n",
        "#If you face any issue here, you may write the code on colab or jupyter. \n",
        "#Then, paste the code snippet here and run test cases.\n",
        "\n",
        "num = int(input())\n",
        "def palindrome(num):\n",
        "    if str (num[::-1]) == str (num[::]):\n",
        "        return \"ture\"\n",
        "    else:\n",
        "        return \"false\"\n",
        "print(palindrome(num))"
      ],
      "metadata": {
        "id": "CUkc7SxBwdYy",
        "colab": {
          "base_uri": "https://localhost:8080/",
          "height": 339
        },
        "outputId": "a8ba80e4-bba6-4858-cb18-071a03b7354f"
      },
      "execution_count": null,
      "outputs": [
        {
          "name": "stdout",
          "output_type": "stream",
          "text": [
            "112211\n"
          ]
        },
        {
          "output_type": "error",
          "ename": "TypeError",
          "evalue": "ignored",
          "traceback": [
            "\u001b[0;31m---------------------------------------------------------------------------\u001b[0m",
            "\u001b[0;31mTypeError\u001b[0m                                 Traceback (most recent call last)",
            "\u001b[0;32m<ipython-input-5-a694f3143e8b>\u001b[0m in \u001b[0;36m<module>\u001b[0;34m\u001b[0m\n\u001b[1;32m      9\u001b[0m     \u001b[0;32melse\u001b[0m\u001b[0;34m:\u001b[0m\u001b[0;34m\u001b[0m\u001b[0;34m\u001b[0m\u001b[0m\n\u001b[1;32m     10\u001b[0m         \u001b[0;32mreturn\u001b[0m \u001b[0;34m\"false\"\u001b[0m\u001b[0;34m\u001b[0m\u001b[0;34m\u001b[0m\u001b[0m\n\u001b[0;32m---> 11\u001b[0;31m \u001b[0mprint\u001b[0m\u001b[0;34m(\u001b[0m\u001b[0mpalindrome\u001b[0m\u001b[0;34m(\u001b[0m\u001b[0mnum\u001b[0m\u001b[0;34m)\u001b[0m\u001b[0;34m)\u001b[0m\u001b[0;34m\u001b[0m\u001b[0;34m\u001b[0m\u001b[0m\n\u001b[0m",
            "\u001b[0;32m<ipython-input-5-a694f3143e8b>\u001b[0m in \u001b[0;36mpalindrome\u001b[0;34m(num)\u001b[0m\n\u001b[1;32m      5\u001b[0m \u001b[0mnum\u001b[0m \u001b[0;34m=\u001b[0m \u001b[0mint\u001b[0m\u001b[0;34m(\u001b[0m\u001b[0minput\u001b[0m\u001b[0;34m(\u001b[0m\u001b[0;34m)\u001b[0m\u001b[0;34m)\u001b[0m\u001b[0;34m\u001b[0m\u001b[0;34m\u001b[0m\u001b[0m\n\u001b[1;32m      6\u001b[0m \u001b[0;32mdef\u001b[0m \u001b[0mpalindrome\u001b[0m\u001b[0;34m(\u001b[0m\u001b[0mnum\u001b[0m\u001b[0;34m)\u001b[0m\u001b[0;34m:\u001b[0m\u001b[0;34m\u001b[0m\u001b[0;34m\u001b[0m\u001b[0m\n\u001b[0;32m----> 7\u001b[0;31m     \u001b[0;32mif\u001b[0m \u001b[0mstr\u001b[0m \u001b[0;34m(\u001b[0m\u001b[0mnum\u001b[0m\u001b[0;34m[\u001b[0m\u001b[0;34m:\u001b[0m\u001b[0;34m:\u001b[0m\u001b[0;34m-\u001b[0m\u001b[0;36m1\u001b[0m\u001b[0;34m]\u001b[0m\u001b[0;34m)\u001b[0m \u001b[0;34m==\u001b[0m \u001b[0mstr\u001b[0m \u001b[0;34m(\u001b[0m\u001b[0mnum\u001b[0m\u001b[0;34m[\u001b[0m\u001b[0;34m:\u001b[0m\u001b[0;34m:\u001b[0m\u001b[0;34m]\u001b[0m\u001b[0;34m)\u001b[0m\u001b[0;34m:\u001b[0m\u001b[0;34m\u001b[0m\u001b[0;34m\u001b[0m\u001b[0m\n\u001b[0m\u001b[1;32m      8\u001b[0m         \u001b[0;32mreturn\u001b[0m \u001b[0;34m\"ture\"\u001b[0m\u001b[0;34m\u001b[0m\u001b[0;34m\u001b[0m\u001b[0m\n\u001b[1;32m      9\u001b[0m     \u001b[0;32melse\u001b[0m\u001b[0;34m:\u001b[0m\u001b[0;34m\u001b[0m\u001b[0;34m\u001b[0m\u001b[0m\n",
            "\u001b[0;31mTypeError\u001b[0m: 'int' object is not subscriptable"
          ]
        }
      ]
    },
    {
      "cell_type": "code",
      "source": [
        "def is_palindrome(num):\n",
        "    return str(num) == str(num)[::-1]\n",
        "\n",
        "# example usage\n",
        "print(is_palindrome(121)) # Output: True\n",
        "print(is_palindrome(123)) # Output: False\n"
      ],
      "metadata": {
        "id": "qUAMj-tUwdcZ",
        "colab": {
          "base_uri": "https://localhost:8080/"
        },
        "outputId": "497c7b27-2a12-4d3e-cb24-116698da4f83"
      },
      "execution_count": null,
      "outputs": [
        {
          "output_type": "stream",
          "name": "stdout",
          "text": [
            "True\n",
            "False\n"
          ]
        }
      ]
    },
    {
      "cell_type": "code",
      "source": [
        "#Sum of even and odd numbers\n",
        "#Easy\n",
        "#Write a program to input an integer N and print the sum of all its even digits and sum of all its odd digits separately.\n",
        "def sum_of_even_and_odd_digits(n):\n",
        "    even_sum = 0\n",
        "    odd_sum = 0\n",
        "    for digit in str(n):\n",
        "        digit = int(digit)\n",
        "        if digit % 2 == 0:\n",
        "            even_sum += digit\n",
        "        else:\n",
        "            odd_sum += digit\n",
        "    return even_sum, odd_sum\n",
        "\n",
        "# example usage\n",
        "print(sum_of_even_and_odd_digits(123456789)) \n"
      ],
      "metadata": {
        "id": "ZuDCkVRVyWQX",
        "colab": {
          "base_uri": "https://localhost:8080/"
        },
        "outputId": "66b08a19-da55-48b5-c361-9c21008133a8"
      },
      "execution_count": null,
      "outputs": [
        {
          "output_type": "stream",
          "name": "stdout",
          "text": [
            "(20, 25)\n"
          ]
        }
      ]
    },
    {
      "cell_type": "code",
      "source": [
        "if __name__ == '__main__':\n",
        "    a = int(input())\n",
        "    b = int(input())\n",
        "    a=4\n",
        "    b=3\n",
        "    print(a//b)\n",
        "    print(a/b)\n"
      ],
      "metadata": {
        "id": "czIqNHiHyWTU",
        "colab": {
          "base_uri": "https://localhost:8080/"
        },
        "outputId": "54161125-e7ba-48cc-a482-17c0af64286c"
      },
      "execution_count": null,
      "outputs": [
        {
          "output_type": "stream",
          "name": "stdout",
          "text": [
            "4\n",
            "3\n",
            "1\n",
            "1.3333333333333333\n"
          ]
        }
      ]
    },
    {
      "cell_type": "code",
      "source": [
        " a=4\n",
        " b=3\n",
        "print(a//b)\n",
        "print(a/b)\n"
      ],
      "metadata": {
        "id": "eM0__YWayWWp",
        "colab": {
          "base_uri": "https://localhost:8080/"
        },
        "outputId": "f3ddb6cb-a369-45ae-a619-a5c07f397ea1"
      },
      "execution_count": null,
      "outputs": [
        {
          "output_type": "stream",
          "name": "stdout",
          "text": [
            "1\n",
            "1.3333333333333333\n"
          ]
        }
      ]
    },
    {
      "cell_type": "code",
      "source": [
        "if __name__ == '__main__':\n",
        "    n = int(input())\n",
        "    if i in (n*2):\n",
        "      print(n)\n"
      ],
      "metadata": {
        "id": "N_9kIcdYyWaM",
        "colab": {
          "base_uri": "https://localhost:8080/",
          "height": 235
        },
        "outputId": "be185122-46d3-48f3-a4cb-c4a3b16994bf"
      },
      "execution_count": null,
      "outputs": [
        {
          "name": "stdout",
          "output_type": "stream",
          "text": [
            "5\n"
          ]
        },
        {
          "output_type": "error",
          "ename": "NameError",
          "evalue": "ignored",
          "traceback": [
            "\u001b[0;31m---------------------------------------------------------------------------\u001b[0m",
            "\u001b[0;31mNameError\u001b[0m                                 Traceback (most recent call last)",
            "\u001b[0;32m<ipython-input-21-13d35a882b67>\u001b[0m in \u001b[0;36m<module>\u001b[0;34m\u001b[0m\n\u001b[1;32m      1\u001b[0m \u001b[0;32mif\u001b[0m \u001b[0m__name__\u001b[0m \u001b[0;34m==\u001b[0m \u001b[0;34m'__main__'\u001b[0m\u001b[0;34m:\u001b[0m\u001b[0;34m\u001b[0m\u001b[0;34m\u001b[0m\u001b[0m\n\u001b[1;32m      2\u001b[0m     \u001b[0mn\u001b[0m \u001b[0;34m=\u001b[0m \u001b[0mint\u001b[0m\u001b[0;34m(\u001b[0m\u001b[0minput\u001b[0m\u001b[0;34m(\u001b[0m\u001b[0;34m)\u001b[0m\u001b[0;34m)\u001b[0m\u001b[0;34m\u001b[0m\u001b[0;34m\u001b[0m\u001b[0m\n\u001b[0;32m----> 3\u001b[0;31m     \u001b[0;32mif\u001b[0m \u001b[0mi\u001b[0m \u001b[0;32min\u001b[0m \u001b[0;34m(\u001b[0m\u001b[0mn\u001b[0m\u001b[0;34m*\u001b[0m\u001b[0;36m2\u001b[0m\u001b[0;34m)\u001b[0m\u001b[0;34m:\u001b[0m\u001b[0;34m\u001b[0m\u001b[0;34m\u001b[0m\u001b[0m\n\u001b[0m\u001b[1;32m      4\u001b[0m       \u001b[0mprint\u001b[0m\u001b[0;34m(\u001b[0m\u001b[0mn\u001b[0m\u001b[0;34m)\u001b[0m\u001b[0;34m\u001b[0m\u001b[0;34m\u001b[0m\u001b[0m\n",
            "\u001b[0;31mNameError\u001b[0m: name 'i' is not defined"
          ]
        }
      ]
    },
    {
      "cell_type": "code",
      "source": [
        "A=input()\n",
        "def rev_str(A):\n",
        "  return A[::-1].lower()\n",
        "print(rev_str(A))"
      ],
      "metadata": {
        "id": "vTuMwNcNyWdZ",
        "colab": {
          "base_uri": "https://localhost:8080/"
        },
        "outputId": "657ff6c0-1bc0-4a11-c97e-39cd8df9adf1"
      },
      "execution_count": null,
      "outputs": [
        {
          "output_type": "stream",
          "name": "stdout",
          "text": [
            "Sumit\n",
            "timus\n"
          ]
        }
      ]
    },
    {
      "cell_type": "code",
      "source": [
        "A = input()\n",
        "def removesapce(A):\n",
        "  return (A.replace(\" \",\"\"))\n",
        "print(removespace(A))"
      ],
      "metadata": {
        "id": "DbLIkjHbHetT"
      },
      "execution_count": null,
      "outputs": []
    },
    {
      "cell_type": "markdown",
      "source": [
        "***partice question almax***"
      ],
      "metadata": {
        "id": "n-x5Fj1vrLfo"
      }
    },
    {
      "cell_type": "code",
      "source": [],
      "metadata": {
        "id": "Zj0NFWnirK8R"
      },
      "execution_count": null,
      "outputs": []
    },
    {
      "cell_type": "markdown",
      "source": [
        "Perfect Number\n",
        "Easy\n",
        "Write a python program to check a given number is perfect or not.\n",
        "\n",
        "Note: A perfect number is a positive integer that is equal to the sum of its positive divisors, excluding the number itself.\n",
        "\n",
        "Lets understand it with example\n",
        "\n",
        "6 is a positive number and its divisor is 1,2,3 and 6 itself.\n",
        "\n",
        "But we should not include 6 as by the definition of perfect number.\n",
        "\n",
        "Lets add its divisor excluding itself\n",
        "\n",
        "1+2+3 = 6 which is equal to number itself.\n",
        "\n",
        "It means 6 is a Perfect Number."
      ],
      "metadata": {
        "id": "gdo-njhN7qGn"
      }
    },
    {
      "cell_type": "code",
      "source": [
        "#Please ensure the platform IDE is in Python 3.x mode.\n",
        "#If you face any issue here, you may write the code on colab or jupyter. \n",
        "#Then, paste the code snippet here and run test cases.\n",
        "\n",
        "num = int(input())\n",
        "sum=0\n",
        "for i in range(1,(num//2)+1):\n",
        "    remainder = num % i\n",
        "    if remainder == 0:\n",
        "        sum = sum + i\n",
        "if sum == num:\n",
        "    print(\"It is Perfect Number\")\n",
        "else:\n",
        "    print(\"It is not Perfect Number\")\n",
        "    "
      ],
      "metadata": {
        "id": "w9zxyuP7YEWB"
      },
      "execution_count": null,
      "outputs": []
    },
    {
      "cell_type": "markdown",
      "source": [
        "Swap two numbers\n",
        "Easy\n",
        "Write a Python program to swap two number without using third variable."
      ],
      "metadata": {
        "id": "_1a6vLsk8EJy"
      }
    },
    {
      "cell_type": "code",
      "source": [
        "a=int(input())\n",
        "b=int(input())\n",
        "print(\"value of a is : \", a)\n",
        "print(\"value of b is : \", b)\n",
        "a=a-b\n",
        "b=a+b\n",
        "a=b-a\n",
        "print(\"After swapping\")\n",
        "print(\"value of a is : \", a)\n",
        "print(\"value of b is : \", b)"
      ],
      "metadata": {
        "id": "ktZoH_KC8EnZ"
      },
      "execution_count": null,
      "outputs": []
    },
    {
      "cell_type": "markdown",
      "source": [
        "Write a Python program to check whether a String is Palindrome or not?\n",
        "\n"
      ],
      "metadata": {
        "id": "gOouUqX98ojB"
      }
    },
    {
      "cell_type": "code",
      "source": [
        "string=input()\n",
        "if(string == string[:: - 1]):\n",
        "   print(\"String is a Palindrome\")\n",
        "else:\n",
        "   print(\"String is not a Palindrome\")\n",
        "   \n",
        "   "
      ],
      "metadata": {
        "id": "x43y10ML8kFH"
      },
      "execution_count": null,
      "outputs": []
    },
    {
      "cell_type": "markdown",
      "source": [
        "Remove char. from string\n",
        "Easy\n",
        "Write a python program to remove a given character from string.\n",
        "\n",
        "For Example:\n",
        "\n",
        "Input String: Quescol\n",
        "\n",
        "Input Character : e\n",
        "\n",
        "Output: Quscol (After removing ‘e’)"
      ],
      "metadata": {
        "id": "el96uTyx80mS"
      }
    },
    {
      "cell_type": "code",
      "source": [
        "str = input()\n",
        "strl=str.lower()\n",
        "ch = input()\n",
        "chl=ch.lower()\n",
        "print(strl.replace(chl,\" \"))"
      ],
      "metadata": {
        "id": "9nKZPhjY81KQ"
      },
      "execution_count": null,
      "outputs": []
    },
    {
      "cell_type": "markdown",
      "source": [
        "Find last position of substring\n",
        "Easy\n",
        "Write a python program to find the last position of a given substring."
      ],
      "metadata": {
        "id": "hSwsk6g59QOi"
      }
    },
    {
      "cell_type": "code",
      "source": [
        "str1 = input()\n",
        "substr=input()\n",
        "index = str1.rfind(substr)\n",
        "print(\"Last occurrence of\", substr, \"starts at index\", index)"
      ],
      "metadata": {
        "id": "1CHUiU8r9Qr7"
      },
      "execution_count": null,
      "outputs": []
    },
    {
      "cell_type": "markdown",
      "source": [
        "Left triangle alphabet pattern-1\n",
        "Easy\n",
        "Write a program in python to print the following pattern for the given N number of rows.\n",
        "\n",
        "The left alphabet triangle pattern is a triangle pattern that is made of alphabets and has perpendicular on its left side."
      ],
      "metadata": {
        "id": "GX3wd9p1rDzg"
      }
    },
    {
      "cell_type": "code",
      "source": [
        "n = int(input(\"Enter the number of rows: \"))\n",
        "\n",
        "for i in range(1, n+1):\n",
        "    # print alphabets starting from 'A' for each row\n",
        "    for j in range(i):\n",
        "        print(chr(65+j), end=\"\")\n",
        "    print()\n"
      ],
      "metadata": {
        "id": "6yETrlaOrEYN"
      },
      "execution_count": null,
      "outputs": []
    },
    {
      "cell_type": "markdown",
      "source": [
        "Left triangle number pattern-2\n",
        "Easy\n",
        "Write a program in python to print the following pattern for the given N number of rows.\n",
        "\n",
        "The left number triangle pattern is a triangle pattern that is made of numbers and has perpendicular on its left side."
      ],
      "metadata": {
        "id": "E-9W_ykRsrwx"
      }
    },
    {
      "cell_type": "code",
      "source": [
        "n = int(input(\"Enter the number of rows: \"))\n",
        "\n",
        "for i in range(1, n+1):\n",
        "    # print numbers starting from 1 for each row\n",
        "    for j in range(i):\n",
        "        print(j+1, end=\"\")\n",
        "    print()\n"
      ],
      "metadata": {
        "colab": {
          "base_uri": "https://localhost:8080/"
        },
        "id": "zn7PwUfdssNt",
        "outputId": "0c32b178-6da3-4383-eef7-05932805fb33"
      },
      "execution_count": null,
      "outputs": [
        {
          "output_type": "stream",
          "name": "stdout",
          "text": [
            "Enter the number of rows: 4\n",
            "1\n",
            "12\n",
            "123\n",
            "1234\n"
          ]
        }
      ]
    },
    {
      "cell_type": "markdown",
      "source": [
        "Square alphabet pattern-2\n",
        "Medium\n",
        "Write a program in python to print the following pattern for the given N number of rows.\n",
        "\n",
        "The square alphabet pattern is the easiest pattern program. It is a pattern that has the shape of a square made of alphabets. Since it is a square, it is very easy to create and print."
      ],
      "metadata": {
        "id": "ufK4kjXqtPu4"
      }
    },
    {
      "cell_type": "code",
      "source": [
        "n = int(input(\"Enter the number of rows: \"))\n",
        "\n",
        "for i in range(n):\n",
        "    # print alphabets for each row\n",
        "    for j in range(n):\n",
        "        print(chr(65+i+j), end=\"\")\n",
        "    print()\n"
      ],
      "metadata": {
        "colab": {
          "base_uri": "https://localhost:8080/"
        },
        "id": "b8cIhy32tQTG",
        "outputId": "da8944f4-84b1-4f79-f2ad-e77e5c3a41b4"
      },
      "execution_count": null,
      "outputs": [
        {
          "output_type": "stream",
          "name": "stdout",
          "text": [
            "Enter the number of rows: 4\n",
            "ABCD\n",
            "BCDE\n",
            "CDEF\n",
            "DEFG\n"
          ]
        }
      ]
    },
    {
      "cell_type": "markdown",
      "source": [
        "Left downward triangle number pattern-2\n",
        "Medium\n",
        "Write a program in python to print the following pattern for the given N number of rows.\n",
        "\n",
        "The left downward triangle pattern is the pattern of a triangle upside down. It is also sometimes known as inverted number pattern."
      ],
      "metadata": {
        "id": "tFglOLCavxKN"
      }
    },
    {
      "cell_type": "code",
      "source": [
        "n = int(input(\"Enter the number of rows: \"))\n",
        "\n",
        "for i in range(n, 0, -1):\n",
        "    # print numbers for each row\n",
        "    for j in range(i):\n",
        "        print(i, end=\"\")\n",
        "    print()\n"
      ],
      "metadata": {
        "colab": {
          "base_uri": "https://localhost:8080/"
        },
        "id": "6gz8VC0Ktfr0",
        "outputId": "4d8bf78d-88ce-4c2b-e9ee-ab2a974aa347"
      },
      "execution_count": null,
      "outputs": [
        {
          "output_type": "stream",
          "name": "stdout",
          "text": [
            "Enter the number of rows: 4\n",
            "4444\n",
            "333\n",
            "22\n",
            "1\n"
          ]
        }
      ]
    },
    {
      "cell_type": "markdown",
      "source": [
        "Right triangle number pattern-2\n",
        "Hard\n",
        "Write a program in python to print the following pattern for the given N number of rows."
      ],
      "metadata": {
        "id": "o6VC5mBhwKHx"
      }
    },
    {
      "cell_type": "code",
      "source": [
        "n = int(input(\"Enter the number of rows: \"))\n",
        "\n",
        "for i in range(1, n+1):\n",
        "    # print spaces\n",
        "    for j in range(n-i):\n",
        "        print(\" \", end=\"\")\n",
        "    # print numbers\n",
        "    for j in range(i):\n",
        "        print(i-j, end=\"\")\n",
        "    print()\n"
      ],
      "metadata": {
        "colab": {
          "base_uri": "https://localhost:8080/"
        },
        "id": "kzMs7jM4u1nA",
        "outputId": "02a9c62a-2ea0-4fbd-ddeb-9079476b2bf2"
      },
      "execution_count": null,
      "outputs": [
        {
          "output_type": "stream",
          "name": "stdout",
          "text": [
            "Enter the number of rows: 4\n",
            "   1\n",
            "  21\n",
            " 321\n",
            "4321\n"
          ]
        }
      ]
    },
    {
      "cell_type": "markdown",
      "source": [
        "Left downward triangle binary pattern\n",
        "Medium\n",
        "Write a program in python to print the following pattern for the given N number of rows."
      ],
      "metadata": {
        "id": "_EhXU-j6XIy4"
      }
    },
    {
      "cell_type": "code",
      "source": [
        "n = int(input())\n",
        "\n",
        "def print_pattern(n):\n",
        "    for i in range(n, 0, -1):\n",
        "        for j in range(i):\n",
        "            if j % 2 == 0:\n",
        "                print(\"1\", end=\"\")\n",
        "            else:\n",
        "                print(\"0\", end=\"\")\n",
        "        print(print_pattern(n))\n"
      ],
      "metadata": {
        "id": "1uGJ-N_ywUrl",
        "colab": {
          "base_uri": "https://localhost:8080/"
        },
        "outputId": "90a3b48b-fb11-4743-8fca-7325284c8e76"
      },
      "execution_count": null,
      "outputs": [
        {
          "name": "stdout",
          "output_type": "stream",
          "text": [
            "5\n"
          ]
        }
      ]
    },
    {
      "cell_type": "code",
      "source": [
        "n = int(input())\n",
        "def print_pattetn(n):\n",
        "  for i in range(n, 0, -1):\n",
        "    for j in range(i):\n",
        "      if j%2 == 0:\n",
        "        print(\"1\",end = \"\")\n",
        "      else:\n",
        "        print(\"0\",end = \"\")\n",
        "      print()"
      ],
      "metadata": {
        "colab": {
          "base_uri": "https://localhost:8080/"
        },
        "id": "t80Mq_I4XV5J",
        "outputId": "9ef8afa5-740f-48d8-f832-be0d60260801"
      },
      "execution_count": null,
      "outputs": [
        {
          "name": "stdout",
          "output_type": "stream",
          "text": [
            "5\n"
          ]
        }
      ]
    },
    {
      "cell_type": "code",
      "source": [
        "def left_downward_triangle_binary_pattern(n):\n",
        "    # Loop through each row from 1 to n\n",
        "    for i in range(1, n+1):\n",
        "        # Loop through each column from 1 to i\n",
        "        for j in range(1, i+1):\n",
        "            # Print 1 if the sum of i and j is odd, else print 0\n",
        "            if (i + j) % 2 == 0:\n",
        "                print(\"0\", end=\"\")\n",
        "            else:\n",
        "                print(\"1\", end=\"\")\n",
        "        # Move to the next line\n",
        "        print()\n",
        "\n",
        "# Testing the function with n=5\n",
        "left_downward_triangle_binary_pattern(5)"
      ],
      "metadata": {
        "colab": {
          "base_uri": "https://localhost:8080/"
        },
        "id": "tofRWk1eYzX2",
        "outputId": "db748d9c-5223-4c98-a7de-f5dfa35e773d"
      },
      "execution_count": null,
      "outputs": [
        {
          "output_type": "stream",
          "name": "stdout",
          "text": [
            "0\n",
            "10\n",
            "010\n",
            "1010\n",
            "01010\n"
          ]
        }
      ]
    },
    {
      "cell_type": "code",
      "source": [
        "n = int(input())\n",
        "def left_downward_triangle_binary_pattern(n):\n",
        "    for i in range(1, n+1):\n",
        "\n",
        "        for j in range(1, i+1):\n",
        "            \n",
        "            if (i + j) % 2 == 0:\n",
        "                print(\"0\",i, end=\"\")\n",
        "            else:\n",
        "                print(\"1\",j, end=\"\")\n",
        "        \n",
        "        print()\n",
        "\n",
        "left_downward_triangle_binary_pattern(5)"
      ],
      "metadata": {
        "colab": {
          "base_uri": "https://localhost:8080/"
        },
        "id": "nXUoNGr8ZSLi",
        "outputId": "2e5d43d9-de49-4df2-aa1f-382ee7cd03df"
      },
      "execution_count": null,
      "outputs": [
        {
          "output_type": "stream",
          "name": "stdout",
          "text": [
            "5\n",
            "0 1\n",
            "1 10 2\n",
            "0 31 20 3\n",
            "1 10 41 30 4\n",
            "0 51 20 51 40 5\n"
          ]
        }
      ]
    },
    {
      "cell_type": "code",
      "source": [
        "def print_pattern(n):\n",
        "    for i in range(n, 0, -1):\n",
        "        for j in range(i):\n",
        "            if i % 2 == 1:\n",
        "                print(\"1\", end=\"\")\n",
        "            else:\n",
        "                print(\"0\", end=\"\")\n",
        "        print()\n"
      ],
      "metadata": {
        "id": "78spCaRCbdUJ"
      },
      "execution_count": null,
      "outputs": []
    },
    {
      "cell_type": "code",
      "source": [
        "for i in range(5):\n",
        "    if i%2 == 0:\n",
        "        print(\"1\" * (5-i))\n",
        "    else:\n",
        "        print(\"0\" * (i+1))"
      ],
      "metadata": {
        "colab": {
          "base_uri": "https://localhost:8080/"
        },
        "id": "EmH8WE5ccsJs",
        "outputId": "d63db97a-a35c-4c1f-a94a-4e2b7b9f5f1a"
      },
      "execution_count": null,
      "outputs": [
        {
          "output_type": "stream",
          "name": "stdout",
          "text": [
            "11111\n",
            "00\n",
            "111\n",
            "0000\n",
            "1\n"
          ]
        }
      ]
    },
    {
      "cell_type": "markdown",
      "source": [
        "Hollow right pascal number pattern\n",
        "Hard\n",
        "Write a program in python to print the following pattern for the given N number of rows."
      ],
      "metadata": {
        "id": "UiYMLBT9ebnm"
      }
    },
    {
      "cell_type": "code",
      "source": [
        "n = 5\n",
        "for i in range(n):\n",
        "    print(\" \" * (i*2) + \"\".join(str(j+1) for j in range(n-i)))\n",
        "for i in range(n-2, -1, -1):\n",
        "    print(\" \" * (i*2) + \"\".join(str(j+1) for j in range(n-i)))"
      ],
      "metadata": {
        "colab": {
          "base_uri": "https://localhost:8080/"
        },
        "id": "EBfdWc3ndRqA",
        "outputId": "77d0efe0-0871-415c-858d-bec56b36476d"
      },
      "execution_count": null,
      "outputs": [
        {
          "output_type": "stream",
          "name": "stdout",
          "text": [
            "12345\n",
            "  1234\n",
            "    123\n",
            "      12\n",
            "        1\n",
            "      12\n",
            "    123\n",
            "  1234\n",
            "12345\n"
          ]
        }
      ]
    },
    {
      "cell_type": "markdown",
      "source": [
        "Unique number pattern\n",
        "Hard\n",
        "Write a program in python to print the following pattern for the given N number of rows."
      ],
      "metadata": {
        "id": "Baxw4twzfI6i"
      }
    },
    {
      "cell_type": "code",
      "source": [
        "# Define a function to print a row of numbers in the specified range\n",
        "def print_row(start, end):\n",
        "    for i in range(start, end+1):\n",
        "        print(i, end=\" \")\n",
        "    print()\n",
        "\n",
        "# Define the main function\n",
        "def main():\n",
        "    # Print the first row\n",
        "    print_row(1, 5)\n",
        "\n",
        "    # Print the second to fourth rows\n",
        "    for i in range(1, 4):\n",
        "        print_row(10*i+1, 10*i+5)\n",
        "\n",
        "    # Print the fifth row\n",
        "    print_row(16, 20)\n",
        "\n",
        "# Call the main function\n",
        "main()"
      ],
      "metadata": {
        "colab": {
          "base_uri": "https://localhost:8080/"
        },
        "id": "QXp0qz8RenLV",
        "outputId": "15d50a98-6a54-4e93-e1b9-dad597a2f499"
      },
      "execution_count": null,
      "outputs": [
        {
          "output_type": "stream",
          "name": "stdout",
          "text": [
            "1 2 3 4 5 \n",
            "11 12 13 14 15 \n",
            "21 22 23 24 25 \n",
            "31 32 33 34 35 \n",
            "16 17 18 19 20 \n"
          ]
        }
      ]
    },
    {
      "cell_type": "code",
      "source": [
        "\n",
        "def print_pattern(n):\n",
        "    # initialize the starting value\n",
        "    start = 1\n",
        "    \n",
        "    # loop through each row\n",
        "    for i in range(n):\n",
        "        # loop through each column in the row\n",
        "        for j in range(n):\n",
        "            # if we are in the first row or column, print the current start value and increment it\n",
        "            if i == 0 or j == 0:\n",
        "                print(start, end=\" \")\n",
        "                start += 1\n",
        "            # if we are in the last row or column, print the current start value and increment it\n",
        "            elif i == n-1 or j == n-1:\n",
        "                print(start, end=\" \")\n",
        "                start += 1\n",
        "            # otherwise, print a value based on the current row and column\n",
        "            else:\n",
        "                # calculate the value based on the current row and column\n",
        "                value = (n-1)*i + j + 1 - (2*i)\n",
        "                print(value, end=\" \")\n",
        "        \n",
        "        # print a newline character at the end of each row\n",
        "        print()\n"
      ],
      "metadata": {
        "colab": {
          "base_uri": "https://localhost:8080/"
        },
        "id": "AOTntg1HfO4I",
        "outputId": "11fcf0f5-6ef1-4f41-b311-7c7a77c4149d"
      },
      "execution_count": null,
      "outputs": [
        {
          "name": "stdout",
          "output_type": "stream",
          "text": [
            "5\n"
          ]
        }
      ]
    },
    {
      "cell_type": "markdown",
      "source": [
        "Hollow pyramid star pattern\n",
        "Hard\n",
        "Write a program in python to print the following pattern for the given N number of rows.\n",
        "\n",
        "The hollow pyramid pattern is a pyramid pattern made of stars but hollow."
      ],
      "metadata": {
        "id": "PTK8pwYngMBO"
      }
    },
    {
      "cell_type": "code",
      "source": [
        "# hollow pyramid star pattern\n",
        "n = 5\n",
        "for i in range(1, n+1):\n",
        "    # printing spaces\n",
        "    for j in range(n - i):\n",
        "        print(' ', end='')\n",
        "\n",
        "    # printing stars\n",
        "    for k in range(2 * i - 1):\n",
        "        # print star at start and end of the row\n",
        "        if k == 0 or k == 2 * i - 2:\n",
        "            print('*', end='')\n",
        "        else:\n",
        "            if i == n:\n",
        "                print('*', end='')\n",
        "            else:\n",
        "                print(' ', end='')\n",
        "    print()"
      ],
      "metadata": {
        "colab": {
          "base_uri": "https://localhost:8080/"
        },
        "id": "9uoXNkjRjpYJ",
        "outputId": "0576960c-3f9c-461a-90b5-8a52eb2931db"
      },
      "execution_count": null,
      "outputs": [
        {
          "output_type": "stream",
          "name": "stdout",
          "text": [
            "    *\n",
            "   * *\n",
            "  *   *\n",
            " *     *\n",
            "*********\n"
          ]
        }
      ]
    },
    {
      "cell_type": "code",
      "source": [
        "n =5\n",
        "def print_pattern(n):\n",
        "    # loop through each row of the pattern\n",
        "    for i in range(n):\n",
        "        # print spaces before the first star\n",
        "        for j in range(n-i-1):\n",
        "            print(\" \", end=\"\")\n",
        "        \n",
        "        # print the first star\n",
        "        print(\"*\", end=\"\")\n",
        "        \n",
        "        # print spaces between the first and last stars\n",
        "        for j in range(2*i-1):\n",
        "            print(\" \", end=\"\")\n",
        "        \n",
        "        # print the last star if we are not on the first or last row\n",
        "        if i != 0 and i != n-1:\n",
        "            print(\"*\", end=\"\")\n",
        "        \n",
        "        # print spaces after the last star\n",
        "        for j in range(n-i-1):\n",
        "            print(\" \", end=\"\")\n",
        "        \n",
        "        # print a newline character at the end of each row\n",
        "        print()\n"
      ],
      "metadata": {
        "id": "QuUj-0NwfXuD"
      },
      "execution_count": null,
      "outputs": []
    },
    {
      "cell_type": "code",
      "source": [
        "# hollow pyramid star pattern\n",
        "n = 5\n",
        "for i in range(1, n+1):\n",
        "    # printing spaces\n",
        "    for j in range(n - i):\n",
        "        print(' ', end='')\n",
        "\n",
        "    # printing stars\n",
        "    for k in range(2 * i - 1):\n",
        "        # print star at start and end of the row\n",
        "        if k == 0 or k == 2 * i - 2:\n",
        "            print('*', end='')\n",
        "        else:\n",
        "            if i == n:\n",
        "                print('*', end='')\n",
        "            else:\n",
        "                print(' ', end='')\n",
        "    print()"
      ],
      "metadata": {
        "colab": {
          "base_uri": "https://localhost:8080/"
        },
        "id": "FamEwbEGjVCL",
        "outputId": "7d4e63cd-48a0-40ed-bde8-e57136ca0fcf"
      },
      "execution_count": null,
      "outputs": [
        {
          "output_type": "stream",
          "name": "stdout",
          "text": [
            "    *\n",
            "   * *\n",
            "  *   *\n",
            " *     *\n",
            "*********\n"
          ]
        }
      ]
    },
    {
      "cell_type": "code",
      "source": [
        "\n",
        "\n",
        "row = int(input(''))\n",
        "\n",
        "for i in range(row):\n",
        "    for j in range(row-i):\n",
        "        print(' ', end='')\n",
        "    \n",
        "    for j in range(2*i+1):\n",
        "        if j==0 or j==2*i or i==row-1:\n",
        "            print('*',end='')\n",
        "        else:\n",
        "            print(' ', end='')\n",
        "    print()"
      ],
      "metadata": {
        "colab": {
          "base_uri": "https://localhost:8080/"
        },
        "id": "ZjxYDZhshw2P",
        "outputId": "e14641b6-f7a7-45c9-dbab-8b147f993d36"
      },
      "execution_count": null,
      "outputs": [
        {
          "output_type": "stream",
          "name": "stdout",
          "text": [
            "5\n",
            "     *\n",
            "    * *\n",
            "   *   *\n",
            "  *     *\n",
            " *********\n"
          ]
        }
      ]
    },
    {
      "cell_type": "code",
      "source": [
        "# Generating Hollow Pyramid Pattern Using Stars\n",
        "\n",
        "row = int(input('Enter number of rows required: '))\n",
        "\n",
        "for i in range(row):\n",
        "    for j in range(row-i):\n",
        "        print(' ', end='') # printing space required and staying in same line\n",
        "    \n",
        "    for j in range(2*i+1):\n",
        "        if j==0 or j==2*i or i==row-1:\n",
        "            print('*',end='')\n",
        "        else:\n",
        "            print(' ', end='')\n",
        "    print() # printing new line"
      ],
      "metadata": {
        "colab": {
          "base_uri": "https://localhost:8080/"
        },
        "id": "1iVQPerfhpDa",
        "outputId": "e5cde95d-3659-4b38-9357-958c26f26064"
      },
      "execution_count": null,
      "outputs": [
        {
          "output_type": "stream",
          "name": "stdout",
          "text": [
            "Enter number of rows required: 5\n",
            "     *\n",
            "    * *\n",
            "   *   *\n",
            "  *     *\n",
            " *********\n"
          ]
        }
      ]
    },
    {
      "cell_type": "code",
      "source": [
        "def print_hollow_pyramid(N):\n",
        "    # Print the first row\n",
        "\n",
        "    # Print the middle rows\n",
        "    for i in range(2, N):\n",
        "        print(\" \"(N-i) + \"\" + \" \"(2*i-3) + \"\")\n",
        "\n",
        "    # Print the last row\n",
        "    if N > 1:\n",
        "        print(\"\"(2*N-1))\n",
        "\n",
        "# Test the function with some example inputs\n",
        "print_hollow_pyramid(5)"
      ],
      "metadata": {
        "colab": {
          "base_uri": "https://localhost:8080/",
          "height": 529
        },
        "id": "ordtKV7ggyqS",
        "outputId": "f0b6b869-c2b3-46dd-f7a3-dd71590c69f8"
      },
      "execution_count": null,
      "outputs": [
        {
          "output_type": "stream",
          "name": "stderr",
          "text": [
            "<>:6: SyntaxWarning: 'str' object is not callable; perhaps you missed a comma?\n",
            "<>:6: SyntaxWarning: 'str' object is not callable; perhaps you missed a comma?\n",
            "<>:10: SyntaxWarning: 'str' object is not callable; perhaps you missed a comma?\n",
            "<>:6: SyntaxWarning: 'str' object is not callable; perhaps you missed a comma?\n",
            "<>:6: SyntaxWarning: 'str' object is not callable; perhaps you missed a comma?\n",
            "<>:10: SyntaxWarning: 'str' object is not callable; perhaps you missed a comma?\n",
            "<ipython-input-34-10b1e24a9e3e>:6: SyntaxWarning: 'str' object is not callable; perhaps you missed a comma?\n",
            "  print(\" \"(N-i) + \"\" + \" \"(2*i-3) + \"\")\n",
            "<ipython-input-34-10b1e24a9e3e>:6: SyntaxWarning: 'str' object is not callable; perhaps you missed a comma?\n",
            "  print(\" \"(N-i) + \"\" + \" \"(2*i-3) + \"\")\n",
            "<ipython-input-34-10b1e24a9e3e>:10: SyntaxWarning: 'str' object is not callable; perhaps you missed a comma?\n",
            "  print(\"\"(2*N-1))\n"
          ]
        },
        {
          "output_type": "error",
          "ename": "TypeError",
          "evalue": "ignored",
          "traceback": [
            "\u001b[0;31m---------------------------------------------------------------------------\u001b[0m",
            "\u001b[0;31mTypeError\u001b[0m                                 Traceback (most recent call last)",
            "\u001b[0;32m<ipython-input-34-10b1e24a9e3e>\u001b[0m in \u001b[0;36m<module>\u001b[0;34m\u001b[0m\n\u001b[1;32m     11\u001b[0m \u001b[0;34m\u001b[0m\u001b[0m\n\u001b[1;32m     12\u001b[0m \u001b[0;31m# Test the function with some example inputs\u001b[0m\u001b[0;34m\u001b[0m\u001b[0;34m\u001b[0m\u001b[0;34m\u001b[0m\u001b[0m\n\u001b[0;32m---> 13\u001b[0;31m \u001b[0mprint_hollow_pyramid\u001b[0m\u001b[0;34m(\u001b[0m\u001b[0;36m5\u001b[0m\u001b[0;34m)\u001b[0m\u001b[0;34m\u001b[0m\u001b[0;34m\u001b[0m\u001b[0m\n\u001b[0m",
            "\u001b[0;32m<ipython-input-34-10b1e24a9e3e>\u001b[0m in \u001b[0;36mprint_hollow_pyramid\u001b[0;34m(N)\u001b[0m\n\u001b[1;32m      4\u001b[0m     \u001b[0;31m# Print the middle rows\u001b[0m\u001b[0;34m\u001b[0m\u001b[0;34m\u001b[0m\u001b[0;34m\u001b[0m\u001b[0m\n\u001b[1;32m      5\u001b[0m     \u001b[0;32mfor\u001b[0m \u001b[0mi\u001b[0m \u001b[0;32min\u001b[0m \u001b[0mrange\u001b[0m\u001b[0;34m(\u001b[0m\u001b[0;36m2\u001b[0m\u001b[0;34m,\u001b[0m \u001b[0mN\u001b[0m\u001b[0;34m)\u001b[0m\u001b[0;34m:\u001b[0m\u001b[0;34m\u001b[0m\u001b[0;34m\u001b[0m\u001b[0m\n\u001b[0;32m----> 6\u001b[0;31m         \u001b[0mprint\u001b[0m\u001b[0;34m(\u001b[0m\u001b[0;34m\" \"\u001b[0m\u001b[0;34m(\u001b[0m\u001b[0mN\u001b[0m\u001b[0;34m-\u001b[0m\u001b[0mi\u001b[0m\u001b[0;34m)\u001b[0m \u001b[0;34m+\u001b[0m \u001b[0;34m\"\"\u001b[0m \u001b[0;34m+\u001b[0m \u001b[0;34m\" \"\u001b[0m\u001b[0;34m(\u001b[0m\u001b[0;36m2\u001b[0m\u001b[0;34m*\u001b[0m\u001b[0mi\u001b[0m\u001b[0;34m-\u001b[0m\u001b[0;36m3\u001b[0m\u001b[0;34m)\u001b[0m \u001b[0;34m+\u001b[0m \u001b[0;34m\"\"\u001b[0m\u001b[0;34m)\u001b[0m\u001b[0;34m\u001b[0m\u001b[0;34m\u001b[0m\u001b[0m\n\u001b[0m\u001b[1;32m      7\u001b[0m \u001b[0;34m\u001b[0m\u001b[0m\n\u001b[1;32m      8\u001b[0m     \u001b[0;31m# Print the last row\u001b[0m\u001b[0;34m\u001b[0m\u001b[0;34m\u001b[0m\u001b[0;34m\u001b[0m\u001b[0m\n",
            "\u001b[0;31mTypeError\u001b[0m: 'str' object is not callable"
          ]
        }
      ]
    },
    {
      "cell_type": "markdown",
      "source": [
        "Left Pascal star pattern\n",
        "Hard\n",
        "Write a program in python to print the following pattern for the given N number of rows."
      ],
      "metadata": {
        "id": "I6FWOKVZkpoq"
      }
    },
    {
      "cell_type": "code",
      "source": [
        "n = int(input(\"Enter the number of rows: \"))\n",
        "\n",
        "for i in range(1, n+1):\n",
        "    print(\"*\" * i)\n",
        "\n",
        "for i in range(n-1, 0, -1):\n",
        "    print(\"*\" * i)"
      ],
      "metadata": {
        "colab": {
          "base_uri": "https://localhost:8080/"
        },
        "id": "w--_x_J6kvn9",
        "outputId": "5b363bba-262e-4957-b216-6369d88b7d95"
      },
      "execution_count": null,
      "outputs": [
        {
          "output_type": "stream",
          "name": "stdout",
          "text": [
            "Enter the number of rows: 5\n",
            "*\n",
            "**\n",
            "***\n",
            "****\n",
            "*****\n",
            "****\n",
            "***\n",
            "**\n",
            "*\n"
          ]
        }
      ]
    },
    {
      "cell_type": "code",
      "source": [
        "# left pascal triangle\n",
        "n = 5\n",
        "\n",
        "# upper triangle\n",
        "for i in range(n):\n",
        "    # print spaces\n",
        "    for j in range(n - i - 1):\n",
        "        print(' ', end='')\n",
        "    # print stars\n",
        "    for k in range(i + 1):\n",
        "        print('*', end='')\n",
        "    print()\n",
        "\n",
        "# lower triangle\n",
        "for i in range(n - 1):\n",
        "    # print spaces\n",
        "    for j in range(i + 1):\n",
        "        print(' ', end='')\n",
        "    # print stars\n",
        "    for k in range(n - i - 1):\n",
        "        print('*', end='')\n",
        "    print()"
      ],
      "metadata": {
        "colab": {
          "base_uri": "https://localhost:8080/"
        },
        "id": "pNcYWQ1IhETA",
        "outputId": "9f48efc7-07be-44cf-c86c-6dfc19eab339"
      },
      "execution_count": null,
      "outputs": [
        {
          "output_type": "stream",
          "name": "stdout",
          "text": [
            "    *\n",
            "   **\n",
            "  ***\n",
            " ****\n",
            "*****\n",
            " ****\n",
            "  ***\n",
            "   **\n",
            "    *\n"
          ]
        }
      ]
    },
    {
      "cell_type": "markdown",
      "source": [
        "Search Insert Position\n",
        "Easy\n",
        "Given a sorted array of distinct integers and a target value, write a python program to return the index if the target is found. If not, return the index where it would be if it were inserted in order."
      ],
      "metadata": {
        "id": "Ec4aVO2GmhUs"
      }
    },
    {
      "cell_type": "code",
      "source": [
        "nums= eval(input())\n",
        "target= int(input())\n",
        "def search_insert_position(nums, target):\n",
        "    left, right = 0, len(nums) - 1\n",
        "    while left <= right:\n",
        "        mid = (left + right) // 2\n",
        "        if nums[mid] == target:\n",
        "            return mid\n",
        "        elif nums[mid] < target:\n",
        "            left = mid + 1\n",
        "        else:\n",
        "            right = mid - 1\n",
        "    return left\n",
        "print(search_insert_position(nums, target))  # Output: 2\n",
        "\n"
      ],
      "metadata": {
        "id": "t3Q0WUkTklpj",
        "colab": {
          "base_uri": "https://localhost:8080/"
        },
        "outputId": "a944da09-49fd-415e-8555-58ad9fac2210"
      },
      "execution_count": null,
      "outputs": [
        {
          "output_type": "stream",
          "name": "stdout",
          "text": [
            "[1, 3, 5, 6]\n",
            "5\n",
            "2\n"
          ]
        }
      ]
    },
    {
      "cell_type": "code",
      "source": [
        "nums = [1, 3, 5, 6]\n",
        "target = 5\n",
        "print(search_insert_position(nums, target))  # Output: 2\n"
      ],
      "metadata": {
        "colab": {
          "base_uri": "https://localhost:8080/"
        },
        "id": "PMyQb-HfmuEU",
        "outputId": "fc523fdf-22d4-451e-fa07-aa6f5d66fb8c"
      },
      "execution_count": null,
      "outputs": [
        {
          "output_type": "stream",
          "name": "stdout",
          "text": [
            "2\n"
          ]
        }
      ]
    },
    {
      "cell_type": "code",
      "source": [
        "#Please ensure the platform IDE is in Python 3.x mode.\n",
        "#If you face any issue here, you may write the code on colab/jupyter. \n",
        "#Then, paste the code snippet here and run test cases.\n",
        "\n",
        "nums= eval(input())\n",
        "target= int(input())\n",
        "def searchInsert(nums, target):\n",
        "  left, right = 0, len(nums) - 1\n",
        "  while left <= right:\n",
        "        mid = (left + right) // 2\n",
        "        if nums[mid] == target:\n",
        "            return mid\n",
        "        elif nums[mid] < target:\n",
        "            left = mid + 1\n",
        "        else:\n",
        "            right = mid - 1\n",
        "    return left\n",
        "  \n"
      ],
      "metadata": {
        "colab": {
          "base_uri": "https://localhost:8080/",
          "height": 130
        },
        "id": "SaudyOFwoRpz",
        "outputId": "56c8b2e0-a09d-4c04-afba-be517ab55171"
      },
      "execution_count": null,
      "outputs": [
        {
          "output_type": "error",
          "ename": "IndentationError",
          "evalue": "ignored",
          "traceback": [
            "\u001b[0;36m  File \u001b[0;32m\"<tokenize>\"\u001b[0;36m, line \u001b[0;32m17\u001b[0m\n\u001b[0;31m    return left\u001b[0m\n\u001b[0m    ^\u001b[0m\n\u001b[0;31mIndentationError\u001b[0m\u001b[0;31m:\u001b[0m unindent does not match any outer indentation level\n"
          ]
        }
      ]
    },
    {
      "cell_type": "code",
      "source": [
        "nums = eval(input())\n",
        "target = int(input())\n",
        "def searchInsert(nums, target):\n",
        "  left, right = 0, len(nums) -1\n",
        "  while left <= rigth:\n",
        "    mid = (left + right) // 2\n",
        "    if nums[mind] == target:\n",
        "      return mid\n",
        "    elif nums[mid] < target:\n",
        "      left = mid + 1\n",
        "    else:\n",
        "      right = mid - 1\n",
        "      return left\n",
        "print(searchInsert(nums, target))\n",
        "\n",
        "    "
      ],
      "metadata": {
        "colab": {
          "base_uri": "https://localhost:8080/",
          "height": 391
        },
        "id": "o5ZEA6hWmzjg",
        "outputId": "37eacd1a-4695-41b1-a7d0-1e59e8b5e7a5"
      },
      "execution_count": null,
      "outputs": [
        {
          "name": "stdout",
          "output_type": "stream",
          "text": [
            "[1,3,5,6]\n",
            "5\n"
          ]
        },
        {
          "output_type": "error",
          "ename": "NameError",
          "evalue": "ignored",
          "traceback": [
            "\u001b[0;31m---------------------------------------------------------------------------\u001b[0m",
            "\u001b[0;31mNameError\u001b[0m                                 Traceback (most recent call last)",
            "\u001b[0;32m<ipython-input-7-4f9270d9e21b>\u001b[0m in \u001b[0;36m<module>\u001b[0;34m\u001b[0m\n\u001b[1;32m     12\u001b[0m       \u001b[0mright\u001b[0m \u001b[0;34m=\u001b[0m \u001b[0mmid\u001b[0m \u001b[0;34m-\u001b[0m \u001b[0;36m1\u001b[0m\u001b[0;34m\u001b[0m\u001b[0;34m\u001b[0m\u001b[0m\n\u001b[1;32m     13\u001b[0m       \u001b[0;32mreturn\u001b[0m \u001b[0mleft\u001b[0m\u001b[0;34m\u001b[0m\u001b[0;34m\u001b[0m\u001b[0m\n\u001b[0;32m---> 14\u001b[0;31m \u001b[0mprint\u001b[0m\u001b[0;34m(\u001b[0m\u001b[0msearchInsert\u001b[0m\u001b[0;34m(\u001b[0m\u001b[0mnums\u001b[0m\u001b[0;34m,\u001b[0m \u001b[0mtarget\u001b[0m\u001b[0;34m)\u001b[0m\u001b[0;34m)\u001b[0m\u001b[0;34m\u001b[0m\u001b[0;34m\u001b[0m\u001b[0m\n\u001b[0m\u001b[1;32m     15\u001b[0m \u001b[0;34m\u001b[0m\u001b[0m\n\u001b[1;32m     16\u001b[0m \u001b[0;34m\u001b[0m\u001b[0m\n",
            "\u001b[0;32m<ipython-input-7-4f9270d9e21b>\u001b[0m in \u001b[0;36msearchInsert\u001b[0;34m(nums, target)\u001b[0m\n\u001b[1;32m      3\u001b[0m \u001b[0;32mdef\u001b[0m \u001b[0msearchInsert\u001b[0m\u001b[0;34m(\u001b[0m\u001b[0mnums\u001b[0m\u001b[0;34m,\u001b[0m \u001b[0mtarget\u001b[0m\u001b[0;34m)\u001b[0m\u001b[0;34m:\u001b[0m\u001b[0;34m\u001b[0m\u001b[0;34m\u001b[0m\u001b[0m\n\u001b[1;32m      4\u001b[0m   \u001b[0mleft\u001b[0m\u001b[0;34m,\u001b[0m \u001b[0mright\u001b[0m \u001b[0;34m=\u001b[0m \u001b[0;36m0\u001b[0m\u001b[0;34m,\u001b[0m \u001b[0mlen\u001b[0m\u001b[0;34m(\u001b[0m\u001b[0mnums\u001b[0m\u001b[0;34m)\u001b[0m \u001b[0;34m-\u001b[0m\u001b[0;36m1\u001b[0m\u001b[0;34m\u001b[0m\u001b[0;34m\u001b[0m\u001b[0m\n\u001b[0;32m----> 5\u001b[0;31m   \u001b[0;32mwhile\u001b[0m \u001b[0mleft\u001b[0m \u001b[0;34m<=\u001b[0m \u001b[0mrigth\u001b[0m\u001b[0;34m:\u001b[0m\u001b[0;34m\u001b[0m\u001b[0;34m\u001b[0m\u001b[0m\n\u001b[0m\u001b[1;32m      6\u001b[0m     \u001b[0mmid\u001b[0m \u001b[0;34m=\u001b[0m \u001b[0;34m(\u001b[0m\u001b[0mleft\u001b[0m \u001b[0;34m+\u001b[0m \u001b[0mright\u001b[0m\u001b[0;34m)\u001b[0m \u001b[0;34m//\u001b[0m \u001b[0;36m2\u001b[0m\u001b[0;34m\u001b[0m\u001b[0;34m\u001b[0m\u001b[0m\n\u001b[1;32m      7\u001b[0m     \u001b[0;32mif\u001b[0m \u001b[0mnums\u001b[0m\u001b[0;34m[\u001b[0m\u001b[0mmind\u001b[0m\u001b[0;34m]\u001b[0m \u001b[0;34m==\u001b[0m \u001b[0mtarget\u001b[0m\u001b[0;34m:\u001b[0m\u001b[0;34m\u001b[0m\u001b[0;34m\u001b[0m\u001b[0m\n",
            "\u001b[0;31mNameError\u001b[0m: name 'rigth' is not defined"
          ]
        }
      ]
    },
    {
      "cell_type": "markdown",
      "source": [
        "Missing Number\n",
        "Easy\n",
        "Given an array nums containing n distinct numbers in the range [0, n], return the only number in the range that is missing from the array."
      ],
      "metadata": {
        "id": "tf4HqBBRrafi"
      }
    },
    {
      "cell_type": "code",
      "source": [
        "nums=eval(input())\n",
        "def missing_number(nums):\n",
        "    n = len(nums)\n",
        "    expected_sum = n * (n + 1) // 2\n",
        "    actual_sum = sum(nums)\n",
        "    return expected_sum - actual_sum\n",
        "print(missing_number(nums))\n"
      ],
      "metadata": {
        "colab": {
          "base_uri": "https://localhost:8080/"
        },
        "id": "OaLZScpCpP0Z",
        "outputId": "e9d03571-6063-424e-b2cb-c207f5868c38"
      },
      "execution_count": null,
      "outputs": [
        {
          "output_type": "stream",
          "name": "stdout",
          "text": [
            "[3,0,1]\n",
            "2\n"
          ]
        }
      ]
    },
    {
      "cell_type": "markdown",
      "source": [
        "Next Greater Element\n",
        "Easy\n",
        "The next greater element of some element x in an array is the first greater element that is to the right of x in the same array.\n",
        "\n",
        "You are given two distinct 0-indexed integer arrays nums1 and nums2, where nums1 is a subset of nums2.\n",
        "\n",
        "For each 0 <= i < nums1.length, find the index j such that nums1[i] == nums2[j] and determine the next greater element of nums2[j] in nums2. If there is no next greater element, then the answer for this query is -1.\n",
        "\n",
        "Write a python program to return an array ans of length nums1.length such that ans[i] is the next greater element as described above."
      ],
      "metadata": {
        "id": "VcpM8U-EsUJ7"
      }
    },
    {
      "cell_type": "code",
      "source": [
        "nums1=eval(input())\n",
        "nums2=eval(input())\n",
        "def next_greater_element(nums1, nums2):\n",
        "    stack = []\n",
        "    mapping = {}\n",
        "    for num in nums2:\n",
        "        while stack and stack[-1] < num:\n",
        "            mapping[stack.pop()] = num\n",
        "        stack.append(num)\n",
        "    while stack:\n",
        "        mapping[stack.pop()] = -1\n",
        "    return [mapping[num] for num in nums1]\n",
        "print(next_greater_element(nums1, nums2))"
      ],
      "metadata": {
        "colab": {
          "base_uri": "https://localhost:8080/"
        },
        "id": "AVAepRBYrrzn",
        "outputId": "fcd50b10-dec2-4e18-cbc0-f8da86603bee"
      },
      "execution_count": null,
      "outputs": [
        {
          "output_type": "stream",
          "name": "stdout",
          "text": [
            "[4,1,2]\n",
            " [1,3,4,2]\n",
            "[-1, 3, -1]\n"
          ]
        }
      ]
    },
    {
      "cell_type": "markdown",
      "source": [
        "Find K Closest Elements\n",
        "Medium\n",
        "Given a sorted integer array arr, two integers k and x, write a python program to return the k closest integers to x in the array. The result should also be sorted in ascending order.\n",
        "\n",
        "An integer a is closer to x than an integer b if:\n",
        "\n",
        "|a - x| < |b - x|, or\n",
        "|a - x| == |b - x| and a < b\n"
      ],
      "metadata": {
        "id": "b3qPTsN-uj34"
      }
    },
    {
      "cell_type": "code",
      "source": [
        "arr=eval(input())\n",
        "k=int(input())\n",
        "x=int(input())\n",
        "def find_closest_elements(arr, k, x):\n",
        "    left = 0\n",
        "    right = len(arr) - 1\n",
        "    \n",
        "    # Binary search to find the index of the element closest to x\n",
        "    while left < right:\n",
        "        mid = (left + right) // 2\n",
        "        if arr[mid] < x:\n",
        "            left = mid + 1\n",
        "        else:\n",
        "            right = mid\n",
        "            \n",
        "    # Use two pointers to find the k closest elements to x\n",
        "    left_ptr = left - 1\n",
        "    right_ptr = left\n",
        "    result = []\n",
        "    for i in range(k):\n",
        "        if left_ptr < 0:\n",
        "            result.append(arr[right_ptr])\n",
        "            right_ptr += 1\n",
        "        elif right_ptr >= len(arr):\n",
        "            result.append(arr[left_ptr])\n",
        "            left_ptr -= 1\n",
        "        else:\n",
        "            if x - arr[left_ptr] <= arr[right_ptr] - x:\n",
        "                result.append(arr[left_ptr])\n",
        "                left_ptr -= 1\n",
        "            else:\n",
        "                result.append(arr[right_ptr])\n",
        "                right_ptr += 1\n",
        "                \n",
        "    # Sort the result in ascending order\n",
        "    result.sort()\n",
        "    \n",
        "    return result\n",
        "find_closest_elements(arr, k, x)\n"
      ],
      "metadata": {
        "colab": {
          "base_uri": "https://localhost:8080/"
        },
        "id": "tjItSOils_9H",
        "outputId": "4ef7d850-470a-4bd1-e0f2-8c976ef7c5f6"
      },
      "execution_count": null,
      "outputs": [
        {
          "name": "stdout",
          "output_type": "stream",
          "text": [
            "[1, 2, 3, 4, 5]\n",
            "4\n",
            "3\n"
          ]
        },
        {
          "output_type": "execute_result",
          "data": {
            "text/plain": [
              "[1, 2, 3, 4]"
            ]
          },
          "metadata": {},
          "execution_count": 13
        }
      ]
    },
    {
      "cell_type": "markdown",
      "source": [
        "Single Number\n",
        "Easy\n",
        "Given a non-empty array of integers nums, every element appears twice except for one. Write a python program to find that single one."
      ],
      "metadata": {
        "id": "4ipIkg7yzTjw"
      }
    },
    {
      "cell_type": "code",
      "source": [
        "nums=eval(input())\n",
        "def single_number(nums):\n",
        "    result = 0\n",
        "    for num in nums:\n",
        "        result ^= num\n",
        "    return result\n",
        "print(single_number(nums))\n"
      ],
      "metadata": {
        "colab": {
          "base_uri": "https://localhost:8080/"
        },
        "id": "DDZj9PjPx3G1",
        "outputId": "153b4ea7-c944-4833-872c-dfc5125276dc"
      },
      "execution_count": null,
      "outputs": [
        {
          "output_type": "stream",
          "name": "stdout",
          "text": [
            "[2,2,1]\n",
            "1\n"
          ]
        }
      ]
    },
    {
      "cell_type": "markdown",
      "source": [
        "Majority Element\n",
        "Easy\n",
        "Given an array nums of size n, write a python program to return the majority element.\n",
        "\n",
        "The majority element is the element that appears more than ⌊n / 2⌋ times. You may assume that the majority element always exists in the array."
      ],
      "metadata": {
        "id": "GhwBCPP5e_j-"
      }
    },
    {
      "cell_type": "code",
      "source": [
        "nums=eval(input())\n",
        "\n",
        "def majorityElement(nums):\n",
        "    counts = {}\n",
        "    for num in nums:\n",
        "        if num in counts:\n",
        "            counts[num] += 1\n",
        "        else:\n",
        "            counts[num] = 1\n",
        "        if counts[num] > len(nums)//2:\n",
        "            return num\n",
        "print(majorityElement(nums))           \n"
      ],
      "metadata": {
        "id": "BHtBKKQazzH-",
        "colab": {
          "base_uri": "https://localhost:8080/"
        },
        "outputId": "39e2c95d-177e-4177-e7e6-cfc263a70967"
      },
      "execution_count": null,
      "outputs": [
        {
          "output_type": "stream",
          "name": "stdout",
          "text": [
            "[3, 2, 3]\n",
            "3\n"
          ]
        }
      ]
    },
    {
      "cell_type": "markdown",
      "source": [
        "Intersection of Two Arrays\n",
        "Easy\n",
        "Given two integer arrays nums1 and nums2, write a python program to return an array of their intersection. Each element in the result must be unique and you may return the result in any order."
      ],
      "metadata": {
        "id": "eK9Y5LZtfOzP"
      }
    },
    {
      "cell_type": "code",
      "source": [
        "set1=eval(input())\n",
        "set2=eval(input())\n",
        "def set_intersection(set1, set2):\n",
        "    set3 = set(set1)\n",
        "    set4 = set(set2)\n",
        "    return list(set3 & set4)\n",
        "print(set_intersection(set1,set2))\n"
      ],
      "metadata": {
        "id": "bbl8qJ1lVtBx",
        "colab": {
          "base_uri": "https://localhost:8080/"
        },
        "outputId": "7d02e453-7bdf-4d1b-baf1-c621eeeb11fb"
      },
      "execution_count": null,
      "outputs": [
        {
          "output_type": "stream",
          "name": "stdout",
          "text": [
            "[1, 2, 2, 1]\n",
            "[2, 2]\n",
            "[2]\n"
          ]
        }
      ]
    },
    {
      "cell_type": "markdown",
      "source": [
        "Partition Array Into Three Parts With Equal Sum\n",
        "Easy\n",
        "Given an array of integers arr, write a python program to return true if we can partition the array into three non-empty parts with equal sums.\n",
        "\n",
        "Formally, we can partition the array if we can find indexes i + 1 < j with (arr[0] + arr[1] + ... + arr[i] == arr[i + 1] + arr[i + 2] + ... + arr[j - 1] == arr[j] + arr[j + 1] + ... + arr[arr.length - 1])"
      ],
      "metadata": {
        "id": "bEv-yrRkgcNl"
      }
    },
    {
      "cell_type": "code",
      "source": [
        "arr=eval(input())\n",
        "def canThreePartsEqualSum(arr):\n",
        "    total_sum = sum(arr)\n",
        "    if total_sum % 3 != 0:\n",
        "        return False\n",
        "    target_sum = total_sum // 3\n",
        "    current_sum = 0\n",
        "    count = 0\n",
        "    for num in arr:\n",
        "        current_sum += num\n",
        "        if current_sum == target_sum:\n",
        "            current_sum = 0\n",
        "            count += 1\n",
        "    return count >= 3\n",
        "print(canThreePartsEqualSum(arr))\n",
        "\n"
      ],
      "metadata": {
        "id": "-fPTZ9CxWQbl",
        "colab": {
          "base_uri": "https://localhost:8080/"
        },
        "outputId": "d84f2843-1a73-42cc-8759-1438fd8eb569"
      },
      "execution_count": null,
      "outputs": [
        {
          "output_type": "stream",
          "name": "stdout",
          "text": [
            "[0,2,1,-6,6,-7,9,1,2,0,1]\n",
            "True\n"
          ]
        }
      ]
    },
    {
      "cell_type": "markdown",
      "source": [
        "Find Closest Number to Zero\n",
        "Easy\n",
        "Given an integer array nums of size n, write a python program to return the number with the value closest to 0 in nums. If there are multiple answers, return the number with the largest value."
      ],
      "metadata": {
        "id": "zQHBZ-Kag6Z5"
      }
    },
    {
      "cell_type": "code",
      "source": [
        "\n",
        "nums=eval(input())\n",
        "def findClosestNumber(nums):\n",
        "    closest = float('inf')\n",
        "    for num in nums:\n",
        "        if abs(num) < abs(closest):\n",
        "            closest = num\n",
        "        elif abs(num) == abs(closest) and num > closest:\n",
        "            closest = num\n",
        "    return closest\n",
        "print(findClosestNumber(nums))\n"
      ],
      "metadata": {
        "colab": {
          "base_uri": "https://localhost:8080/"
        },
        "id": "PAv2KlECg5zE",
        "outputId": "35f5feaf-e2ef-48f3-cce4-a607081550c5"
      },
      "execution_count": null,
      "outputs": [
        {
          "output_type": "stream",
          "name": "stdout",
          "text": [
            "[1, -2, 3, -4, 5]\n",
            "1\n"
          ]
        }
      ]
    },
    {
      "cell_type": "markdown",
      "source": [
        "Degree of an Array\n",
        "Medium\n",
        "Given a non-empty array of non-negative integers nums, the degree of this array is defined as the maximum frequency of any one of its elements.\n",
        "\n",
        "Write a python program to find the smallest possible length of a (contiguous) subarray of nums, that has the same degree as nums."
      ],
      "metadata": {
        "id": "qF4L6DNkhkgy"
      }
    },
    {
      "cell_type": "code",
      "source": [
        "nums=eval(input())\n",
        "def findShortestSubArray(nums):\n",
        "    degree = 0\n",
        "    freq = {}\n",
        "    first_index = {}\n",
        "    shortest = len(nums)\n",
        "    for i, num in enumerate(nums):\n",
        "        if num not in freq:\n",
        "            freq[num] = 1\n",
        "            first_index[num] = i\n",
        "        else:\n",
        "            freq[num] += 1\n",
        "        if freq[num] > degree:\n",
        "            degree = freq[num]\n",
        "        elif freq[num] == degree:\n",
        "            shortest = min(shortest, i - first_index[num] + 2)\n",
        "    return shortest\n",
        "print(findShortestSubArray(nums))"
      ],
      "metadata": {
        "colab": {
          "base_uri": "https://localhost:8080/"
        },
        "id": "elhKSCqTgqhk",
        "outputId": "c9beff93-4d33-4524-9f61-47946363ac09"
      },
      "execution_count": null,
      "outputs": [
        {
          "output_type": "stream",
          "name": "stdout",
          "text": [
            "[1, 2, 2, 3, 1]\n",
            "2\n"
          ]
        }
      ]
    },
    {
      "cell_type": "code",
      "source": [
        "def findShortestSubArray(nums):\n",
        "    degree = 0\n",
        "    freq = {}\n",
        "    first_index = {}\n",
        "    shortest = len(nums)\n",
        "    for i, num in enumerate(nums):\n",
        "        if num not in freq:\n",
        "            freq[num] = 1\n",
        "            first_index[num] = i\n",
        "        else:\n",
        "            freq[num] += 1\n",
        "        if freq[num] > degree:\n",
        "            degree = freq[num]\n",
        "        elif freq[num] == degree:\n",
        "            shortest = min(shortest, i - first_index[num] + 2)\n",
        "    return shortest\n"
      ],
      "metadata": {
        "id": "-xPAlgCuh0Ga"
      },
      "execution_count": null,
      "outputs": []
    },
    {
      "cell_type": "code",
      "source": [
        "def findShortestSubArray(nums):\n",
        "    degree = 0\n",
        "    freq = {}\n",
        "    first_index = {}\n",
        "    shortest = len(nums)\n",
        "    for i, num in enumerate(nums):\n",
        "        if num not in freq:\n",
        "            freq[num] = 1\n",
        "            first_index[num] = i\n",
        "        else:\n",
        "            freq[num] += 1\n",
        "        if freq[num] > degree:\n",
        "            degree = freq[num]\n",
        "        elif freq[num] == degree:\n",
        "            shortest = min(shortest, i - first_index[num] + 1)\n",
        "    return shortest\n"
      ],
      "metadata": {
        "id": "IKybpOjGjU8q"
      },
      "execution_count": null,
      "outputs": []
    },
    {
      "cell_type": "code",
      "source": [
        "nums = [1, 2, 2, 3, 1]\n",
        "findShortestSubArray(nums)"
      ],
      "metadata": {
        "colab": {
          "base_uri": "https://localhost:8080/"
        },
        "id": "V_S5gBX-iNhz",
        "outputId": "d716eec6-e95b-4594-8211-6406dc8973fb"
      },
      "execution_count": null,
      "outputs": [
        {
          "output_type": "execute_result",
          "data": {
            "text/plain": [
              "1"
            ]
          },
          "metadata": {},
          "execution_count": 14
        }
      ]
    },
    {
      "cell_type": "markdown",
      "source": [
        "week 3 day4"
      ],
      "metadata": {
        "id": "b_RFerYxCZ6Z"
      }
    },
    {
      "cell_type": "markdown",
      "source": [
        "Sum of Digits\n",
        "Easy\n",
        "Write a Python program using recursion to get the sum of a non-negative integer."
      ],
      "metadata": {
        "id": "jjB9tKSXCguS"
      }
    },
    {
      "cell_type": "code",
      "source": [
        "n=int(input())\n",
        "def sumDigits(n):\n",
        "  if n == 0:\n",
        "    return 0\n",
        "  else:\n",
        "    return n % 10 + sumDigits(int(n / 10))\n",
        "\n",
        "print(sumDigits(n))"
      ],
      "metadata": {
        "id": "TEXhriUSiSaA",
        "colab": {
          "base_uri": "https://localhost:8080/"
        },
        "outputId": "1d4024d2-cb1f-4ab7-ae54-48cd29b54181"
      },
      "execution_count": null,
      "outputs": [
        {
          "output_type": "stream",
          "name": "stdout",
          "text": [
            "345\n",
            "12\n"
          ]
        }
      ]
    },
    {
      "cell_type": "markdown",
      "source": [
        "Sum of series\n",
        "Easy\n",
        "Write a Python program to calculate the sum of the positive integers of n+(n-2)+(n-4)... (until n-x =< 0) using recursion."
      ],
      "metadata": {
        "id": "qQrFzrlgDHmS"
      }
    },
    {
      "cell_type": "code",
      "source": [
        "n=int(input())\n",
        "def sum_series(n):\n",
        "     if n < 1:\n",
        "         return 0\n",
        "     else:\n",
        "         return n + sum_series(n - 2)\n",
        "print(sum_series(n))"
      ],
      "metadata": {
        "colab": {
          "base_uri": "https://localhost:8080/"
        },
        "id": "TfZQU2ELCkgk",
        "outputId": "9a251c5b-3a8e-4eb8-c96f-4c75cd097e84"
      },
      "execution_count": null,
      "outputs": [
        {
          "output_type": "stream",
          "name": "stdout",
          "text": [
            "6\n",
            "12\n"
          ]
        }
      ]
    },
    {
      "cell_type": "markdown",
      "source": [
        "Geometric Sum\n",
        "Easy\n",
        "Write a Python program using recursion to calculate the geometric sum of n-1.\n",
        "\n",
        "Note : In mathematics, a geometric series is a series with a constant ratio between successive terms."
      ],
      "metadata": {
        "id": "XbHht5wJD-gl"
      }
    },
    {
      "cell_type": "code",
      "source": [
        "n=int(input())\n",
        "def geometric_sum(n):\n",
        "    if n == 0:\n",
        "        return 1\n",
        "    else:\n",
        "        return 1/(2**n) + geometric_sum(n-1)\n",
        "print(geometric_sum(n))"
      ],
      "metadata": {
        "colab": {
          "base_uri": "https://localhost:8080/"
        },
        "id": "NJpu1BU3DE4_",
        "outputId": "3b37f452-d2ba-4935-b6e7-6d4ce4df8a71"
      },
      "execution_count": null,
      "outputs": [
        {
          "output_type": "stream",
          "name": "stdout",
          "text": [
            "7\n",
            "1.9921875\n"
          ]
        }
      ]
    },
    {
      "cell_type": "markdown",
      "source": [
        "Calculate a^b\n",
        "Easy\n",
        "Write a Python program using recursion to calculate the value of 'a' to the power 'b'.\n",
        "\n",
        "Test Data: (power(3,4) -> 81"
      ],
      "metadata": {
        "id": "WfgAf7xpEOXE"
      }
    },
    {
      "cell_type": "code",
      "source": [
        "a=int(input())\n",
        "b=int(input())\n",
        "def power(a,b):\n",
        "    if b == 0:\n",
        "        return 1\n",
        "    else:\n",
        "        return a * power(a, b-1)\n",
        "print(power(a,b))"
      ],
      "metadata": {
        "colab": {
          "base_uri": "https://localhost:8080/"
        },
        "id": "g9NY8ss1DrJL",
        "outputId": "0fce064b-5d7c-4b08-b3a1-4c6091e3c27c"
      },
      "execution_count": null,
      "outputs": [
        {
          "output_type": "stream",
          "name": "stdout",
          "text": [
            "3\n",
            "4\n",
            "81\n"
          ]
        }
      ]
    },
    {
      "cell_type": "markdown",
      "source": [
        "Greatest Common Divisor\n",
        "Easy\n",
        "Write a Python program using recursion to find the greatest common divisor (gcd) of two integers."
      ],
      "metadata": {
        "id": "kY8ShFFoE6w1"
      }
    },
    {
      "cell_type": "code",
      "source": [
        "a=int(input())\n",
        "b=int(input())\n",
        "def Recurgcd(a, b):\n",
        "    if b == 0:\n",
        "        return a\n",
        "    else:\n",
        "        return Recurgcd(b, a % b)\n",
        "print(Recurgcd(a,b))"
      ],
      "metadata": {
        "colab": {
          "base_uri": "https://localhost:8080/"
        },
        "id": "pN_9kaVUEmKk",
        "outputId": "2fc3a89c-23be-4742-ad80-ddc122c5ea22"
      },
      "execution_count": null,
      "outputs": [
        {
          "output_type": "stream",
          "name": "stdout",
          "text": [
            "12\n",
            "14\n",
            "2\n"
          ]
        }
      ]
    },
    {
      "cell_type": "code",
      "source": [],
      "metadata": {
        "id": "beKmkIYgFeff"
      },
      "execution_count": null,
      "outputs": []
    }
  ]
}